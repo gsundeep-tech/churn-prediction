{
 "cells": [
  {
   "cell_type": "code",
   "execution_count": 1,
   "id": "fd52394b-3ef3-4cb7-861a-4cba8ded8e89",
   "metadata": {},
   "outputs": [],
   "source": [
    "import numpy as np\n",
    "import pandas as pd"
   ]
  },
  {
   "cell_type": "code",
   "execution_count": 2,
   "id": "01913294-43f9-479f-9471-edbf75c66df5",
   "metadata": {},
   "outputs": [],
   "source": [
    "data = pd.read_csv('./../data/train.csv', dtype={\n",
    "                    'cust_id': 'category',\n",
    "                    'gender': 'category',\n",
    "                    'age': 'int8',\n",
    "                    'driving_license': 'int8',\n",
    "                    'region_code': 'category',\n",
    "                    'previously_insured': 'int8',\n",
    "                    'vehicle_age': 'category',\n",
    "                    'vehicle_damage': 'category',\n",
    "                    'annual_premium': 'float16',\n",
    "                    'policy_sales_channel': 'category',\n",
    "                    'days_since_insured': 'int8',\n",
    "                    'response': 'int8',\n",
    "                 })"
   ]
  },
  {
   "cell_type": "code",
   "execution_count": 3,
   "id": "a583ff1e-112a-4d5e-86d7-c82e136f5488",
   "metadata": {},
   "outputs": [
    {
     "data": {
      "text/html": [
       "<div>\n",
       "<style scoped>\n",
       "    .dataframe tbody tr th:only-of-type {\n",
       "        vertical-align: middle;\n",
       "    }\n",
       "\n",
       "    .dataframe tbody tr th {\n",
       "        vertical-align: top;\n",
       "    }\n",
       "\n",
       "    .dataframe thead th {\n",
       "        text-align: right;\n",
       "    }\n",
       "</style>\n",
       "<table border=\"1\" class=\"dataframe\">\n",
       "  <thead>\n",
       "    <tr style=\"text-align: right;\">\n",
       "      <th></th>\n",
       "      <th>cust_id</th>\n",
       "      <th>gender</th>\n",
       "      <th>age</th>\n",
       "      <th>driving_license</th>\n",
       "      <th>region_code</th>\n",
       "      <th>previously_insured</th>\n",
       "      <th>vehicle_age</th>\n",
       "      <th>vehicle_damage</th>\n",
       "      <th>annual_premium</th>\n",
       "      <th>policy_sales_channel</th>\n",
       "      <th>days_since_insured</th>\n",
       "      <th>response</th>\n",
       "    </tr>\n",
       "  </thead>\n",
       "  <tbody>\n",
       "    <tr>\n",
       "      <th>0</th>\n",
       "      <td>167647</td>\n",
       "      <td>Male</td>\n",
       "      <td>22</td>\n",
       "      <td>1</td>\n",
       "      <td>7.0</td>\n",
       "      <td>1</td>\n",
       "      <td>&lt; 1 Year</td>\n",
       "      <td>No</td>\n",
       "      <td>52.59375</td>\n",
       "      <td>152.0</td>\n",
       "      <td>16</td>\n",
       "      <td>0</td>\n",
       "    </tr>\n",
       "    <tr>\n",
       "      <th>1</th>\n",
       "      <td>17163</td>\n",
       "      <td>Male</td>\n",
       "      <td>42</td>\n",
       "      <td>1</td>\n",
       "      <td>28.0</td>\n",
       "      <td>0</td>\n",
       "      <td>1-2 Year</td>\n",
       "      <td>Yes</td>\n",
       "      <td>866.50000</td>\n",
       "      <td>26.0</td>\n",
       "      <td>-121</td>\n",
       "      <td>0</td>\n",
       "    </tr>\n",
       "    <tr>\n",
       "      <th>2</th>\n",
       "      <td>32023</td>\n",
       "      <td>Female</td>\n",
       "      <td>66</td>\n",
       "      <td>1</td>\n",
       "      <td>33.0</td>\n",
       "      <td>0</td>\n",
       "      <td>1-2 Year</td>\n",
       "      <td>Yes</td>\n",
       "      <td>717.00000</td>\n",
       "      <td>124.0</td>\n",
       "      <td>-3</td>\n",
       "      <td>0</td>\n",
       "    </tr>\n",
       "    <tr>\n",
       "      <th>3</th>\n",
       "      <td>87447</td>\n",
       "      <td>Female</td>\n",
       "      <td>22</td>\n",
       "      <td>1</td>\n",
       "      <td>33.0</td>\n",
       "      <td>0</td>\n",
       "      <td>&lt; 1 Year</td>\n",
       "      <td>No</td>\n",
       "      <td>553.00000</td>\n",
       "      <td>152.0</td>\n",
       "      <td>69</td>\n",
       "      <td>0</td>\n",
       "    </tr>\n",
       "    <tr>\n",
       "      <th>4</th>\n",
       "      <td>501933</td>\n",
       "      <td>Male</td>\n",
       "      <td>28</td>\n",
       "      <td>1</td>\n",
       "      <td>46.0</td>\n",
       "      <td>1</td>\n",
       "      <td>&lt; 1 Year</td>\n",
       "      <td>No</td>\n",
       "      <td>580.50000</td>\n",
       "      <td>152.0</td>\n",
       "      <td>-45</td>\n",
       "      <td>0</td>\n",
       "    </tr>\n",
       "  </tbody>\n",
       "</table>\n",
       "</div>"
      ],
      "text/plain": [
       "  cust_id  gender  age  driving_license region_code  previously_insured  \\\n",
       "0  167647    Male   22                1         7.0                   1   \n",
       "1   17163    Male   42                1        28.0                   0   \n",
       "2   32023  Female   66                1        33.0                   0   \n",
       "3   87447  Female   22                1        33.0                   0   \n",
       "4  501933    Male   28                1        46.0                   1   \n",
       "\n",
       "  vehicle_age vehicle_damage  annual_premium policy_sales_channel  \\\n",
       "0    < 1 Year             No        52.59375                152.0   \n",
       "1    1-2 Year            Yes       866.50000                 26.0   \n",
       "2    1-2 Year            Yes       717.00000                124.0   \n",
       "3    < 1 Year             No       553.00000                152.0   \n",
       "4    < 1 Year             No       580.50000                152.0   \n",
       "\n",
       "   days_since_insured  response  \n",
       "0                  16         0  \n",
       "1                -121         0  \n",
       "2                  -3         0  \n",
       "3                  69         0  \n",
       "4                 -45         0  "
      ]
     },
     "execution_count": 3,
     "metadata": {},
     "output_type": "execute_result"
    }
   ],
   "source": [
    "data.head()"
   ]
  },
  {
   "cell_type": "code",
   "execution_count": 4,
   "id": "26bb1838-6966-4cb8-9a37-cf6cb2b155ef",
   "metadata": {},
   "outputs": [
    {
     "data": {
      "text/plain": [
       "array([0, 1], dtype=int8)"
      ]
     },
     "execution_count": 4,
     "metadata": {},
     "output_type": "execute_result"
    }
   ],
   "source": [
    "data['response'].unique()"
   ]
  },
  {
   "cell_type": "code",
   "execution_count": 5,
   "id": "231fe1fa-f36c-40db-b26b-005c89dd5b97",
   "metadata": {},
   "outputs": [],
   "source": [
    "def change_vehicle_age_values(x):\n",
    "    if x == \"< 1 Year\":\n",
    "        return \"lt_1_year\"\n",
    "    elif x == \"1-2 Year\":\n",
    "        return \"bt_1_2_year\"\n",
    "    else:\n",
    "        return \"gt_2_year\""
   ]
  },
  {
   "cell_type": "code",
   "execution_count": 6,
   "id": "1f3e123c-2469-4155-98af-1c36f8c961a7",
   "metadata": {},
   "outputs": [],
   "source": [
    "data['vehicle_age'] = data['vehicle_age'].apply(change_vehicle_age_values)"
   ]
  },
  {
   "cell_type": "code",
   "execution_count": 7,
   "id": "7cb9e2d6-792d-45b6-8771-270168c435d4",
   "metadata": {},
   "outputs": [
    {
     "data": {
      "text/plain": [
       "['lt_1_year', 'bt_1_2_year', 'gt_2_year']\n",
       "Categories (3, object): ['bt_1_2_year', 'lt_1_year', 'gt_2_year']"
      ]
     },
     "execution_count": 7,
     "metadata": {},
     "output_type": "execute_result"
    }
   ],
   "source": [
    "data['vehicle_age'].unique()"
   ]
  },
  {
   "cell_type": "code",
   "execution_count": 8,
   "id": "c0fd0fa8-d6b2-4624-8aaf-f054f865f45f",
   "metadata": {},
   "outputs": [],
   "source": [
    "train_data = data"
   ]
  },
  {
   "cell_type": "code",
   "execution_count": 9,
   "id": "1aaceeb8-a123-41c3-bdac-45e38d81f489",
   "metadata": {},
   "outputs": [
    {
     "data": {
      "text/plain": [
       "Index(['cust_id', 'gender', 'age', 'driving_license', 'region_code',\n",
       "       'previously_insured', 'vehicle_age', 'vehicle_damage', 'annual_premium',\n",
       "       'policy_sales_channel', 'days_since_insured', 'response'],\n",
       "      dtype='object')"
      ]
     },
     "execution_count": 9,
     "metadata": {},
     "output_type": "execute_result"
    }
   ],
   "source": [
    "train_data.columns"
   ]
  },
  {
   "cell_type": "code",
   "execution_count": 10,
   "id": "fad2a589-1220-4451-9496-f2fefa4d44ac",
   "metadata": {},
   "outputs": [],
   "source": [
    "# XG BOOST experiments"
   ]
  },
  {
   "cell_type": "code",
   "execution_count": 11,
   "id": "8596cad6-a3f0-4e27-8ac0-6e0360756d7f",
   "metadata": {},
   "outputs": [],
   "source": [
    "import sklearn"
   ]
  },
  {
   "cell_type": "code",
   "execution_count": 12,
   "id": "90413ff2-7721-4ba2-bb37-efe33981323d",
   "metadata": {},
   "outputs": [],
   "source": [
    "from sklearn.pipeline import Pipeline\n",
    "from sklearn.preprocessing import RobustScaler, OrdinalEncoder, OneHotEncoder\n",
    "from sklearn.impute import SimpleImputer"
   ]
  },
  {
   "cell_type": "code",
   "execution_count": 13,
   "id": "f50588fe-d922-4e03-97af-f4689559550f",
   "metadata": {},
   "outputs": [
    {
     "data": {
      "text/plain": [
       "'1.1.1'"
      ]
     },
     "execution_count": 13,
     "metadata": {},
     "output_type": "execute_result"
    }
   ],
   "source": [
    "sklearn.__version__"
   ]
  },
  {
   "cell_type": "code",
   "execution_count": 14,
   "id": "263fbdb9-1a12-4114-b50d-1c01f82dd38c",
   "metadata": {},
   "outputs": [],
   "source": [
    "num_features = train_data[['age', 'annual_premium', 'days_since_insured']]"
   ]
  },
  {
   "cell_type": "code",
   "execution_count": 15,
   "id": "4e42905b-68a1-4c4e-8a68-c7487d0bf982",
   "metadata": {},
   "outputs": [],
   "source": [
    "cat_features = train_data[['gender', 'driving_license', 'previously_insured', 'vehicle_age', 'vehicle_damage', 'response']]"
   ]
  },
  {
   "cell_type": "code",
   "execution_count": 16,
   "id": "04c52676-40f0-4584-a748-c3f92f7c7527",
   "metadata": {},
   "outputs": [],
   "source": [
    "cardinality_features = train_data[['region_code', 'policy_sales_channel']]"
   ]
  },
  {
   "cell_type": "code",
   "execution_count": 17,
   "id": "690d7a1d-d976-4ee6-b46b-0be5df383a26",
   "metadata": {},
   "outputs": [],
   "source": [
    "num_pipeline = Pipeline([\n",
    "    ('imputer1', SimpleImputer(strategy='constant', fill_value=0)),\n",
    "    ('scaler1', RobustScaler())\n",
    "])"
   ]
  },
  {
   "cell_type": "code",
   "execution_count": 18,
   "id": "47595ad7-add4-4625-8d07-39ead1201de4",
   "metadata": {},
   "outputs": [],
   "source": [
    "num_transformed = num_pipeline.fit_transform(num_features)"
   ]
  },
  {
   "cell_type": "code",
   "execution_count": 19,
   "id": "856b0a3b-d3b6-4a77-9fd8-c12fb2f78a35",
   "metadata": {},
   "outputs": [
    {
     "data": {
      "text/plain": [
       "array([[-0.5835 , -1.951  ,  0.02702],\n",
       "       [ 0.25   ,  0.7803 , -1.207  ],\n",
       "       [ 1.25   ,  0.2786 , -0.1442 ],\n",
       "       ...,\n",
       "       [ 0.375  ,  0.5874 , -0.739  ],\n",
       "       [-0.3333 , -0.4246 , -0.5493 ],\n",
       "       [-0.2917 , -0.0872 ,  0.82   ]], dtype=float16)"
      ]
     },
     "execution_count": 19,
     "metadata": {},
     "output_type": "execute_result"
    }
   ],
   "source": [
    "num_transformed"
   ]
  },
  {
   "cell_type": "code",
   "execution_count": 20,
   "id": "f9f2b72f-d30d-443a-b29c-23a02feb4d6c",
   "metadata": {},
   "outputs": [],
   "source": [
    "cat_pipeline = Pipeline([\n",
    "    (\"imputer\", SimpleImputer(strategy=\"constant\", fill_value='most_frequent')),\n",
    "    (\"encoder\", OneHotEncoder()),\n",
    "])"
   ]
  },
  {
   "cell_type": "code",
   "execution_count": 21,
   "id": "faf575b9-6456-4b07-acf0-8f1516a3e31a",
   "metadata": {},
   "outputs": [],
   "source": [
    "cat_transformed = cat_pipeline.fit_transform(cat_features)"
   ]
  },
  {
   "cell_type": "code",
   "execution_count": 22,
   "id": "15f7d4ac-68c4-438a-bd0f-b2af2f4b550f",
   "metadata": {},
   "outputs": [
    {
     "data": {
      "text/plain": [
       "<382154x13 sparse matrix of type '<class 'numpy.float64'>'\n",
       "\twith 2292924 stored elements in Compressed Sparse Row format>"
      ]
     },
     "execution_count": 22,
     "metadata": {},
     "output_type": "execute_result"
    }
   ],
   "source": [
    "cat_transformed"
   ]
  },
  {
   "cell_type": "code",
   "execution_count": 23,
   "id": "10b28733-5234-451e-a0b7-5a42ddb53db5",
   "metadata": {},
   "outputs": [],
   "source": [
    "# from category_encoders.leave_one_out import LeaveOneOutEncoder"
   ]
  },
  {
   "cell_type": "code",
   "execution_count": 24,
   "id": "ce1466e0-e608-4bc7-b019-60ccd836e6db",
   "metadata": {},
   "outputs": [],
   "source": [
    "cardinality_pipeline = Pipeline(steps=[\n",
    "    (\"imputer\", SimpleImputer(strategy=\"constant\", fill_value='most_frequent')),\n",
    "    (\"encoder\", OrdinalEncoder())\n",
    "])"
   ]
  },
  {
   "cell_type": "code",
   "execution_count": 25,
   "id": "cb65ed5e-d5c3-4eaf-bb00-c24909e7f30c",
   "metadata": {},
   "outputs": [],
   "source": [
    "cardinality_transformed = cardinality_pipeline.fit_transform(cardinality_features)"
   ]
  },
  {
   "cell_type": "code",
   "execution_count": 26,
   "id": "42800ecd-8142-49b9-a29e-2a45867b5a5e",
   "metadata": {},
   "outputs": [
    {
     "data": {
      "text/plain": [
       "array([[50., 58.],\n",
       "       [21., 79.],\n",
       "       [27., 28.],\n",
       "       ...,\n",
       "       [21., 79.],\n",
       "       [21., 58.],\n",
       "       [10., 58.]])"
      ]
     },
     "execution_count": 26,
     "metadata": {},
     "output_type": "execute_result"
    }
   ],
   "source": [
    "cardinality_transformed"
   ]
  },
  {
   "cell_type": "code",
   "execution_count": 27,
   "id": "8ea8bd67-5463-4484-8fab-ceb2ef53b5c3",
   "metadata": {},
   "outputs": [],
   "source": [
    "from sklearn.base import BaseEstimator, TransformerMixin\n",
    "from sklearn.impute import SimpleImputer\n",
    "from sklearn.preprocessing import StandardScaler\n",
    "from sklearn.preprocessing import OneHotEncoder, LabelEncoder\n",
    "from sklearn.pipeline import FeatureUnion\n",
    "from sklearn.compose import ColumnTransformer\n",
    "from sklearn.pipeline import Pipeline\n",
    "\n",
    "from sklearn.pipeline import Pipeline\n",
    "from sklearn.preprocessing import RobustScaler, OrdinalEncoder, OneHotEncoder\n",
    "from sklearn.impute import SimpleImputer"
   ]
  },
  {
   "cell_type": "code",
   "execution_count": 28,
   "id": "8d6f28c3-821b-4598-b713-aaf3c4a6fc84",
   "metadata": {},
   "outputs": [],
   "source": [
    "class DataFrameSelector(BaseEstimator, TransformerMixin):\n",
    "    def __init__(self, features):\n",
    "        self.features = features\n",
    "    \n",
    "    def fit(self, X, y=None):\n",
    "        return self\n",
    "    \n",
    "    def transform(self, X, y=None):\n",
    "        # return X[self.features].values\n",
    "        return X[[self.features]]\n",
    "\n",
    "class DummySelector(BaseEstimator, TransformerMixin):\n",
    "    def fit(self, X, y=None):\n",
    "        return self\n",
    "    \n",
    "    def transform(self, X, y=None, **fit_params):\n",
    "        return X\n",
    "    \n",
    "    def get_feature_names_out(self, *args, **kwargs):\n",
    "        return args[0]"
   ]
  },
  {
   "cell_type": "code",
   "execution_count": 29,
   "id": "36fcd3d4-c317-4b74-8ac6-d78c49052554",
   "metadata": {},
   "outputs": [],
   "source": [
    "pipeline = ColumnTransformer([\n",
    "    ('id', DummySelector(), ['cust_id']),\n",
    "    ('target', DummySelector(), ['response']),\n",
    "], sparse_threshold=0, verbose_feature_names_out=True)"
   ]
  },
  {
   "cell_type": "code",
   "execution_count": 30,
   "id": "6685fea9-f60d-4759-a54b-ea20a5819559",
   "metadata": {},
   "outputs": [
    {
     "data": {
      "text/plain": [
       "array([['167647', 0],\n",
       "       ['17163', 0],\n",
       "       ['32023', 0],\n",
       "       ...,\n",
       "       ['165293', 0],\n",
       "       ['383241', 0],\n",
       "       ['401019', 0]], dtype=object)"
      ]
     },
     "execution_count": 30,
     "metadata": {},
     "output_type": "execute_result"
    }
   ],
   "source": [
    "pipeline.fit_transform(train_data)"
   ]
  },
  {
   "cell_type": "code",
   "execution_count": 31,
   "id": "96b75695-0b63-49df-97fa-1fc10b8a1c7b",
   "metadata": {},
   "outputs": [
    {
     "data": {
      "text/plain": [
       "array(['id__cust_id', 'target__response'], dtype=object)"
      ]
     },
     "execution_count": 31,
     "metadata": {},
     "output_type": "execute_result"
    }
   ],
   "source": [
    "pipeline.get_feature_names_out()"
   ]
  },
  {
   "cell_type": "code",
   "execution_count": 32,
   "id": "3836c522-9b5e-4137-9394-cfb5cfafadfb",
   "metadata": {},
   "outputs": [],
   "source": [
    "num_features = ['age', 'annual_premium', 'days_since_insured']\n",
    "num_pipeline = Pipeline([\n",
    "    ('imputer1', SimpleImputer(strategy='constant', fill_value=0)),\n",
    "    ('scaler1', RobustScaler())\n",
    "])"
   ]
  },
  {
   "cell_type": "code",
   "execution_count": 33,
   "id": "6ef9f435-2c2a-473c-becf-00e671d158d9",
   "metadata": {},
   "outputs": [],
   "source": [
    "cat_features = ['gender', 'driving_license', 'previously_insured', 'vehicle_age', 'vehicle_damage']\n",
    "cat_pipeline = Pipeline([\n",
    "    # ('cat_features', DataFrameSelector(cat_features)),\n",
    "    (\"imputer\", SimpleImputer(missing_values='NONE', strategy=\"constant\", fill_value='OTHER')),\n",
    "    (\"encoder\", OneHotEncoder()),\n",
    "])"
   ]
  },
  {
   "cell_type": "code",
   "execution_count": 34,
   "id": "45d32a59-f1ef-407b-905c-4b724b368556",
   "metadata": {},
   "outputs": [],
   "source": [
    "cardinality_features = ['region_code', 'policy_sales_channel']\n",
    "cardinality_pipeline = Pipeline([\n",
    "    # ('cardinality_features', DataFrameSelector(cardinality_features)),\n",
    "    (\"imputer\", SimpleImputer(missing_values='NONE', strategy=\"constant\", fill_value='OTHER')),\n",
    "    (\"encoder\", OrdinalEncoder()),\n",
    "])"
   ]
  },
  {
   "cell_type": "code",
   "execution_count": 35,
   "id": "92fd152e-f9a5-413e-8c10-c1964bf74a6b",
   "metadata": {},
   "outputs": [],
   "source": [
    "target_feature = ['response']\n",
    "target_pipeline = Pipeline([\n",
    "    (\"encoder\", OneHotEncoder()),\n",
    "])"
   ]
  },
  {
   "cell_type": "code",
   "execution_count": 36,
   "id": "f7750b94-fe80-4a35-9599-11896ea85e74",
   "metadata": {},
   "outputs": [],
   "source": [
    "target_transformed = target_pipeline.fit_transform(train_data[['response']])"
   ]
  },
  {
   "cell_type": "code",
   "execution_count": 37,
   "id": "60d674fe-e424-42b7-9a74-47057cfc64c2",
   "metadata": {},
   "outputs": [
    {
     "data": {
      "text/plain": [
       "<382154x2 sparse matrix of type '<class 'numpy.float64'>'\n",
       "\twith 382154 stored elements in Compressed Sparse Row format>"
      ]
     },
     "execution_count": 37,
     "metadata": {},
     "output_type": "execute_result"
    }
   ],
   "source": [
    "target_transformed"
   ]
  },
  {
   "cell_type": "code",
   "execution_count": 38,
   "id": "76418dbc-1db3-4b6c-81b2-e130756a9635",
   "metadata": {},
   "outputs": [],
   "source": [
    "pipeline = FeatureUnion([\n",
    "    ('num_pipeline', num_pipeline), \n",
    "    ('cat_pipeline', cat_pipeline),\n",
    "    ('cardinality_pipeline', cardinality_pipeline)\n",
    "])"
   ]
  },
  {
   "cell_type": "code",
   "execution_count": 41,
   "id": "baeeb507-82cb-4ec1-953f-f18ffee6ac89",
   "metadata": {},
   "outputs": [],
   "source": [
    "pipeline = ColumnTransformer([\n",
    "    ('id', DummySelector(), ['cust_id']),\n",
    "    ('num', num_pipeline, num_features), \n",
    "    ('cat', cat_pipeline, cat_features),\n",
    "    ('car', cardinality_pipeline, cardinality_features)\n",
    "], sparse_threshold=0, verbose_feature_names_out=True)"
   ]
  },
  {
   "cell_type": "code",
   "execution_count": 42,
   "id": "3506fd0d-a9cc-4625-a812-46dc5bfa86e1",
   "metadata": {},
   "outputs": [
    {
     "data": {
      "text/html": [
       "<style>#sk-container-id-2 {color: black;background-color: white;}#sk-container-id-2 pre{padding: 0;}#sk-container-id-2 div.sk-toggleable {background-color: white;}#sk-container-id-2 label.sk-toggleable__label {cursor: pointer;display: block;width: 100%;margin-bottom: 0;padding: 0.3em;box-sizing: border-box;text-align: center;}#sk-container-id-2 label.sk-toggleable__label-arrow:before {content: \"▸\";float: left;margin-right: 0.25em;color: #696969;}#sk-container-id-2 label.sk-toggleable__label-arrow:hover:before {color: black;}#sk-container-id-2 div.sk-estimator:hover label.sk-toggleable__label-arrow:before {color: black;}#sk-container-id-2 div.sk-toggleable__content {max-height: 0;max-width: 0;overflow: hidden;text-align: left;background-color: #f0f8ff;}#sk-container-id-2 div.sk-toggleable__content pre {margin: 0.2em;color: black;border-radius: 0.25em;background-color: #f0f8ff;}#sk-container-id-2 input.sk-toggleable__control:checked~div.sk-toggleable__content {max-height: 200px;max-width: 100%;overflow: auto;}#sk-container-id-2 input.sk-toggleable__control:checked~label.sk-toggleable__label-arrow:before {content: \"▾\";}#sk-container-id-2 div.sk-estimator input.sk-toggleable__control:checked~label.sk-toggleable__label {background-color: #d4ebff;}#sk-container-id-2 div.sk-label input.sk-toggleable__control:checked~label.sk-toggleable__label {background-color: #d4ebff;}#sk-container-id-2 input.sk-hidden--visually {border: 0;clip: rect(1px 1px 1px 1px);clip: rect(1px, 1px, 1px, 1px);height: 1px;margin: -1px;overflow: hidden;padding: 0;position: absolute;width: 1px;}#sk-container-id-2 div.sk-estimator {font-family: monospace;background-color: #f0f8ff;border: 1px dotted black;border-radius: 0.25em;box-sizing: border-box;margin-bottom: 0.5em;}#sk-container-id-2 div.sk-estimator:hover {background-color: #d4ebff;}#sk-container-id-2 div.sk-parallel-item::after {content: \"\";width: 100%;border-bottom: 1px solid gray;flex-grow: 1;}#sk-container-id-2 div.sk-label:hover label.sk-toggleable__label {background-color: #d4ebff;}#sk-container-id-2 div.sk-serial::before {content: \"\";position: absolute;border-left: 1px solid gray;box-sizing: border-box;top: 0;bottom: 0;left: 50%;z-index: 0;}#sk-container-id-2 div.sk-serial {display: flex;flex-direction: column;align-items: center;background-color: white;padding-right: 0.2em;padding-left: 0.2em;position: relative;}#sk-container-id-2 div.sk-item {position: relative;z-index: 1;}#sk-container-id-2 div.sk-parallel {display: flex;align-items: stretch;justify-content: center;background-color: white;position: relative;}#sk-container-id-2 div.sk-item::before, #sk-container-id-2 div.sk-parallel-item::before {content: \"\";position: absolute;border-left: 1px solid gray;box-sizing: border-box;top: 0;bottom: 0;left: 50%;z-index: -1;}#sk-container-id-2 div.sk-parallel-item {display: flex;flex-direction: column;z-index: 1;position: relative;background-color: white;}#sk-container-id-2 div.sk-parallel-item:first-child::after {align-self: flex-end;width: 50%;}#sk-container-id-2 div.sk-parallel-item:last-child::after {align-self: flex-start;width: 50%;}#sk-container-id-2 div.sk-parallel-item:only-child::after {width: 0;}#sk-container-id-2 div.sk-dashed-wrapped {border: 1px dashed gray;margin: 0 0.4em 0.5em 0.4em;box-sizing: border-box;padding-bottom: 0.4em;background-color: white;}#sk-container-id-2 div.sk-label label {font-family: monospace;font-weight: bold;display: inline-block;line-height: 1.2em;}#sk-container-id-2 div.sk-label-container {text-align: center;}#sk-container-id-2 div.sk-container {/* jupyter's `normalize.less` sets `[hidden] { display: none; }` but bootstrap.min.css set `[hidden] { display: none !important; }` so we also need the `!important` here to be able to override the default hidden behavior on the sphinx rendered scikit-learn.org. See: https://github.com/scikit-learn/scikit-learn/issues/21755 */display: inline-block !important;position: relative;}#sk-container-id-2 div.sk-text-repr-fallback {display: none;}</style><div id=\"sk-container-id-2\" class=\"sk-top-container\"><div class=\"sk-text-repr-fallback\"><pre>ColumnTransformer(sparse_threshold=0,\n",
       "                  transformers=[(&#x27;id&#x27;, DummySelector(), [&#x27;cust_id&#x27;]),\n",
       "                                (&#x27;num&#x27;,\n",
       "                                 Pipeline(steps=[(&#x27;imputer1&#x27;,\n",
       "                                                  SimpleImputer(fill_value=0,\n",
       "                                                                strategy=&#x27;constant&#x27;)),\n",
       "                                                 (&#x27;scaler1&#x27;, RobustScaler())]),\n",
       "                                 [&#x27;age&#x27;, &#x27;annual_premium&#x27;,\n",
       "                                  &#x27;days_since_insured&#x27;]),\n",
       "                                (&#x27;cat&#x27;,\n",
       "                                 Pipeline(steps=[(&#x27;imputer&#x27;,\n",
       "                                                  SimpleImputer(fill_value=&#x27;OTHER&#x27;,\n",
       "                                                                missing_values=&#x27;NONE&#x27;,\n",
       "                                                                strategy=&#x27;constant&#x27;)),\n",
       "                                                 (&#x27;encoder&#x27;, OneHotEncoder())]),\n",
       "                                 [&#x27;gender&#x27;, &#x27;driving_license&#x27;,\n",
       "                                  &#x27;previously_insured&#x27;, &#x27;vehicle_age&#x27;,\n",
       "                                  &#x27;vehicle_damage&#x27;]),\n",
       "                                (&#x27;car&#x27;,\n",
       "                                 Pipeline(steps=[(&#x27;imputer&#x27;,\n",
       "                                                  SimpleImputer(fill_value=&#x27;OTHER&#x27;,\n",
       "                                                                missing_values=&#x27;NONE&#x27;,\n",
       "                                                                strategy=&#x27;constant&#x27;)),\n",
       "                                                 (&#x27;encoder&#x27;,\n",
       "                                                  OrdinalEncoder())]),\n",
       "                                 [&#x27;region_code&#x27;, &#x27;policy_sales_channel&#x27;])])</pre><b>In a Jupyter environment, please rerun this cell to show the HTML representation or trust the notebook. <br />On GitHub, the HTML representation is unable to render, please try loading this page with nbviewer.org.</b></div><div class=\"sk-container\" hidden><div class=\"sk-item sk-dashed-wrapped\"><div class=\"sk-label-container\"><div class=\"sk-label sk-toggleable\"><input class=\"sk-toggleable__control sk-hidden--visually\" id=\"sk-estimator-id-15\" type=\"checkbox\" ><label for=\"sk-estimator-id-15\" class=\"sk-toggleable__label sk-toggleable__label-arrow\">ColumnTransformer</label><div class=\"sk-toggleable__content\"><pre>ColumnTransformer(sparse_threshold=0,\n",
       "                  transformers=[(&#x27;id&#x27;, DummySelector(), [&#x27;cust_id&#x27;]),\n",
       "                                (&#x27;num&#x27;,\n",
       "                                 Pipeline(steps=[(&#x27;imputer1&#x27;,\n",
       "                                                  SimpleImputer(fill_value=0,\n",
       "                                                                strategy=&#x27;constant&#x27;)),\n",
       "                                                 (&#x27;scaler1&#x27;, RobustScaler())]),\n",
       "                                 [&#x27;age&#x27;, &#x27;annual_premium&#x27;,\n",
       "                                  &#x27;days_since_insured&#x27;]),\n",
       "                                (&#x27;cat&#x27;,\n",
       "                                 Pipeline(steps=[(&#x27;imputer&#x27;,\n",
       "                                                  SimpleImputer(fill_value=&#x27;OTHER&#x27;,\n",
       "                                                                missing_values=&#x27;NONE&#x27;,\n",
       "                                                                strategy=&#x27;constant&#x27;)),\n",
       "                                                 (&#x27;encoder&#x27;, OneHotEncoder())]),\n",
       "                                 [&#x27;gender&#x27;, &#x27;driving_license&#x27;,\n",
       "                                  &#x27;previously_insured&#x27;, &#x27;vehicle_age&#x27;,\n",
       "                                  &#x27;vehicle_damage&#x27;]),\n",
       "                                (&#x27;car&#x27;,\n",
       "                                 Pipeline(steps=[(&#x27;imputer&#x27;,\n",
       "                                                  SimpleImputer(fill_value=&#x27;OTHER&#x27;,\n",
       "                                                                missing_values=&#x27;NONE&#x27;,\n",
       "                                                                strategy=&#x27;constant&#x27;)),\n",
       "                                                 (&#x27;encoder&#x27;,\n",
       "                                                  OrdinalEncoder())]),\n",
       "                                 [&#x27;region_code&#x27;, &#x27;policy_sales_channel&#x27;])])</pre></div></div></div><div class=\"sk-parallel\"><div class=\"sk-parallel-item\"><div class=\"sk-item\"><div class=\"sk-label-container\"><div class=\"sk-label sk-toggleable\"><input class=\"sk-toggleable__control sk-hidden--visually\" id=\"sk-estimator-id-16\" type=\"checkbox\" ><label for=\"sk-estimator-id-16\" class=\"sk-toggleable__label sk-toggleable__label-arrow\">id</label><div class=\"sk-toggleable__content\"><pre>[&#x27;cust_id&#x27;]</pre></div></div></div><div class=\"sk-serial\"><div class=\"sk-item\"><div class=\"sk-estimator sk-toggleable\"><input class=\"sk-toggleable__control sk-hidden--visually\" id=\"sk-estimator-id-17\" type=\"checkbox\" ><label for=\"sk-estimator-id-17\" class=\"sk-toggleable__label sk-toggleable__label-arrow\">DummySelector</label><div class=\"sk-toggleable__content\"><pre>DummySelector()</pre></div></div></div></div></div></div><div class=\"sk-parallel-item\"><div class=\"sk-item\"><div class=\"sk-label-container\"><div class=\"sk-label sk-toggleable\"><input class=\"sk-toggleable__control sk-hidden--visually\" id=\"sk-estimator-id-18\" type=\"checkbox\" ><label for=\"sk-estimator-id-18\" class=\"sk-toggleable__label sk-toggleable__label-arrow\">num</label><div class=\"sk-toggleable__content\"><pre>[&#x27;age&#x27;, &#x27;annual_premium&#x27;, &#x27;days_since_insured&#x27;]</pre></div></div></div><div class=\"sk-serial\"><div class=\"sk-item\"><div class=\"sk-serial\"><div class=\"sk-item\"><div class=\"sk-estimator sk-toggleable\"><input class=\"sk-toggleable__control sk-hidden--visually\" id=\"sk-estimator-id-19\" type=\"checkbox\" ><label for=\"sk-estimator-id-19\" class=\"sk-toggleable__label sk-toggleable__label-arrow\">SimpleImputer</label><div class=\"sk-toggleable__content\"><pre>SimpleImputer(fill_value=0, strategy=&#x27;constant&#x27;)</pre></div></div></div><div class=\"sk-item\"><div class=\"sk-estimator sk-toggleable\"><input class=\"sk-toggleable__control sk-hidden--visually\" id=\"sk-estimator-id-20\" type=\"checkbox\" ><label for=\"sk-estimator-id-20\" class=\"sk-toggleable__label sk-toggleable__label-arrow\">RobustScaler</label><div class=\"sk-toggleable__content\"><pre>RobustScaler()</pre></div></div></div></div></div></div></div></div><div class=\"sk-parallel-item\"><div class=\"sk-item\"><div class=\"sk-label-container\"><div class=\"sk-label sk-toggleable\"><input class=\"sk-toggleable__control sk-hidden--visually\" id=\"sk-estimator-id-21\" type=\"checkbox\" ><label for=\"sk-estimator-id-21\" class=\"sk-toggleable__label sk-toggleable__label-arrow\">cat</label><div class=\"sk-toggleable__content\"><pre>[&#x27;gender&#x27;, &#x27;driving_license&#x27;, &#x27;previously_insured&#x27;, &#x27;vehicle_age&#x27;, &#x27;vehicle_damage&#x27;]</pre></div></div></div><div class=\"sk-serial\"><div class=\"sk-item\"><div class=\"sk-serial\"><div class=\"sk-item\"><div class=\"sk-estimator sk-toggleable\"><input class=\"sk-toggleable__control sk-hidden--visually\" id=\"sk-estimator-id-22\" type=\"checkbox\" ><label for=\"sk-estimator-id-22\" class=\"sk-toggleable__label sk-toggleable__label-arrow\">SimpleImputer</label><div class=\"sk-toggleable__content\"><pre>SimpleImputer(fill_value=&#x27;OTHER&#x27;, missing_values=&#x27;NONE&#x27;, strategy=&#x27;constant&#x27;)</pre></div></div></div><div class=\"sk-item\"><div class=\"sk-estimator sk-toggleable\"><input class=\"sk-toggleable__control sk-hidden--visually\" id=\"sk-estimator-id-23\" type=\"checkbox\" ><label for=\"sk-estimator-id-23\" class=\"sk-toggleable__label sk-toggleable__label-arrow\">OneHotEncoder</label><div class=\"sk-toggleable__content\"><pre>OneHotEncoder()</pre></div></div></div></div></div></div></div></div><div class=\"sk-parallel-item\"><div class=\"sk-item\"><div class=\"sk-label-container\"><div class=\"sk-label sk-toggleable\"><input class=\"sk-toggleable__control sk-hidden--visually\" id=\"sk-estimator-id-24\" type=\"checkbox\" ><label for=\"sk-estimator-id-24\" class=\"sk-toggleable__label sk-toggleable__label-arrow\">car</label><div class=\"sk-toggleable__content\"><pre>[&#x27;region_code&#x27;, &#x27;policy_sales_channel&#x27;]</pre></div></div></div><div class=\"sk-serial\"><div class=\"sk-item\"><div class=\"sk-serial\"><div class=\"sk-item\"><div class=\"sk-estimator sk-toggleable\"><input class=\"sk-toggleable__control sk-hidden--visually\" id=\"sk-estimator-id-25\" type=\"checkbox\" ><label for=\"sk-estimator-id-25\" class=\"sk-toggleable__label sk-toggleable__label-arrow\">SimpleImputer</label><div class=\"sk-toggleable__content\"><pre>SimpleImputer(fill_value=&#x27;OTHER&#x27;, missing_values=&#x27;NONE&#x27;, strategy=&#x27;constant&#x27;)</pre></div></div></div><div class=\"sk-item\"><div class=\"sk-estimator sk-toggleable\"><input class=\"sk-toggleable__control sk-hidden--visually\" id=\"sk-estimator-id-26\" type=\"checkbox\" ><label for=\"sk-estimator-id-26\" class=\"sk-toggleable__label sk-toggleable__label-arrow\">OrdinalEncoder</label><div class=\"sk-toggleable__content\"><pre>OrdinalEncoder()</pre></div></div></div></div></div></div></div></div></div></div></div></div>"
      ],
      "text/plain": [
       "ColumnTransformer(sparse_threshold=0,\n",
       "                  transformers=[('id', DummySelector(), ['cust_id']),\n",
       "                                ('num',\n",
       "                                 Pipeline(steps=[('imputer1',\n",
       "                                                  SimpleImputer(fill_value=0,\n",
       "                                                                strategy='constant')),\n",
       "                                                 ('scaler1', RobustScaler())]),\n",
       "                                 ['age', 'annual_premium',\n",
       "                                  'days_since_insured']),\n",
       "                                ('cat',\n",
       "                                 Pipeline(steps=[('imputer',\n",
       "                                                  SimpleImputer(fill_value='OTHER',\n",
       "                                                                missing_values='NONE',\n",
       "                                                                strategy='constant')),\n",
       "                                                 ('encoder', OneHotEncoder())]),\n",
       "                                 ['gender', 'driving_license',\n",
       "                                  'previously_insured', 'vehicle_age',\n",
       "                                  'vehicle_damage']),\n",
       "                                ('car',\n",
       "                                 Pipeline(steps=[('imputer',\n",
       "                                                  SimpleImputer(fill_value='OTHER',\n",
       "                                                                missing_values='NONE',\n",
       "                                                                strategy='constant')),\n",
       "                                                 ('encoder',\n",
       "                                                  OrdinalEncoder())]),\n",
       "                                 ['region_code', 'policy_sales_channel'])])"
      ]
     },
     "execution_count": 42,
     "metadata": {},
     "output_type": "execute_result"
    }
   ],
   "source": [
    "pipeline"
   ]
  },
  {
   "cell_type": "code",
   "execution_count": 572,
   "id": "a0740b5e-3533-4bdf-a93a-178e64bc0b6d",
   "metadata": {},
   "outputs": [],
   "source": [
    "train_transformed = pipeline.fit_transform(train_data)"
   ]
  },
  {
   "cell_type": "code",
   "execution_count": 573,
   "id": "c2b80953-b64a-4c6e-a346-7a157653a048",
   "metadata": {},
   "outputs": [
    {
     "data": {
      "text/html": [
       "<div>\n",
       "<style scoped>\n",
       "    .dataframe tbody tr th:only-of-type {\n",
       "        vertical-align: middle;\n",
       "    }\n",
       "\n",
       "    .dataframe tbody tr th {\n",
       "        vertical-align: top;\n",
       "    }\n",
       "\n",
       "    .dataframe thead th {\n",
       "        text-align: right;\n",
       "    }\n",
       "</style>\n",
       "<table border=\"1\" class=\"dataframe\">\n",
       "  <thead>\n",
       "    <tr style=\"text-align: right;\">\n",
       "      <th></th>\n",
       "      <th>cust_id</th>\n",
       "      <th>gender</th>\n",
       "      <th>age</th>\n",
       "      <th>driving_license</th>\n",
       "      <th>region_code</th>\n",
       "      <th>previously_insured</th>\n",
       "      <th>vehicle_age</th>\n",
       "      <th>vehicle_damage</th>\n",
       "      <th>annual_premium</th>\n",
       "      <th>policy_sales_channel</th>\n",
       "      <th>days_since_insured</th>\n",
       "      <th>response</th>\n",
       "    </tr>\n",
       "  </thead>\n",
       "  <tbody>\n",
       "    <tr>\n",
       "      <th>0</th>\n",
       "      <td>167647</td>\n",
       "      <td>Male</td>\n",
       "      <td>22</td>\n",
       "      <td>1</td>\n",
       "      <td>7.0</td>\n",
       "      <td>1</td>\n",
       "      <td>lt_1_year</td>\n",
       "      <td>No</td>\n",
       "      <td>52.59375</td>\n",
       "      <td>152.0</td>\n",
       "      <td>16</td>\n",
       "      <td>0</td>\n",
       "    </tr>\n",
       "    <tr>\n",
       "      <th>1</th>\n",
       "      <td>17163</td>\n",
       "      <td>Male</td>\n",
       "      <td>42</td>\n",
       "      <td>1</td>\n",
       "      <td>28.0</td>\n",
       "      <td>0</td>\n",
       "      <td>bt_1_2_year</td>\n",
       "      <td>Yes</td>\n",
       "      <td>866.50000</td>\n",
       "      <td>26.0</td>\n",
       "      <td>-121</td>\n",
       "      <td>0</td>\n",
       "    </tr>\n",
       "    <tr>\n",
       "      <th>2</th>\n",
       "      <td>32023</td>\n",
       "      <td>Female</td>\n",
       "      <td>66</td>\n",
       "      <td>1</td>\n",
       "      <td>33.0</td>\n",
       "      <td>0</td>\n",
       "      <td>bt_1_2_year</td>\n",
       "      <td>Yes</td>\n",
       "      <td>717.00000</td>\n",
       "      <td>124.0</td>\n",
       "      <td>-3</td>\n",
       "      <td>0</td>\n",
       "    </tr>\n",
       "    <tr>\n",
       "      <th>3</th>\n",
       "      <td>87447</td>\n",
       "      <td>Female</td>\n",
       "      <td>22</td>\n",
       "      <td>1</td>\n",
       "      <td>33.0</td>\n",
       "      <td>0</td>\n",
       "      <td>lt_1_year</td>\n",
       "      <td>No</td>\n",
       "      <td>553.00000</td>\n",
       "      <td>152.0</td>\n",
       "      <td>69</td>\n",
       "      <td>0</td>\n",
       "    </tr>\n",
       "    <tr>\n",
       "      <th>4</th>\n",
       "      <td>501933</td>\n",
       "      <td>Male</td>\n",
       "      <td>28</td>\n",
       "      <td>1</td>\n",
       "      <td>46.0</td>\n",
       "      <td>1</td>\n",
       "      <td>lt_1_year</td>\n",
       "      <td>No</td>\n",
       "      <td>580.50000</td>\n",
       "      <td>152.0</td>\n",
       "      <td>-45</td>\n",
       "      <td>0</td>\n",
       "    </tr>\n",
       "  </tbody>\n",
       "</table>\n",
       "</div>"
      ],
      "text/plain": [
       "  cust_id  gender  age  driving_license region_code  previously_insured  \\\n",
       "0  167647    Male   22                1         7.0                   1   \n",
       "1   17163    Male   42                1        28.0                   0   \n",
       "2   32023  Female   66                1        33.0                   0   \n",
       "3   87447  Female   22                1        33.0                   0   \n",
       "4  501933    Male   28                1        46.0                   1   \n",
       "\n",
       "   vehicle_age vehicle_damage  annual_premium policy_sales_channel  \\\n",
       "0    lt_1_year             No        52.59375                152.0   \n",
       "1  bt_1_2_year            Yes       866.50000                 26.0   \n",
       "2  bt_1_2_year            Yes       717.00000                124.0   \n",
       "3    lt_1_year             No       553.00000                152.0   \n",
       "4    lt_1_year             No       580.50000                152.0   \n",
       "\n",
       "   days_since_insured  response  \n",
       "0                  16         0  \n",
       "1                -121         0  \n",
       "2                  -3         0  \n",
       "3                  69         0  \n",
       "4                 -45         0  "
      ]
     },
     "execution_count": 573,
     "metadata": {},
     "output_type": "execute_result"
    }
   ],
   "source": [
    "train_data.head()"
   ]
  },
  {
   "cell_type": "code",
   "execution_count": 574,
   "id": "66a8a700-22a0-4a72-8a61-cd7664675c28",
   "metadata": {},
   "outputs": [
    {
     "data": {
      "text/plain": [
       "cust_id                 category\n",
       "gender                  category\n",
       "age                         int8\n",
       "driving_license             int8\n",
       "region_code             category\n",
       "previously_insured          int8\n",
       "vehicle_age             category\n",
       "vehicle_damage          category\n",
       "annual_premium           float16\n",
       "policy_sales_channel    category\n",
       "days_since_insured          int8\n",
       "response                    int8\n",
       "dtype: object"
      ]
     },
     "execution_count": 574,
     "metadata": {},
     "output_type": "execute_result"
    }
   ],
   "source": [
    "train_data.dtypes"
   ]
  },
  {
   "cell_type": "code",
   "execution_count": 575,
   "id": "daa2b4a5-4c87-45c6-bfc7-98c5d11421a0",
   "metadata": {},
   "outputs": [
    {
     "data": {
      "text/plain": [
       "array(['id__cust_id', 'num__age', 'num__annual_premium',\n",
       "       'num__days_since_insured', 'cat__gender_Female',\n",
       "       'cat__gender_Male', 'cat__driving_license_0',\n",
       "       'cat__driving_license_1', 'cat__previously_insured_0',\n",
       "       'cat__previously_insured_1', 'cat__vehicle_age_bt_1_2_year',\n",
       "       'cat__vehicle_age_gt_2_year', 'cat__vehicle_age_lt_1_year',\n",
       "       'cat__vehicle_damage_No', 'cat__vehicle_damage_Yes',\n",
       "       'car__region_code', 'car__policy_sales_channel',\n",
       "       'target__response'], dtype=object)"
      ]
     },
     "execution_count": 575,
     "metadata": {},
     "output_type": "execute_result"
    }
   ],
   "source": [
    "pipeline.get_feature_names_out() "
   ]
  },
  {
   "cell_type": "code",
   "execution_count": 576,
   "id": "f851902d-0b08-4e82-84a0-898ef8eedf2d",
   "metadata": {},
   "outputs": [
    {
     "data": {
      "text/plain": [
       "array([['167647', -0.58349609375, -1.951171875, ..., 50.0, 58.0, 0],\n",
       "       ['17163', 0.25, 0.7802734375, ..., 21.0, 79.0, 0],\n",
       "       ['32023', 1.25, 0.278564453125, ..., 27.0, 28.0, 0],\n",
       "       ...,\n",
       "       ['165293', 0.375, 0.58740234375, ..., 21.0, 79.0, 0],\n",
       "       ['383241', -0.333251953125, -0.424560546875, ..., 21.0, 58.0, 0],\n",
       "       ['401019', -0.291748046875, -0.08721923828125, ..., 10.0, 58.0, 0]],\n",
       "      dtype=object)"
      ]
     },
     "execution_count": 576,
     "metadata": {},
     "output_type": "execute_result"
    }
   ],
   "source": [
    "train_transformed"
   ]
  },
  {
   "cell_type": "code",
   "execution_count": 577,
   "id": "0ae839d6-261e-4c54-a3d2-40230e02abc9",
   "metadata": {},
   "outputs": [],
   "source": [
    "df = pd.DataFrame(train_transformed, columns = pipeline.get_feature_names_out())"
   ]
  },
  {
   "cell_type": "code",
   "execution_count": 578,
   "id": "4a337118-7bdd-4677-b10b-ad3d3e08edf2",
   "metadata": {
    "tags": []
   },
   "outputs": [
    {
     "data": {
      "text/plain": [
       "['car__policy_sales_channel',\n",
       " 'cat__driving_license_1',\n",
       " 'cat__vehicle_age_gt_2_year',\n",
       " 'num__days_since_insured',\n",
       " 'cat__vehicle_damage_No',\n",
       " 'num__age',\n",
       " 'cat__vehicle_age_lt_1_year',\n",
       " 'cat__previously_insured_0',\n",
       " 'cat__vehicle_damage_Yes',\n",
       " 'cat__previously_insured_1',\n",
       " 'cat__driving_license_0',\n",
       " 'cat__vehicle_age_bt_1_2_year',\n",
       " 'num__annual_premium',\n",
       " 'cat__gender_Female',\n",
       " 'cat__gender_Male',\n",
       " 'car__region_code']"
      ]
     },
     "execution_count": 578,
     "metadata": {},
     "output_type": "execute_result"
    }
   ],
   "source": [
    "removed_cols = set(['id__cust_id', 'target__response'])\n",
    "all_cols = df.columns \n",
    "train_cols = list(set(all_cols) - removed_cols)\n",
    "train_cols"
   ]
  },
  {
   "cell_type": "code",
   "execution_count": 579,
   "id": "7a2e5a91-5bf3-479d-851f-d993f69a9066",
   "metadata": {},
   "outputs": [
    {
     "data": {
      "text/plain": [
       "id__cust_id                     object\n",
       "num__age                        object\n",
       "num__annual_premium             object\n",
       "num__days_since_insured         object\n",
       "cat__gender_Female              object\n",
       "cat__gender_Male                object\n",
       "cat__driving_license_0          object\n",
       "cat__driving_license_1          object\n",
       "cat__previously_insured_0       object\n",
       "cat__previously_insured_1       object\n",
       "cat__vehicle_age_bt_1_2_year    object\n",
       "cat__vehicle_age_gt_2_year      object\n",
       "cat__vehicle_age_lt_1_year      object\n",
       "cat__vehicle_damage_No          object\n",
       "cat__vehicle_damage_Yes         object\n",
       "car__region_code                object\n",
       "car__policy_sales_channel       object\n",
       "target__response                object\n",
       "dtype: object"
      ]
     },
     "execution_count": 579,
     "metadata": {},
     "output_type": "execute_result"
    }
   ],
   "source": [
    "df.dtypes"
   ]
  },
  {
   "cell_type": "code",
   "execution_count": 580,
   "id": "d733522d-ee72-4238-b8ad-fc9422d3474f",
   "metadata": {},
   "outputs": [],
   "source": [
    "def _calculate_pos_weight_ratio(y_labels):\n",
    "    ratio = sum(y_labels == 0) // sum(y_labels == 1)\n",
    "    return ratio"
   ]
  },
  {
   "cell_type": "code",
   "execution_count": 581,
   "id": "8286f966-dcb1-4743-af22-8b41bad610fa",
   "metadata": {},
   "outputs": [],
   "source": [
    "import xgboost as xgb\n",
    "from sklearn.model_selection import train_test_split\n",
    "\n",
    "X_train, X_val, y_train, y_val = train_test_split(df[train_cols].astype('float'), df['target__response'].astype('float'), random_state=31)"
   ]
  },
  {
   "cell_type": "code",
   "execution_count": 582,
   "id": "a0d16eec-7dc4-4888-bac6-6f219496239a",
   "metadata": {},
   "outputs": [
    {
     "data": {
      "text/plain": [
       "Index(['car__policy_sales_channel', 'cat__driving_license_1',\n",
       "       'cat__vehicle_age_gt_2_year', 'num__days_since_insured',\n",
       "       'cat__vehicle_damage_No', 'num__age', 'cat__vehicle_age_lt_1_year',\n",
       "       'cat__previously_insured_0', 'cat__vehicle_damage_Yes',\n",
       "       'cat__previously_insured_1', 'cat__driving_license_0',\n",
       "       'cat__vehicle_age_bt_1_2_year', 'num__annual_premium',\n",
       "       'cat__gender_Female', 'cat__gender_Male', 'car__region_code'],\n",
       "      dtype='object')"
      ]
     },
     "execution_count": 582,
     "metadata": {},
     "output_type": "execute_result"
    }
   ],
   "source": [
    "X_train.columns"
   ]
  },
  {
   "cell_type": "code",
   "execution_count": 583,
   "id": "a49450d0-d86e-4bbc-b404-784cde5f814d",
   "metadata": {},
   "outputs": [
    {
     "data": {
      "text/plain": [
       "5"
      ]
     },
     "execution_count": 583,
     "metadata": {},
     "output_type": "execute_result"
    }
   ],
   "source": [
    "ratio = _calculate_pos_weight_ratio(y_train)\n",
    "ratio"
   ]
  },
  {
   "cell_type": "code",
   "execution_count": 584,
   "id": "a075f5a6-8b4f-4925-8647-2ab190493ccc",
   "metadata": {},
   "outputs": [
    {
     "name": "stdout",
     "output_type": "stream",
     "text": [
      "[0]\tvalidation_0-error:0.22796\tvalidation_0-logloss:0.56668\tvalidation_1-error:0.22847\tvalidation_1-logloss:0.56672\n",
      "[1]\tvalidation_0-error:0.22644\tvalidation_0-logloss:0.50433\tvalidation_1-error:0.22688\tvalidation_1-logloss:0.50444\n",
      "[2]\tvalidation_0-error:0.22605\tvalidation_0-logloss:0.46817\tvalidation_1-error:0.22659\tvalidation_1-logloss:0.46821\n",
      "[3]\tvalidation_0-error:0.22794\tvalidation_0-logloss:0.44702\tvalidation_1-error:0.22850\tvalidation_1-logloss:0.44699\n",
      "[4]\tvalidation_0-error:0.22786\tvalidation_0-logloss:0.43397\tvalidation_1-error:0.22820\tvalidation_1-logloss:0.43402\n",
      "[5]\tvalidation_0-error:0.22733\tvalidation_0-logloss:0.42526\tvalidation_1-error:0.22749\tvalidation_1-logloss:0.42547\n",
      "[6]\tvalidation_0-error:0.22961\tvalidation_0-logloss:0.41795\tvalidation_1-error:0.22969\tvalidation_1-logloss:0.41836\n",
      "[7]\tvalidation_0-error:0.22658\tvalidation_0-logloss:0.41383\tvalidation_1-error:0.22723\tvalidation_1-logloss:0.41444\n",
      "[8]\tvalidation_0-error:0.22517\tvalidation_0-logloss:0.40907\tvalidation_1-error:0.22613\tvalidation_1-logloss:0.41009\n",
      "[9]\tvalidation_0-error:0.22633\tvalidation_0-logloss:0.40688\tvalidation_1-error:0.22707\tvalidation_1-logloss:0.40809\n",
      "[10]\tvalidation_0-error:0.22324\tvalidation_0-logloss:0.40435\tvalidation_1-error:0.22412\tvalidation_1-logloss:0.40586\n",
      "[11]\tvalidation_0-error:0.22245\tvalidation_0-logloss:0.40266\tvalidation_1-error:0.22329\tvalidation_1-logloss:0.40426\n",
      "[12]\tvalidation_0-error:0.22211\tvalidation_0-logloss:0.40124\tvalidation_1-error:0.22273\tvalidation_1-logloss:0.40299\n",
      "[13]\tvalidation_0-error:0.22100\tvalidation_0-logloss:0.40014\tvalidation_1-error:0.22173\tvalidation_1-logloss:0.40212\n",
      "[14]\tvalidation_0-error:0.22080\tvalidation_0-logloss:0.39945\tvalidation_1-error:0.22183\tvalidation_1-logloss:0.40164\n",
      "[15]\tvalidation_0-error:0.22035\tvalidation_0-logloss:0.39868\tvalidation_1-error:0.22156\tvalidation_1-logloss:0.40106\n",
      "[16]\tvalidation_0-error:0.22017\tvalidation_0-logloss:0.39817\tvalidation_1-error:0.22157\tvalidation_1-logloss:0.40070\n",
      "[17]\tvalidation_0-error:0.21925\tvalidation_0-logloss:0.39759\tvalidation_1-error:0.22089\tvalidation_1-logloss:0.40031\n",
      "[18]\tvalidation_0-error:0.21899\tvalidation_0-logloss:0.39727\tvalidation_1-error:0.22070\tvalidation_1-logloss:0.40011\n",
      "[19]\tvalidation_0-error:0.21899\tvalidation_0-logloss:0.39682\tvalidation_1-error:0.22065\tvalidation_1-logloss:0.39975\n",
      "[20]\tvalidation_0-error:0.21796\tvalidation_0-logloss:0.39588\tvalidation_1-error:0.21963\tvalidation_1-logloss:0.39889\n",
      "[21]\tvalidation_0-error:0.21774\tvalidation_0-logloss:0.39562\tvalidation_1-error:0.21950\tvalidation_1-logloss:0.39876\n",
      "[22]\tvalidation_0-error:0.21764\tvalidation_0-logloss:0.39510\tvalidation_1-error:0.21949\tvalidation_1-logloss:0.39842\n",
      "[23]\tvalidation_0-error:0.21740\tvalidation_0-logloss:0.39493\tvalidation_1-error:0.21937\tvalidation_1-logloss:0.39834\n",
      "[24]\tvalidation_0-error:0.21712\tvalidation_0-logloss:0.39450\tvalidation_1-error:0.21928\tvalidation_1-logloss:0.39824\n",
      "[25]\tvalidation_0-error:0.21691\tvalidation_0-logloss:0.39396\tvalidation_1-error:0.21904\tvalidation_1-logloss:0.39787\n",
      "[26]\tvalidation_0-error:0.21654\tvalidation_0-logloss:0.39330\tvalidation_1-error:0.21866\tvalidation_1-logloss:0.39748\n",
      "[27]\tvalidation_0-error:0.21609\tvalidation_0-logloss:0.39261\tvalidation_1-error:0.21838\tvalidation_1-logloss:0.39689\n",
      "[28]\tvalidation_0-error:0.21560\tvalidation_0-logloss:0.39207\tvalidation_1-error:0.21841\tvalidation_1-logloss:0.39667\n",
      "[29]\tvalidation_0-error:0.21546\tvalidation_0-logloss:0.39169\tvalidation_1-error:0.21854\tvalidation_1-logloss:0.39645\n",
      "[30]\tvalidation_0-error:0.21543\tvalidation_0-logloss:0.39144\tvalidation_1-error:0.21855\tvalidation_1-logloss:0.39641\n",
      "[31]\tvalidation_0-error:0.21516\tvalidation_0-logloss:0.39122\tvalidation_1-error:0.21840\tvalidation_1-logloss:0.39633\n",
      "[32]\tvalidation_0-error:0.21503\tvalidation_0-logloss:0.39116\tvalidation_1-error:0.21829\tvalidation_1-logloss:0.39632\n",
      "[33]\tvalidation_0-error:0.21451\tvalidation_0-logloss:0.39065\tvalidation_1-error:0.21781\tvalidation_1-logloss:0.39605\n",
      "[34]\tvalidation_0-error:0.21442\tvalidation_0-logloss:0.39045\tvalidation_1-error:0.21775\tvalidation_1-logloss:0.39602\n",
      "[35]\tvalidation_0-error:0.21365\tvalidation_0-logloss:0.39009\tvalidation_1-error:0.21719\tvalidation_1-logloss:0.39595\n",
      "[36]\tvalidation_0-error:0.21361\tvalidation_0-logloss:0.39004\tvalidation_1-error:0.21722\tvalidation_1-logloss:0.39595\n",
      "[37]\tvalidation_0-error:0.21299\tvalidation_0-logloss:0.38967\tvalidation_1-error:0.21663\tvalidation_1-logloss:0.39569\n",
      "[38]\tvalidation_0-error:0.21282\tvalidation_0-logloss:0.38958\tvalidation_1-error:0.21658\tvalidation_1-logloss:0.39566\n",
      "[39]\tvalidation_0-error:0.21233\tvalidation_0-logloss:0.38933\tvalidation_1-error:0.21605\tvalidation_1-logloss:0.39557\n",
      "[40]\tvalidation_0-error:0.21199\tvalidation_0-logloss:0.38889\tvalidation_1-error:0.21616\tvalidation_1-logloss:0.39534\n",
      "[41]\tvalidation_0-error:0.21198\tvalidation_0-logloss:0.38866\tvalidation_1-error:0.21604\tvalidation_1-logloss:0.39519\n",
      "[42]\tvalidation_0-error:0.21197\tvalidation_0-logloss:0.38861\tvalidation_1-error:0.21602\tvalidation_1-logloss:0.39517\n",
      "[43]\tvalidation_0-error:0.21128\tvalidation_0-logloss:0.38832\tvalidation_1-error:0.21545\tvalidation_1-logloss:0.39504\n",
      "[44]\tvalidation_0-error:0.21114\tvalidation_0-logloss:0.38816\tvalidation_1-error:0.21534\tvalidation_1-logloss:0.39500\n",
      "[45]\tvalidation_0-error:0.21107\tvalidation_0-logloss:0.38787\tvalidation_1-error:0.21525\tvalidation_1-logloss:0.39493\n",
      "[46]\tvalidation_0-error:0.21093\tvalidation_0-logloss:0.38765\tvalidation_1-error:0.21516\tvalidation_1-logloss:0.39476\n",
      "[47]\tvalidation_0-error:0.21066\tvalidation_0-logloss:0.38728\tvalidation_1-error:0.21508\tvalidation_1-logloss:0.39463\n",
      "[48]\tvalidation_0-error:0.21060\tvalidation_0-logloss:0.38721\tvalidation_1-error:0.21507\tvalidation_1-logloss:0.39460\n",
      "[49]\tvalidation_0-error:0.21075\tvalidation_0-logloss:0.38708\tvalidation_1-error:0.21518\tvalidation_1-logloss:0.39456\n",
      "[50]\tvalidation_0-error:0.21044\tvalidation_0-logloss:0.38673\tvalidation_1-error:0.21519\tvalidation_1-logloss:0.39453\n",
      "[51]\tvalidation_0-error:0.21041\tvalidation_0-logloss:0.38635\tvalidation_1-error:0.21536\tvalidation_1-logloss:0.39442\n",
      "[52]\tvalidation_0-error:0.20995\tvalidation_0-logloss:0.38608\tvalidation_1-error:0.21499\tvalidation_1-logloss:0.39437\n",
      "[53]\tvalidation_0-error:0.20952\tvalidation_0-logloss:0.38556\tvalidation_1-error:0.21481\tvalidation_1-logloss:0.39417\n",
      "[54]\tvalidation_0-error:0.20946\tvalidation_0-logloss:0.38543\tvalidation_1-error:0.21471\tvalidation_1-logloss:0.39415\n",
      "[55]\tvalidation_0-error:0.20940\tvalidation_0-logloss:0.38532\tvalidation_1-error:0.21474\tvalidation_1-logloss:0.39413\n",
      "[56]\tvalidation_0-error:0.20918\tvalidation_0-logloss:0.38502\tvalidation_1-error:0.21451\tvalidation_1-logloss:0.39404\n",
      "[57]\tvalidation_0-error:0.20862\tvalidation_0-logloss:0.38460\tvalidation_1-error:0.21437\tvalidation_1-logloss:0.39391\n",
      "[58]\tvalidation_0-error:0.20814\tvalidation_0-logloss:0.38427\tvalidation_1-error:0.21413\tvalidation_1-logloss:0.39383\n",
      "[59]\tvalidation_0-error:0.20787\tvalidation_0-logloss:0.38394\tvalidation_1-error:0.21384\tvalidation_1-logloss:0.39372\n",
      "[60]\tvalidation_0-error:0.20785\tvalidation_0-logloss:0.38364\tvalidation_1-error:0.21407\tvalidation_1-logloss:0.39359\n",
      "[61]\tvalidation_0-error:0.20758\tvalidation_0-logloss:0.38329\tvalidation_1-error:0.21400\tvalidation_1-logloss:0.39344\n",
      "[62]\tvalidation_0-error:0.20754\tvalidation_0-logloss:0.38310\tvalidation_1-error:0.21400\tvalidation_1-logloss:0.39342\n",
      "[63]\tvalidation_0-error:0.20748\tvalidation_0-logloss:0.38303\tvalidation_1-error:0.21401\tvalidation_1-logloss:0.39341\n",
      "[64]\tvalidation_0-error:0.20732\tvalidation_0-logloss:0.38299\tvalidation_1-error:0.21389\tvalidation_1-logloss:0.39340\n",
      "[65]\tvalidation_0-error:0.20723\tvalidation_0-logloss:0.38285\tvalidation_1-error:0.21381\tvalidation_1-logloss:0.39336\n",
      "[66]\tvalidation_0-error:0.20692\tvalidation_0-logloss:0.38266\tvalidation_1-error:0.21367\tvalidation_1-logloss:0.39335\n",
      "[67]\tvalidation_0-error:0.20680\tvalidation_0-logloss:0.38238\tvalidation_1-error:0.21356\tvalidation_1-logloss:0.39324\n",
      "[68]\tvalidation_0-error:0.20661\tvalidation_0-logloss:0.38200\tvalidation_1-error:0.21339\tvalidation_1-logloss:0.39313\n",
      "[69]\tvalidation_0-error:0.20630\tvalidation_0-logloss:0.38167\tvalidation_1-error:0.21355\tvalidation_1-logloss:0.39307\n",
      "[70]\tvalidation_0-error:0.20623\tvalidation_0-logloss:0.38150\tvalidation_1-error:0.21349\tvalidation_1-logloss:0.39302\n",
      "[71]\tvalidation_0-error:0.20609\tvalidation_0-logloss:0.38129\tvalidation_1-error:0.21353\tvalidation_1-logloss:0.39296\n",
      "[72]\tvalidation_0-error:0.20600\tvalidation_0-logloss:0.38120\tvalidation_1-error:0.21355\tvalidation_1-logloss:0.39295\n",
      "[73]\tvalidation_0-error:0.20586\tvalidation_0-logloss:0.38095\tvalidation_1-error:0.21354\tvalidation_1-logloss:0.39289\n",
      "[74]\tvalidation_0-error:0.20576\tvalidation_0-logloss:0.38084\tvalidation_1-error:0.21361\tvalidation_1-logloss:0.39288\n",
      "[75]\tvalidation_0-error:0.20579\tvalidation_0-logloss:0.38078\tvalidation_1-error:0.21364\tvalidation_1-logloss:0.39287\n",
      "[76]\tvalidation_0-error:0.20582\tvalidation_0-logloss:0.38059\tvalidation_1-error:0.21363\tvalidation_1-logloss:0.39282\n",
      "[77]\tvalidation_0-error:0.20575\tvalidation_0-logloss:0.38044\tvalidation_1-error:0.21370\tvalidation_1-logloss:0.39278\n",
      "[78]\tvalidation_0-error:0.20548\tvalidation_0-logloss:0.38015\tvalidation_1-error:0.21364\tvalidation_1-logloss:0.39270\n",
      "[79]\tvalidation_0-error:0.20541\tvalidation_0-logloss:0.38004\tvalidation_1-error:0.21366\tvalidation_1-logloss:0.39269\n",
      "[80]\tvalidation_0-error:0.20533\tvalidation_0-logloss:0.37996\tvalidation_1-error:0.21364\tvalidation_1-logloss:0.39269\n",
      "[81]\tvalidation_0-error:0.20527\tvalidation_0-logloss:0.37961\tvalidation_1-error:0.21382\tvalidation_1-logloss:0.39257\n",
      "[82]\tvalidation_0-error:0.20523\tvalidation_0-logloss:0.37950\tvalidation_1-error:0.21375\tvalidation_1-logloss:0.39255\n",
      "[83]\tvalidation_0-error:0.20515\tvalidation_0-logloss:0.37929\tvalidation_1-error:0.21385\tvalidation_1-logloss:0.39255\n",
      "[84]\tvalidation_0-error:0.20496\tvalidation_0-logloss:0.37905\tvalidation_1-error:0.21368\tvalidation_1-logloss:0.39240\n",
      "[85]\tvalidation_0-error:0.20484\tvalidation_0-logloss:0.37896\tvalidation_1-error:0.21368\tvalidation_1-logloss:0.39238\n",
      "[86]\tvalidation_0-error:0.20471\tvalidation_0-logloss:0.37864\tvalidation_1-error:0.21360\tvalidation_1-logloss:0.39232\n",
      "[87]\tvalidation_0-error:0.20459\tvalidation_0-logloss:0.37842\tvalidation_1-error:0.21356\tvalidation_1-logloss:0.39227\n",
      "[88]\tvalidation_0-error:0.20450\tvalidation_0-logloss:0.37822\tvalidation_1-error:0.21364\tvalidation_1-logloss:0.39221\n",
      "[89]\tvalidation_0-error:0.20439\tvalidation_0-logloss:0.37803\tvalidation_1-error:0.21360\tvalidation_1-logloss:0.39220\n",
      "[90]\tvalidation_0-error:0.20423\tvalidation_0-logloss:0.37784\tvalidation_1-error:0.21353\tvalidation_1-logloss:0.39216\n",
      "[91]\tvalidation_0-error:0.20418\tvalidation_0-logloss:0.37772\tvalidation_1-error:0.21343\tvalidation_1-logloss:0.39212\n",
      "[92]\tvalidation_0-error:0.20405\tvalidation_0-logloss:0.37744\tvalidation_1-error:0.21331\tvalidation_1-logloss:0.39201\n",
      "[93]\tvalidation_0-error:0.20384\tvalidation_0-logloss:0.37714\tvalidation_1-error:0.21328\tvalidation_1-logloss:0.39194\n",
      "[94]\tvalidation_0-error:0.20362\tvalidation_0-logloss:0.37692\tvalidation_1-error:0.21342\tvalidation_1-logloss:0.39193\n",
      "[95]\tvalidation_0-error:0.20356\tvalidation_0-logloss:0.37681\tvalidation_1-error:0.21339\tvalidation_1-logloss:0.39191\n",
      "[96]\tvalidation_0-error:0.20344\tvalidation_0-logloss:0.37662\tvalidation_1-error:0.21332\tvalidation_1-logloss:0.39188\n",
      "[97]\tvalidation_0-error:0.20342\tvalidation_0-logloss:0.37647\tvalidation_1-error:0.21330\tvalidation_1-logloss:0.39188\n",
      "[98]\tvalidation_0-error:0.20341\tvalidation_0-logloss:0.37630\tvalidation_1-error:0.21332\tvalidation_1-logloss:0.39191\n",
      "[99]\tvalidation_0-error:0.20286\tvalidation_0-logloss:0.37591\tvalidation_1-error:0.21302\tvalidation_1-logloss:0.39174\n",
      "[100]\tvalidation_0-error:0.20279\tvalidation_0-logloss:0.37578\tvalidation_1-error:0.21297\tvalidation_1-logloss:0.39169\n",
      "[101]\tvalidation_0-error:0.20271\tvalidation_0-logloss:0.37557\tvalidation_1-error:0.21295\tvalidation_1-logloss:0.39169\n",
      "[102]\tvalidation_0-error:0.20254\tvalidation_0-logloss:0.37530\tvalidation_1-error:0.21285\tvalidation_1-logloss:0.39167\n",
      "[103]\tvalidation_0-error:0.20235\tvalidation_0-logloss:0.37514\tvalidation_1-error:0.21278\tvalidation_1-logloss:0.39165\n",
      "[104]\tvalidation_0-error:0.20215\tvalidation_0-logloss:0.37488\tvalidation_1-error:0.21280\tvalidation_1-logloss:0.39160\n",
      "[105]\tvalidation_0-error:0.20187\tvalidation_0-logloss:0.37473\tvalidation_1-error:0.21266\tvalidation_1-logloss:0.39159\n",
      "[106]\tvalidation_0-error:0.20181\tvalidation_0-logloss:0.37458\tvalidation_1-error:0.21260\tvalidation_1-logloss:0.39159\n",
      "[107]\tvalidation_0-error:0.20174\tvalidation_0-logloss:0.37440\tvalidation_1-error:0.21250\tvalidation_1-logloss:0.39153\n",
      "[108]\tvalidation_0-error:0.20165\tvalidation_0-logloss:0.37410\tvalidation_1-error:0.21265\tvalidation_1-logloss:0.39148\n",
      "[109]\tvalidation_0-error:0.20147\tvalidation_0-logloss:0.37384\tvalidation_1-error:0.21265\tvalidation_1-logloss:0.39144\n",
      "[110]\tvalidation_0-error:0.20128\tvalidation_0-logloss:0.37357\tvalidation_1-error:0.21252\tvalidation_1-logloss:0.39137\n",
      "[111]\tvalidation_0-error:0.20103\tvalidation_0-logloss:0.37332\tvalidation_1-error:0.21229\tvalidation_1-logloss:0.39134\n",
      "[112]\tvalidation_0-error:0.20080\tvalidation_0-logloss:0.37307\tvalidation_1-error:0.21234\tvalidation_1-logloss:0.39129\n",
      "[113]\tvalidation_0-error:0.20068\tvalidation_0-logloss:0.37285\tvalidation_1-error:0.21232\tvalidation_1-logloss:0.39126\n",
      "[114]\tvalidation_0-error:0.20053\tvalidation_0-logloss:0.37262\tvalidation_1-error:0.21234\tvalidation_1-logloss:0.39125\n",
      "[115]\tvalidation_0-error:0.20040\tvalidation_0-logloss:0.37237\tvalidation_1-error:0.21227\tvalidation_1-logloss:0.39115\n",
      "[116]\tvalidation_0-error:0.20036\tvalidation_0-logloss:0.37218\tvalidation_1-error:0.21233\tvalidation_1-logloss:0.39104\n",
      "[117]\tvalidation_0-error:0.19999\tvalidation_0-logloss:0.37194\tvalidation_1-error:0.21219\tvalidation_1-logloss:0.39100\n",
      "[118]\tvalidation_0-error:0.19981\tvalidation_0-logloss:0.37174\tvalidation_1-error:0.21197\tvalidation_1-logloss:0.39092\n",
      "[119]\tvalidation_0-error:0.19949\tvalidation_0-logloss:0.37147\tvalidation_1-error:0.21198\tvalidation_1-logloss:0.39084\n",
      "[120]\tvalidation_0-error:0.19930\tvalidation_0-logloss:0.37122\tvalidation_1-error:0.21212\tvalidation_1-logloss:0.39081\n",
      "[121]\tvalidation_0-error:0.19913\tvalidation_0-logloss:0.37105\tvalidation_1-error:0.21206\tvalidation_1-logloss:0.39080\n",
      "[122]\tvalidation_0-error:0.19901\tvalidation_0-logloss:0.37075\tvalidation_1-error:0.21192\tvalidation_1-logloss:0.39072\n",
      "[123]\tvalidation_0-error:0.19892\tvalidation_0-logloss:0.37057\tvalidation_1-error:0.21197\tvalidation_1-logloss:0.39068\n",
      "[124]\tvalidation_0-error:0.19877\tvalidation_0-logloss:0.37032\tvalidation_1-error:0.21185\tvalidation_1-logloss:0.39057\n",
      "[125]\tvalidation_0-error:0.19873\tvalidation_0-logloss:0.37014\tvalidation_1-error:0.21177\tvalidation_1-logloss:0.39055\n",
      "[126]\tvalidation_0-error:0.19857\tvalidation_0-logloss:0.36991\tvalidation_1-error:0.21197\tvalidation_1-logloss:0.39052\n",
      "[127]\tvalidation_0-error:0.19843\tvalidation_0-logloss:0.36969\tvalidation_1-error:0.21186\tvalidation_1-logloss:0.39049\n",
      "[128]\tvalidation_0-error:0.19829\tvalidation_0-logloss:0.36951\tvalidation_1-error:0.21179\tvalidation_1-logloss:0.39045\n",
      "[129]\tvalidation_0-error:0.19828\tvalidation_0-logloss:0.36937\tvalidation_1-error:0.21181\tvalidation_1-logloss:0.39042\n",
      "[130]\tvalidation_0-error:0.19819\tvalidation_0-logloss:0.36927\tvalidation_1-error:0.21164\tvalidation_1-logloss:0.39038\n",
      "[131]\tvalidation_0-error:0.19816\tvalidation_0-logloss:0.36923\tvalidation_1-error:0.21165\tvalidation_1-logloss:0.39040\n",
      "[132]\tvalidation_0-error:0.19817\tvalidation_0-logloss:0.36909\tvalidation_1-error:0.21161\tvalidation_1-logloss:0.39039\n",
      "[133]\tvalidation_0-error:0.19801\tvalidation_0-logloss:0.36898\tvalidation_1-error:0.21161\tvalidation_1-logloss:0.39041\n",
      "[134]\tvalidation_0-error:0.19797\tvalidation_0-logloss:0.36890\tvalidation_1-error:0.21162\tvalidation_1-logloss:0.39037\n",
      "[135]\tvalidation_0-error:0.19795\tvalidation_0-logloss:0.36885\tvalidation_1-error:0.21161\tvalidation_1-logloss:0.39035\n",
      "[136]\tvalidation_0-error:0.19803\tvalidation_0-logloss:0.36879\tvalidation_1-error:0.21162\tvalidation_1-logloss:0.39030\n",
      "[137]\tvalidation_0-error:0.19799\tvalidation_0-logloss:0.36857\tvalidation_1-error:0.21168\tvalidation_1-logloss:0.39022\n",
      "[138]\tvalidation_0-error:0.19789\tvalidation_0-logloss:0.36836\tvalidation_1-error:0.21174\tvalidation_1-logloss:0.39018\n",
      "[139]\tvalidation_0-error:0.19771\tvalidation_0-logloss:0.36808\tvalidation_1-error:0.21163\tvalidation_1-logloss:0.39011\n",
      "[140]\tvalidation_0-error:0.19767\tvalidation_0-logloss:0.36785\tvalidation_1-error:0.21162\tvalidation_1-logloss:0.39004\n",
      "[141]\tvalidation_0-error:0.19736\tvalidation_0-logloss:0.36765\tvalidation_1-error:0.21123\tvalidation_1-logloss:0.39003\n",
      "[142]\tvalidation_0-error:0.19722\tvalidation_0-logloss:0.36743\tvalidation_1-error:0.21125\tvalidation_1-logloss:0.38996\n",
      "[143]\tvalidation_0-error:0.19708\tvalidation_0-logloss:0.36715\tvalidation_1-error:0.21117\tvalidation_1-logloss:0.38988\n",
      "[144]\tvalidation_0-error:0.19682\tvalidation_0-logloss:0.36687\tvalidation_1-error:0.21094\tvalidation_1-logloss:0.38985\n",
      "[145]\tvalidation_0-error:0.19669\tvalidation_0-logloss:0.36667\tvalidation_1-error:0.21095\tvalidation_1-logloss:0.38978\n",
      "[146]\tvalidation_0-error:0.19657\tvalidation_0-logloss:0.36651\tvalidation_1-error:0.21084\tvalidation_1-logloss:0.38977\n",
      "[147]\tvalidation_0-error:0.19636\tvalidation_0-logloss:0.36621\tvalidation_1-error:0.21096\tvalidation_1-logloss:0.38972\n",
      "[148]\tvalidation_0-error:0.19624\tvalidation_0-logloss:0.36599\tvalidation_1-error:0.21096\tvalidation_1-logloss:0.38969\n",
      "[149]\tvalidation_0-error:0.19619\tvalidation_0-logloss:0.36592\tvalidation_1-error:0.21089\tvalidation_1-logloss:0.38967\n",
      "[150]\tvalidation_0-error:0.19618\tvalidation_0-logloss:0.36589\tvalidation_1-error:0.21085\tvalidation_1-logloss:0.38965\n",
      "[151]\tvalidation_0-error:0.19613\tvalidation_0-logloss:0.36578\tvalidation_1-error:0.21086\tvalidation_1-logloss:0.38965\n",
      "[152]\tvalidation_0-error:0.19607\tvalidation_0-logloss:0.36560\tvalidation_1-error:0.21087\tvalidation_1-logloss:0.38966\n",
      "[153]\tvalidation_0-error:0.19606\tvalidation_0-logloss:0.36537\tvalidation_1-error:0.21094\tvalidation_1-logloss:0.38954\n",
      "[154]\tvalidation_0-error:0.19585\tvalidation_0-logloss:0.36508\tvalidation_1-error:0.21069\tvalidation_1-logloss:0.38951\n",
      "[155]\tvalidation_0-error:0.19572\tvalidation_0-logloss:0.36484\tvalidation_1-error:0.21065\tvalidation_1-logloss:0.38947\n",
      "[156]\tvalidation_0-error:0.19555\tvalidation_0-logloss:0.36463\tvalidation_1-error:0.21062\tvalidation_1-logloss:0.38943\n",
      "[157]\tvalidation_0-error:0.19538\tvalidation_0-logloss:0.36440\tvalidation_1-error:0.21040\tvalidation_1-logloss:0.38936\n",
      "[158]\tvalidation_0-error:0.19536\tvalidation_0-logloss:0.36433\tvalidation_1-error:0.21032\tvalidation_1-logloss:0.38933\n",
      "[159]\tvalidation_0-error:0.19527\tvalidation_0-logloss:0.36406\tvalidation_1-error:0.21032\tvalidation_1-logloss:0.38933\n",
      "[160]\tvalidation_0-error:0.19524\tvalidation_0-logloss:0.36401\tvalidation_1-error:0.21031\tvalidation_1-logloss:0.38935\n",
      "[161]\tvalidation_0-error:0.19512\tvalidation_0-logloss:0.36383\tvalidation_1-error:0.21025\tvalidation_1-logloss:0.38932\n",
      "[162]\tvalidation_0-error:0.19504\tvalidation_0-logloss:0.36362\tvalidation_1-error:0.21013\tvalidation_1-logloss:0.38930\n",
      "[163]\tvalidation_0-error:0.19492\tvalidation_0-logloss:0.36353\tvalidation_1-error:0.21002\tvalidation_1-logloss:0.38927\n",
      "[164]\tvalidation_0-error:0.19478\tvalidation_0-logloss:0.36337\tvalidation_1-error:0.21000\tvalidation_1-logloss:0.38924\n",
      "[165]\tvalidation_0-error:0.19453\tvalidation_0-logloss:0.36309\tvalidation_1-error:0.21007\tvalidation_1-logloss:0.38915\n",
      "[166]\tvalidation_0-error:0.19454\tvalidation_0-logloss:0.36308\tvalidation_1-error:0.21009\tvalidation_1-logloss:0.38915\n",
      "[167]\tvalidation_0-error:0.19453\tvalidation_0-logloss:0.36307\tvalidation_1-error:0.21007\tvalidation_1-logloss:0.38915\n",
      "[168]\tvalidation_0-error:0.19447\tvalidation_0-logloss:0.36302\tvalidation_1-error:0.21006\tvalidation_1-logloss:0.38916\n",
      "[169]\tvalidation_0-error:0.19445\tvalidation_0-logloss:0.36297\tvalidation_1-error:0.20995\tvalidation_1-logloss:0.38916\n",
      "[170]\tvalidation_0-error:0.19439\tvalidation_0-logloss:0.36286\tvalidation_1-error:0.20981\tvalidation_1-logloss:0.38916\n",
      "[171]\tvalidation_0-error:0.19419\tvalidation_0-logloss:0.36260\tvalidation_1-error:0.20977\tvalidation_1-logloss:0.38911\n",
      "[172]\tvalidation_0-error:0.19410\tvalidation_0-logloss:0.36247\tvalidation_1-error:0.20981\tvalidation_1-logloss:0.38912\n",
      "[173]\tvalidation_0-error:0.19408\tvalidation_0-logloss:0.36244\tvalidation_1-error:0.20981\tvalidation_1-logloss:0.38913\n",
      "[174]\tvalidation_0-error:0.19397\tvalidation_0-logloss:0.36220\tvalidation_1-error:0.20987\tvalidation_1-logloss:0.38913\n",
      "[175]\tvalidation_0-error:0.19375\tvalidation_0-logloss:0.36203\tvalidation_1-error:0.20980\tvalidation_1-logloss:0.38907\n",
      "[176]\tvalidation_0-error:0.19375\tvalidation_0-logloss:0.36186\tvalidation_1-error:0.20986\tvalidation_1-logloss:0.38907\n",
      "[177]\tvalidation_0-error:0.19349\tvalidation_0-logloss:0.36156\tvalidation_1-error:0.20969\tvalidation_1-logloss:0.38901\n",
      "[178]\tvalidation_0-error:0.19345\tvalidation_0-logloss:0.36143\tvalidation_1-error:0.20956\tvalidation_1-logloss:0.38900\n",
      "[179]\tvalidation_0-error:0.19338\tvalidation_0-logloss:0.36123\tvalidation_1-error:0.20954\tvalidation_1-logloss:0.38897\n",
      "[180]\tvalidation_0-error:0.19330\tvalidation_0-logloss:0.36105\tvalidation_1-error:0.20950\tvalidation_1-logloss:0.38890\n",
      "[181]\tvalidation_0-error:0.19330\tvalidation_0-logloss:0.36094\tvalidation_1-error:0.20961\tvalidation_1-logloss:0.38889\n",
      "[182]\tvalidation_0-error:0.19302\tvalidation_0-logloss:0.36072\tvalidation_1-error:0.20947\tvalidation_1-logloss:0.38879\n",
      "[183]\tvalidation_0-error:0.19295\tvalidation_0-logloss:0.36048\tvalidation_1-error:0.20928\tvalidation_1-logloss:0.38873\n",
      "[184]\tvalidation_0-error:0.19282\tvalidation_0-logloss:0.36032\tvalidation_1-error:0.20923\tvalidation_1-logloss:0.38869\n",
      "[185]\tvalidation_0-error:0.19259\tvalidation_0-logloss:0.36020\tvalidation_1-error:0.20911\tvalidation_1-logloss:0.38867\n",
      "[186]\tvalidation_0-error:0.19250\tvalidation_0-logloss:0.36004\tvalidation_1-error:0.20907\tvalidation_1-logloss:0.38864\n",
      "[187]\tvalidation_0-error:0.19249\tvalidation_0-logloss:0.35984\tvalidation_1-error:0.20898\tvalidation_1-logloss:0.38863\n",
      "[188]\tvalidation_0-error:0.19236\tvalidation_0-logloss:0.35970\tvalidation_1-error:0.20911\tvalidation_1-logloss:0.38861\n",
      "[189]\tvalidation_0-error:0.19226\tvalidation_0-logloss:0.35949\tvalidation_1-error:0.20897\tvalidation_1-logloss:0.38856\n",
      "[190]\tvalidation_0-error:0.19214\tvalidation_0-logloss:0.35930\tvalidation_1-error:0.20898\tvalidation_1-logloss:0.38852\n",
      "[191]\tvalidation_0-error:0.19203\tvalidation_0-logloss:0.35911\tvalidation_1-error:0.20894\tvalidation_1-logloss:0.38850\n",
      "[192]\tvalidation_0-error:0.19200\tvalidation_0-logloss:0.35901\tvalidation_1-error:0.20885\tvalidation_1-logloss:0.38850\n",
      "[193]\tvalidation_0-error:0.19194\tvalidation_0-logloss:0.35878\tvalidation_1-error:0.20884\tvalidation_1-logloss:0.38846\n",
      "[194]\tvalidation_0-error:0.19181\tvalidation_0-logloss:0.35852\tvalidation_1-error:0.20888\tvalidation_1-logloss:0.38841\n",
      "[195]\tvalidation_0-error:0.19162\tvalidation_0-logloss:0.35832\tvalidation_1-error:0.20875\tvalidation_1-logloss:0.38834\n",
      "[196]\tvalidation_0-error:0.19152\tvalidation_0-logloss:0.35809\tvalidation_1-error:0.20862\tvalidation_1-logloss:0.38834\n",
      "[197]\tvalidation_0-error:0.19140\tvalidation_0-logloss:0.35790\tvalidation_1-error:0.20862\tvalidation_1-logloss:0.38827\n",
      "[198]\tvalidation_0-error:0.19132\tvalidation_0-logloss:0.35768\tvalidation_1-error:0.20858\tvalidation_1-logloss:0.38817\n",
      "[199]\tvalidation_0-error:0.19131\tvalidation_0-logloss:0.35764\tvalidation_1-error:0.20851\tvalidation_1-logloss:0.38816\n",
      "[200]\tvalidation_0-error:0.19126\tvalidation_0-logloss:0.35752\tvalidation_1-error:0.20848\tvalidation_1-logloss:0.38817\n",
      "[201]\tvalidation_0-error:0.19126\tvalidation_0-logloss:0.35749\tvalidation_1-error:0.20850\tvalidation_1-logloss:0.38815\n",
      "[202]\tvalidation_0-error:0.19118\tvalidation_0-logloss:0.35733\tvalidation_1-error:0.20850\tvalidation_1-logloss:0.38815\n",
      "[203]\tvalidation_0-error:0.19108\tvalidation_0-logloss:0.35716\tvalidation_1-error:0.20847\tvalidation_1-logloss:0.38815\n",
      "[204]\tvalidation_0-error:0.19104\tvalidation_0-logloss:0.35709\tvalidation_1-error:0.20846\tvalidation_1-logloss:0.38815\n",
      "[205]\tvalidation_0-error:0.19092\tvalidation_0-logloss:0.35695\tvalidation_1-error:0.20841\tvalidation_1-logloss:0.38812\n",
      "[206]\tvalidation_0-error:0.19091\tvalidation_0-logloss:0.35693\tvalidation_1-error:0.20839\tvalidation_1-logloss:0.38811\n",
      "[207]\tvalidation_0-error:0.19070\tvalidation_0-logloss:0.35669\tvalidation_1-error:0.20830\tvalidation_1-logloss:0.38807\n",
      "[208]\tvalidation_0-error:0.19066\tvalidation_0-logloss:0.35656\tvalidation_1-error:0.20832\tvalidation_1-logloss:0.38803\n",
      "[209]\tvalidation_0-error:0.19046\tvalidation_0-logloss:0.35630\tvalidation_1-error:0.20817\tvalidation_1-logloss:0.38796\n",
      "[210]\tvalidation_0-error:0.19027\tvalidation_0-logloss:0.35607\tvalidation_1-error:0.20812\tvalidation_1-logloss:0.38796\n",
      "[211]\tvalidation_0-error:0.19026\tvalidation_0-logloss:0.35583\tvalidation_1-error:0.20821\tvalidation_1-logloss:0.38788\n",
      "[212]\tvalidation_0-error:0.19022\tvalidation_0-logloss:0.35557\tvalidation_1-error:0.20812\tvalidation_1-logloss:0.38784\n",
      "[213]\tvalidation_0-error:0.19015\tvalidation_0-logloss:0.35546\tvalidation_1-error:0.20809\tvalidation_1-logloss:0.38789\n",
      "[214]\tvalidation_0-error:0.19001\tvalidation_0-logloss:0.35532\tvalidation_1-error:0.20809\tvalidation_1-logloss:0.38785\n",
      "[215]\tvalidation_0-error:0.18987\tvalidation_0-logloss:0.35519\tvalidation_1-error:0.20802\tvalidation_1-logloss:0.38783\n",
      "[216]\tvalidation_0-error:0.18970\tvalidation_0-logloss:0.35501\tvalidation_1-error:0.20794\tvalidation_1-logloss:0.38776\n",
      "[217]\tvalidation_0-error:0.18955\tvalidation_0-logloss:0.35476\tvalidation_1-error:0.20813\tvalidation_1-logloss:0.38773\n",
      "[218]\tvalidation_0-error:0.18944\tvalidation_0-logloss:0.35461\tvalidation_1-error:0.20813\tvalidation_1-logloss:0.38770\n",
      "[219]\tvalidation_0-error:0.18935\tvalidation_0-logloss:0.35440\tvalidation_1-error:0.20819\tvalidation_1-logloss:0.38761\n",
      "[220]\tvalidation_0-error:0.18917\tvalidation_0-logloss:0.35418\tvalidation_1-error:0.20811\tvalidation_1-logloss:0.38752\n",
      "[221]\tvalidation_0-error:0.18898\tvalidation_0-logloss:0.35394\tvalidation_1-error:0.20806\tvalidation_1-logloss:0.38747\n",
      "[222]\tvalidation_0-error:0.18885\tvalidation_0-logloss:0.35373\tvalidation_1-error:0.20803\tvalidation_1-logloss:0.38745\n",
      "[223]\tvalidation_0-error:0.18875\tvalidation_0-logloss:0.35353\tvalidation_1-error:0.20793\tvalidation_1-logloss:0.38738\n",
      "[224]\tvalidation_0-error:0.18873\tvalidation_0-logloss:0.35343\tvalidation_1-error:0.20790\tvalidation_1-logloss:0.38739\n",
      "[225]\tvalidation_0-error:0.18861\tvalidation_0-logloss:0.35327\tvalidation_1-error:0.20788\tvalidation_1-logloss:0.38734\n",
      "[226]\tvalidation_0-error:0.18858\tvalidation_0-logloss:0.35312\tvalidation_1-error:0.20798\tvalidation_1-logloss:0.38729\n",
      "[227]\tvalidation_0-error:0.18853\tvalidation_0-logloss:0.35301\tvalidation_1-error:0.20788\tvalidation_1-logloss:0.38725\n",
      "[228]\tvalidation_0-error:0.18837\tvalidation_0-logloss:0.35283\tvalidation_1-error:0.20789\tvalidation_1-logloss:0.38722\n",
      "[229]\tvalidation_0-error:0.18822\tvalidation_0-logloss:0.35264\tvalidation_1-error:0.20778\tvalidation_1-logloss:0.38716\n",
      "[230]\tvalidation_0-error:0.18815\tvalidation_0-logloss:0.35248\tvalidation_1-error:0.20767\tvalidation_1-logloss:0.38714\n",
      "[231]\tvalidation_0-error:0.18802\tvalidation_0-logloss:0.35231\tvalidation_1-error:0.20768\tvalidation_1-logloss:0.38712\n",
      "[232]\tvalidation_0-error:0.18800\tvalidation_0-logloss:0.35225\tvalidation_1-error:0.20770\tvalidation_1-logloss:0.38712\n",
      "[233]\tvalidation_0-error:0.18783\tvalidation_0-logloss:0.35213\tvalidation_1-error:0.20764\tvalidation_1-logloss:0.38705\n",
      "[234]\tvalidation_0-error:0.18774\tvalidation_0-logloss:0.35197\tvalidation_1-error:0.20764\tvalidation_1-logloss:0.38700\n",
      "[235]\tvalidation_0-error:0.18757\tvalidation_0-logloss:0.35173\tvalidation_1-error:0.20730\tvalidation_1-logloss:0.38694\n",
      "[236]\tvalidation_0-error:0.18746\tvalidation_0-logloss:0.35155\tvalidation_1-error:0.20722\tvalidation_1-logloss:0.38691\n",
      "[237]\tvalidation_0-error:0.18738\tvalidation_0-logloss:0.35135\tvalidation_1-error:0.20731\tvalidation_1-logloss:0.38685\n",
      "[238]\tvalidation_0-error:0.18728\tvalidation_0-logloss:0.35114\tvalidation_1-error:0.20725\tvalidation_1-logloss:0.38682\n",
      "[239]\tvalidation_0-error:0.18728\tvalidation_0-logloss:0.35110\tvalidation_1-error:0.20722\tvalidation_1-logloss:0.38680\n",
      "[240]\tvalidation_0-error:0.18727\tvalidation_0-logloss:0.35106\tvalidation_1-error:0.20723\tvalidation_1-logloss:0.38680\n",
      "[241]\tvalidation_0-error:0.18708\tvalidation_0-logloss:0.35087\tvalidation_1-error:0.20723\tvalidation_1-logloss:0.38675\n",
      "[242]\tvalidation_0-error:0.18703\tvalidation_0-logloss:0.35079\tvalidation_1-error:0.20725\tvalidation_1-logloss:0.38674\n",
      "[243]\tvalidation_0-error:0.18698\tvalidation_0-logloss:0.35063\tvalidation_1-error:0.20715\tvalidation_1-logloss:0.38668\n",
      "[244]\tvalidation_0-error:0.18693\tvalidation_0-logloss:0.35054\tvalidation_1-error:0.20705\tvalidation_1-logloss:0.38666\n",
      "[245]\tvalidation_0-error:0.18683\tvalidation_0-logloss:0.35034\tvalidation_1-error:0.20708\tvalidation_1-logloss:0.38661\n",
      "[246]\tvalidation_0-error:0.18680\tvalidation_0-logloss:0.35031\tvalidation_1-error:0.20706\tvalidation_1-logloss:0.38661\n",
      "[247]\tvalidation_0-error:0.18644\tvalidation_0-logloss:0.35003\tvalidation_1-error:0.20683\tvalidation_1-logloss:0.38650\n",
      "[248]\tvalidation_0-error:0.18631\tvalidation_0-logloss:0.34983\tvalidation_1-error:0.20688\tvalidation_1-logloss:0.38649\n",
      "[249]\tvalidation_0-error:0.18622\tvalidation_0-logloss:0.34959\tvalidation_1-error:0.20683\tvalidation_1-logloss:0.38645\n",
      "[250]\tvalidation_0-error:0.18612\tvalidation_0-logloss:0.34948\tvalidation_1-error:0.20685\tvalidation_1-logloss:0.38644\n",
      "[251]\tvalidation_0-error:0.18602\tvalidation_0-logloss:0.34924\tvalidation_1-error:0.20673\tvalidation_1-logloss:0.38636\n",
      "[252]\tvalidation_0-error:0.18597\tvalidation_0-logloss:0.34908\tvalidation_1-error:0.20671\tvalidation_1-logloss:0.38633\n",
      "[253]\tvalidation_0-error:0.18575\tvalidation_0-logloss:0.34884\tvalidation_1-error:0.20666\tvalidation_1-logloss:0.38623\n",
      "[254]\tvalidation_0-error:0.18564\tvalidation_0-logloss:0.34868\tvalidation_1-error:0.20661\tvalidation_1-logloss:0.38615\n",
      "[255]\tvalidation_0-error:0.18561\tvalidation_0-logloss:0.34867\tvalidation_1-error:0.20659\tvalidation_1-logloss:0.38615\n",
      "[256]\tvalidation_0-error:0.18553\tvalidation_0-logloss:0.34845\tvalidation_1-error:0.20645\tvalidation_1-logloss:0.38608\n",
      "[257]\tvalidation_0-error:0.18549\tvalidation_0-logloss:0.34831\tvalidation_1-error:0.20646\tvalidation_1-logloss:0.38606\n",
      "[258]\tvalidation_0-error:0.18543\tvalidation_0-logloss:0.34809\tvalidation_1-error:0.20645\tvalidation_1-logloss:0.38594\n",
      "[259]\tvalidation_0-error:0.18517\tvalidation_0-logloss:0.34792\tvalidation_1-error:0.20648\tvalidation_1-logloss:0.38590\n",
      "[260]\tvalidation_0-error:0.18509\tvalidation_0-logloss:0.34780\tvalidation_1-error:0.20638\tvalidation_1-logloss:0.38589\n",
      "[261]\tvalidation_0-error:0.18499\tvalidation_0-logloss:0.34764\tvalidation_1-error:0.20631\tvalidation_1-logloss:0.38584\n",
      "[262]\tvalidation_0-error:0.18497\tvalidation_0-logloss:0.34754\tvalidation_1-error:0.20636\tvalidation_1-logloss:0.38585\n",
      "[263]\tvalidation_0-error:0.18490\tvalidation_0-logloss:0.34746\tvalidation_1-error:0.20636\tvalidation_1-logloss:0.38583\n",
      "[264]\tvalidation_0-error:0.18481\tvalidation_0-logloss:0.34729\tvalidation_1-error:0.20641\tvalidation_1-logloss:0.38578\n",
      "[265]\tvalidation_0-error:0.18471\tvalidation_0-logloss:0.34716\tvalidation_1-error:0.20639\tvalidation_1-logloss:0.38578\n",
      "[266]\tvalidation_0-error:0.18452\tvalidation_0-logloss:0.34695\tvalidation_1-error:0.20639\tvalidation_1-logloss:0.38576\n",
      "[267]\tvalidation_0-error:0.18441\tvalidation_0-logloss:0.34680\tvalidation_1-error:0.20627\tvalidation_1-logloss:0.38573\n",
      "[268]\tvalidation_0-error:0.18430\tvalidation_0-logloss:0.34664\tvalidation_1-error:0.20630\tvalidation_1-logloss:0.38568\n",
      "[269]\tvalidation_0-error:0.18427\tvalidation_0-logloss:0.34660\tvalidation_1-error:0.20628\tvalidation_1-logloss:0.38569\n",
      "[270]\tvalidation_0-error:0.18418\tvalidation_0-logloss:0.34637\tvalidation_1-error:0.20624\tvalidation_1-logloss:0.38562\n",
      "[271]\tvalidation_0-error:0.18414\tvalidation_0-logloss:0.34631\tvalidation_1-error:0.20626\tvalidation_1-logloss:0.38560\n",
      "[272]\tvalidation_0-error:0.18399\tvalidation_0-logloss:0.34605\tvalidation_1-error:0.20623\tvalidation_1-logloss:0.38557\n",
      "[273]\tvalidation_0-error:0.18387\tvalidation_0-logloss:0.34588\tvalidation_1-error:0.20607\tvalidation_1-logloss:0.38558\n",
      "[274]\tvalidation_0-error:0.18383\tvalidation_0-logloss:0.34580\tvalidation_1-error:0.20605\tvalidation_1-logloss:0.38556\n",
      "[275]\tvalidation_0-error:0.18382\tvalidation_0-logloss:0.34572\tvalidation_1-error:0.20600\tvalidation_1-logloss:0.38554\n",
      "[276]\tvalidation_0-error:0.18343\tvalidation_0-logloss:0.34545\tvalidation_1-error:0.20581\tvalidation_1-logloss:0.38548\n",
      "[277]\tvalidation_0-error:0.18335\tvalidation_0-logloss:0.34525\tvalidation_1-error:0.20580\tvalidation_1-logloss:0.38540\n",
      "[278]\tvalidation_0-error:0.18333\tvalidation_0-logloss:0.34522\tvalidation_1-error:0.20577\tvalidation_1-logloss:0.38538\n",
      "[279]\tvalidation_0-error:0.18336\tvalidation_0-logloss:0.34508\tvalidation_1-error:0.20588\tvalidation_1-logloss:0.38538\n",
      "[280]\tvalidation_0-error:0.18319\tvalidation_0-logloss:0.34492\tvalidation_1-error:0.20581\tvalidation_1-logloss:0.38532\n",
      "[281]\tvalidation_0-error:0.18310\tvalidation_0-logloss:0.34476\tvalidation_1-error:0.20584\tvalidation_1-logloss:0.38523\n",
      "[282]\tvalidation_0-error:0.18304\tvalidation_0-logloss:0.34458\tvalidation_1-error:0.20589\tvalidation_1-logloss:0.38527\n",
      "[283]\tvalidation_0-error:0.18298\tvalidation_0-logloss:0.34435\tvalidation_1-error:0.20576\tvalidation_1-logloss:0.38524\n",
      "[284]\tvalidation_0-error:0.18299\tvalidation_0-logloss:0.34420\tvalidation_1-error:0.20575\tvalidation_1-logloss:0.38527\n",
      "[285]\tvalidation_0-error:0.18296\tvalidation_0-logloss:0.34408\tvalidation_1-error:0.20574\tvalidation_1-logloss:0.38528\n"
     ]
    },
    {
     "data": {
      "text/html": [
       "<style>#sk-container-id-33 {color: black;background-color: white;}#sk-container-id-33 pre{padding: 0;}#sk-container-id-33 div.sk-toggleable {background-color: white;}#sk-container-id-33 label.sk-toggleable__label {cursor: pointer;display: block;width: 100%;margin-bottom: 0;padding: 0.3em;box-sizing: border-box;text-align: center;}#sk-container-id-33 label.sk-toggleable__label-arrow:before {content: \"▸\";float: left;margin-right: 0.25em;color: #696969;}#sk-container-id-33 label.sk-toggleable__label-arrow:hover:before {color: black;}#sk-container-id-33 div.sk-estimator:hover label.sk-toggleable__label-arrow:before {color: black;}#sk-container-id-33 div.sk-toggleable__content {max-height: 0;max-width: 0;overflow: hidden;text-align: left;background-color: #f0f8ff;}#sk-container-id-33 div.sk-toggleable__content pre {margin: 0.2em;color: black;border-radius: 0.25em;background-color: #f0f8ff;}#sk-container-id-33 input.sk-toggleable__control:checked~div.sk-toggleable__content {max-height: 200px;max-width: 100%;overflow: auto;}#sk-container-id-33 input.sk-toggleable__control:checked~label.sk-toggleable__label-arrow:before {content: \"▾\";}#sk-container-id-33 div.sk-estimator input.sk-toggleable__control:checked~label.sk-toggleable__label {background-color: #d4ebff;}#sk-container-id-33 div.sk-label input.sk-toggleable__control:checked~label.sk-toggleable__label {background-color: #d4ebff;}#sk-container-id-33 input.sk-hidden--visually {border: 0;clip: rect(1px 1px 1px 1px);clip: rect(1px, 1px, 1px, 1px);height: 1px;margin: -1px;overflow: hidden;padding: 0;position: absolute;width: 1px;}#sk-container-id-33 div.sk-estimator {font-family: monospace;background-color: #f0f8ff;border: 1px dotted black;border-radius: 0.25em;box-sizing: border-box;margin-bottom: 0.5em;}#sk-container-id-33 div.sk-estimator:hover {background-color: #d4ebff;}#sk-container-id-33 div.sk-parallel-item::after {content: \"\";width: 100%;border-bottom: 1px solid gray;flex-grow: 1;}#sk-container-id-33 div.sk-label:hover label.sk-toggleable__label {background-color: #d4ebff;}#sk-container-id-33 div.sk-serial::before {content: \"\";position: absolute;border-left: 1px solid gray;box-sizing: border-box;top: 0;bottom: 0;left: 50%;z-index: 0;}#sk-container-id-33 div.sk-serial {display: flex;flex-direction: column;align-items: center;background-color: white;padding-right: 0.2em;padding-left: 0.2em;position: relative;}#sk-container-id-33 div.sk-item {position: relative;z-index: 1;}#sk-container-id-33 div.sk-parallel {display: flex;align-items: stretch;justify-content: center;background-color: white;position: relative;}#sk-container-id-33 div.sk-item::before, #sk-container-id-33 div.sk-parallel-item::before {content: \"\";position: absolute;border-left: 1px solid gray;box-sizing: border-box;top: 0;bottom: 0;left: 50%;z-index: -1;}#sk-container-id-33 div.sk-parallel-item {display: flex;flex-direction: column;z-index: 1;position: relative;background-color: white;}#sk-container-id-33 div.sk-parallel-item:first-child::after {align-self: flex-end;width: 50%;}#sk-container-id-33 div.sk-parallel-item:last-child::after {align-self: flex-start;width: 50%;}#sk-container-id-33 div.sk-parallel-item:only-child::after {width: 0;}#sk-container-id-33 div.sk-dashed-wrapped {border: 1px dashed gray;margin: 0 0.4em 0.5em 0.4em;box-sizing: border-box;padding-bottom: 0.4em;background-color: white;}#sk-container-id-33 div.sk-label label {font-family: monospace;font-weight: bold;display: inline-block;line-height: 1.2em;}#sk-container-id-33 div.sk-label-container {text-align: center;}#sk-container-id-33 div.sk-container {/* jupyter's `normalize.less` sets `[hidden] { display: none; }` but bootstrap.min.css set `[hidden] { display: none !important; }` so we also need the `!important` here to be able to override the default hidden behavior on the sphinx rendered scikit-learn.org. See: https://github.com/scikit-learn/scikit-learn/issues/21755 */display: inline-block !important;position: relative;}#sk-container-id-33 div.sk-text-repr-fallback {display: none;}</style><div id=\"sk-container-id-33\" class=\"sk-top-container\"><div class=\"sk-text-repr-fallback\"><pre>XGBClassifier(base_score=0.5, booster=&#x27;gbtree&#x27;, callbacks=None,\n",
       "              colsample_bylevel=1, colsample_bynode=1, colsample_bytree=1,\n",
       "              early_stopping_rounds=5, enable_categorical=False,\n",
       "              eval_metric=[&#x27;error&#x27;, &#x27;logloss&#x27;], gamma=0, gpu_id=-1,\n",
       "              grow_policy=&#x27;depthwise&#x27;, importance_type=None,\n",
       "              interaction_constraints=&#x27;&#x27;, learning_rate=0.300000012,\n",
       "              max_bin=256, max_cat_to_onehot=4, max_delta_step=0, max_depth=6,\n",
       "              max_leaves=0, min_child_weight=1, missing=nan,\n",
       "              monotone_constraints=&#x27;()&#x27;, n_estimators=1000, n_jobs=0,\n",
       "              num_parallel_tree=1, predictor=&#x27;auto&#x27;, random_state=0,\n",
       "              reg_alpha=0, reg_lambda=1, ...)</pre><b>In a Jupyter environment, please rerun this cell to show the HTML representation or trust the notebook. <br />On GitHub, the HTML representation is unable to render, please try loading this page with nbviewer.org.</b></div><div class=\"sk-container\" hidden><div class=\"sk-item\"><div class=\"sk-estimator sk-toggleable\"><input class=\"sk-toggleable__control sk-hidden--visually\" id=\"sk-estimator-id-185\" type=\"checkbox\" checked><label for=\"sk-estimator-id-185\" class=\"sk-toggleable__label sk-toggleable__label-arrow\">XGBClassifier</label><div class=\"sk-toggleable__content\"><pre>XGBClassifier(base_score=0.5, booster=&#x27;gbtree&#x27;, callbacks=None,\n",
       "              colsample_bylevel=1, colsample_bynode=1, colsample_bytree=1,\n",
       "              early_stopping_rounds=5, enable_categorical=False,\n",
       "              eval_metric=[&#x27;error&#x27;, &#x27;logloss&#x27;], gamma=0, gpu_id=-1,\n",
       "              grow_policy=&#x27;depthwise&#x27;, importance_type=None,\n",
       "              interaction_constraints=&#x27;&#x27;, learning_rate=0.300000012,\n",
       "              max_bin=256, max_cat_to_onehot=4, max_delta_step=0, max_depth=6,\n",
       "              max_leaves=0, min_child_weight=1, missing=nan,\n",
       "              monotone_constraints=&#x27;()&#x27;, n_estimators=1000, n_jobs=0,\n",
       "              num_parallel_tree=1, predictor=&#x27;auto&#x27;, random_state=0,\n",
       "              reg_alpha=0, reg_lambda=1, ...)</pre></div></div></div></div></div>"
      ],
      "text/plain": [
       "XGBClassifier(base_score=0.5, booster='gbtree', callbacks=None,\n",
       "              colsample_bylevel=1, colsample_bynode=1, colsample_bytree=1,\n",
       "              early_stopping_rounds=5, enable_categorical=False,\n",
       "              eval_metric=['error', 'logloss'], gamma=0, gpu_id=-1,\n",
       "              grow_policy='depthwise', importance_type=None,\n",
       "              interaction_constraints='', learning_rate=0.300000012,\n",
       "              max_bin=256, max_cat_to_onehot=4, max_delta_step=0, max_depth=6,\n",
       "              max_leaves=0, min_child_weight=1, missing=nan,\n",
       "              monotone_constraints='()', n_estimators=1000, n_jobs=0,\n",
       "              num_parallel_tree=1, predictor='auto', random_state=0,\n",
       "              reg_alpha=0, reg_lambda=1, ...)"
      ]
     },
     "execution_count": 584,
     "metadata": {},
     "output_type": "execute_result"
    }
   ],
   "source": [
    "clf = xgb.XGBClassifier(scale_pos_weight=ratio, objective='binary:logistic', early_stopping_rounds=5, eval_metric=[\"error\", \"logloss\"], n_estimators=1000)\n",
    "clf.fit(X_train, y_train, eval_set=[(X_train, y_train), (X_val, y_val)])"
   ]
  },
  {
   "cell_type": "code",
   "execution_count": 585,
   "id": "2ae7d688-330c-4e47-86a8-d6e40f420a3d",
   "metadata": {},
   "outputs": [
    {
     "data": {
      "text/plain": [
       "<matplotlib.legend.Legend at 0x1ed45cbb2e0>"
      ]
     },
     "execution_count": 585,
     "metadata": {},
     "output_type": "execute_result"
    },
    {
     "data": {
      "image/png": "[encoded data removed]",
      "text/plain": [
       "<Figure size 720x504 with 1 Axes>"
      ]
     },
     "metadata": {
      "needs_background": "light"
     },
     "output_type": "display_data"
    },
    {
     "data": {
      "image/png": "[encoded data removed]",
      "text/plain": [
       "<Figure size 720x504 with 1 Axes>"
      ]
     },
     "metadata": {
      "needs_background": "light"
     },
     "output_type": "display_data"
    }
   ],
   "source": [
    "results = clf.evals_result()\n",
    "\n",
    "plt.figure(figsize=(10,7))\n",
    "plt.plot(results[\"validation_0\"][\"logloss\"], label=\"Training loss\")\n",
    "plt.plot(results[\"validation_1\"][\"logloss\"], label=\"Validation loss\")\n",
    "plt.axvline(clf.best_iteration, color=\"gray\", label=\"Optimal tree number\")\n",
    "plt.xlabel(\"Number of trees\")\n",
    "plt.ylabel(\"Loss\")\n",
    "plt.legend()\n",
    "\n",
    "plt.figure(figsize=(10,7))\n",
    "plt.plot(results[\"validation_0\"][\"error\"], label=\"Training Error\")\n",
    "plt.plot(results[\"validation_1\"][\"error\"], label=\"Validation Error\")\n",
    "plt.axvline(clf.best_iteration, color=\"gray\", label=\"Optimal tree number\")\n",
    "plt.xlabel(\"Number of trees\")\n",
    "plt.ylabel(\"Loss\")\n",
    "plt.legend()"
   ]
  },
  {
   "cell_type": "code",
   "execution_count": 586,
   "id": "d491d3a0-0dee-4fab-9ab4-e4f363798e17",
   "metadata": {},
   "outputs": [
    {
     "data": {
      "text/plain": [
       "<AxesSubplot:title={'center':'Feature importance'}, xlabel='F score', ylabel='Features'>"
      ]
     },
     "execution_count": 586,
     "metadata": {},
     "output_type": "execute_result"
    },
    {
     "data": {
      "image/png": "[encoded data removed]",
      "text/plain": [
       "<Figure size 432x288 with 1 Axes>"
      ]
     },
     "metadata": {
      "needs_background": "light"
     },
     "output_type": "display_data"
    }
   ],
   "source": [
    "xgb.plot_importance(clf)"
   ]
  },
  {
   "cell_type": "code",
   "execution_count": 587,
   "id": "0240a641-8b2d-4558-90b8-2e2ad4c287ee",
   "metadata": {},
   "outputs": [],
   "source": [
    "# preds = clf.predict(X_val)"
   ]
  },
  {
   "cell_type": "code",
   "execution_count": 588,
   "id": "e479878e-1dc3-4a4d-9bfb-68174db70736",
   "metadata": {},
   "outputs": [
    {
     "name": "stderr",
     "output_type": "stream",
     "text": [
      "C:\\Users\\gsund\\Anaconda3\\envs\\churn\\lib\\site-packages\\xgboost\\core.py:90: UserWarning: ntree_limit is deprecated, use `iteration_range` or model slicing instead.\n",
      "  warnings.warn(\n"
     ]
    }
   ],
   "source": [
    "probs = clf.predict_proba(X_val, ntree_limit=clf.best_iteration)"
   ]
  },
  {
   "cell_type": "code",
   "execution_count": 589,
   "id": "042cd0e4-5681-4012-849d-9d587072858e",
   "metadata": {},
   "outputs": [
    {
     "data": {
      "text/plain": [
       "282"
      ]
     },
     "execution_count": 589,
     "metadata": {},
     "output_type": "execute_result"
    }
   ],
   "source": [
    "clf.best_ntree_limit"
   ]
  },
  {
   "cell_type": "code",
   "execution_count": 590,
   "id": "3ceb01bf-8931-4a21-a239-be1a9189d39d",
   "metadata": {},
   "outputs": [
    {
     "data": {
      "text/plain": [
       "281"
      ]
     },
     "execution_count": 590,
     "metadata": {},
     "output_type": "execute_result"
    }
   ],
   "source": [
    "clf.best_iteration "
   ]
  },
  {
   "cell_type": "code",
   "execution_count": 591,
   "id": "f3cc89a0-deaa-4d11-adfc-fe9743bfee98",
   "metadata": {},
   "outputs": [],
   "source": [
    "import sklearn.metrics as metrics\n",
    "\n",
    "preds = probs[:,1]\n",
    "fpr, tpr, threshold = metrics.roc_curve(y_val, preds)\n",
    "roc_auc = metrics.auc(fpr, tpr)"
   ]
  },
  {
   "cell_type": "code",
   "execution_count": 592,
   "id": "c63d3509-bf52-47a1-acde-260da38fffaa",
   "metadata": {},
   "outputs": [
    {
     "data": {
      "text/plain": [
       "(18652,)"
      ]
     },
     "execution_count": 592,
     "metadata": {},
     "output_type": "execute_result"
    }
   ],
   "source": [
    "threshold.shape"
   ]
  },
  {
   "cell_type": "code",
   "execution_count": 593,
   "id": "ef31c8fe-13ab-4d84-a463-755780600faf",
   "metadata": {},
   "outputs": [
    {
     "name": "stdout",
     "output_type": "stream",
     "text": [
      "[0.         0.         0.         ... 0.99063373 0.99065877 1.        ] [0.00000000e+00 6.37836459e-05 1.27567292e-04 ... 1.00000000e+00\n",
      " 1.00000000e+00 1.00000000e+00] [1.9898690e+00 9.8986900e-01 9.8312920e-01 ... 2.4486901e-05 2.4469464e-05\n",
      " 6.6752494e-07]\n"
     ]
    }
   ],
   "source": [
    "print(fpr, tpr, threshold)"
   ]
  },
  {
   "cell_type": "code",
   "execution_count": 594,
   "id": "5bcee383-aa65-4608-9998-807ad3cd2454",
   "metadata": {},
   "outputs": [],
   "source": [
    "from matplotlib import pyplot\n",
    "from numpy import sqrt\n",
    "from numpy import argmax"
   ]
  },
  {
   "cell_type": "code",
   "execution_count": 595,
   "id": "e745737f-e1c0-44cd-abb4-d2415fe6ed5f",
   "metadata": {},
   "outputs": [
    {
     "name": "stdout",
     "output_type": "stream",
     "text": [
      "Best Threshold=0.474209, G-Mean=0.829\n"
     ]
    },
    {
     "data": {
      "image/png": "[encoded data removed]",
      "text/plain": [
       "<Figure size 432x288 with 1 Axes>"
      ]
     },
     "metadata": {
      "needs_background": "light"
     },
     "output_type": "display_data"
    }
   ],
   "source": [
    "gmeans = sqrt(tpr * (1-fpr))\n",
    "# locate the index of the largest g-mean\n",
    "ix = argmax(gmeans)\n",
    "print('Best Threshold=%f, G-Mean=%.3f' % (threshold[ix], gmeans[ix]))\n",
    "# plot the roc curve for the model\n",
    "pyplot.plot([0,1], [0,1], linestyle='--', label='No Skill')\n",
    "pyplot.plot(fpr, tpr, label='Logistic')\n",
    "pyplot.scatter(fpr[ix], tpr[ix], marker='o', color='black', label='Best')\n",
    "# axis labels\n",
    "pyplot.xlabel('False Positive Rate')\n",
    "pyplot.ylabel('True Positive Rate')\n",
    "pyplot.legend()\n",
    "# show the plot\n",
    "pyplot.show()"
   ]
  },
  {
   "cell_type": "code",
   "execution_count": 596,
   "id": "807f4efd-4338-480f-a670-1a30c8bfe9cf",
   "metadata": {},
   "outputs": [
    {
     "name": "stdout",
     "output_type": "stream",
     "text": [
      "Best Threshold=0.642372, F-Score=0.600\n"
     ]
    },
    {
     "data": {
      "image/png": "[encoded data removed]",
      "text/plain": [
       "<Figure size 432x288 with 1 Axes>"
      ]
     },
     "metadata": {
      "needs_background": "light"
     },
     "output_type": "display_data"
    }
   ],
   "source": [
    "precision, recall, thresholds = metrics.precision_recall_curve(y_val, preds)\n",
    "# convert to f score\n",
    "fscore = (2 * precision * recall) / (precision + recall)\n",
    "# locate the index of the largest f score\n",
    "ix = argmax(fscore)\n",
    "print('Best Threshold=%f, F-Score=%.3f' % (thresholds[ix], fscore[ix]))\n",
    "# plot the roc curve for the model\n",
    "no_skill = len(y_val[y_val==1]) / len(y_val)\n",
    "pyplot.plot([0,1], [no_skill,no_skill], linestyle='--', label='No Skill')\n",
    "pyplot.plot(recall, precision, label='Logistic')\n",
    "pyplot.scatter(recall[ix], precision[ix], marker='o', color='black', label='Best')\n",
    "# axis labels\n",
    "pyplot.xlabel('Recall')\n",
    "pyplot.ylabel('Precision')\n",
    "pyplot.legend()\n",
    "# show the plot\n",
    "pyplot.show()"
   ]
  },
  {
   "cell_type": "code",
   "execution_count": 523,
   "id": "d11ea874-77bd-462b-8d8d-aba7415b4c8e",
   "metadata": {},
   "outputs": [],
   "source": [
    "def to_labels(pos_probs, threshold):\n",
    "    return (pos_probs >= threshold).astype('int')"
   ]
  },
  {
   "cell_type": "code",
   "execution_count": 524,
   "id": "a55f55cc-4757-423d-ac2e-015b9aceb25d",
   "metadata": {},
   "outputs": [
    {
     "name": "stdout",
     "output_type": "stream",
     "text": [
      "Threshold=0.698, F-Score=0.60656\n"
     ]
    }
   ],
   "source": [
    "from numpy import arange\n",
    "\n",
    "thresholds = arange(0, 1, 0.001)\n",
    "# evaluate each threshold\n",
    "scores = [metrics.f1_score(y_val, to_labels(preds, t)) for t in thresholds]\n",
    "# get best threshold\n",
    "ix = argmax(scores)\n",
    "print('Threshold=%.3f, F-Score=%.5f' % (thresholds[ix], scores[ix]))"
   ]
  },
  {
   "cell_type": "code",
   "execution_count": 550,
   "id": "e492b2ec-a2e2-40bf-a5b4-d1773adc2574",
   "metadata": {},
   "outputs": [],
   "source": [
    "y_preds_pr = to_labels(preds, 0.69)"
   ]
  },
  {
   "cell_type": "code",
   "execution_count": 551,
   "id": "817d1d3b-9bde-4888-82e4-24e68bc3dc51",
   "metadata": {},
   "outputs": [
    {
     "name": "stdout",
     "output_type": "stream",
     "text": [
      "              precision    recall  f1-score   support\n",
      "\n",
      "         0.0       0.79      0.91      0.85     19724\n",
      "         1.0       0.56      0.31      0.40      7076\n",
      "\n",
      "    accuracy                           0.75     26800\n",
      "   macro avg       0.67      0.61      0.62     26800\n",
      "weighted avg       0.73      0.75      0.73     26800\n",
      "\n",
      "[[18004  1720]\n",
      " [ 4882  2194]]\n"
     ]
    }
   ],
   "source": [
    "print(metrics.classification_report(y_val, y_preds_pr))\n",
    "\n",
    "print(metrics.confusion_matrix(y_val, y_preds_pr))"
   ]
  },
  {
   "cell_type": "code",
   "execution_count": 528,
   "id": "ea84b310-b60a-4f73-8284-8dd0f426807a",
   "metadata": {},
   "outputs": [
    {
     "name": "stdout",
     "output_type": "stream",
     "text": [
      "[[66870 12991]\n",
      " [ 3209 12469]]\n"
     ]
    }
   ],
   "source": [
    "\n",
    "\n",
    "# Optimized the Precision(less number of +ve pred) and Recall - max f1 score"
   ]
  },
  {
   "cell_type": "code",
   "execution_count": 529,
   "id": "a3114676-d5cf-4fd9-9832-29ed80af3707",
   "metadata": {},
   "outputs": [],
   "source": [
    "y_preds_roc = to_labels(preds, 0.50)"
   ]
  },
  {
   "cell_type": "code",
   "execution_count": 530,
   "id": "25296c74-e53b-4731-9f29-2f9e037381df",
   "metadata": {},
   "outputs": [
    {
     "name": "stdout",
     "output_type": "stream",
     "text": [
      "              precision    recall  f1-score   support\n",
      "\n",
      "         0.0       0.98      0.76      0.86     79861\n",
      "         1.0       0.43      0.91      0.58     15678\n",
      "\n",
      "    accuracy                           0.79     95539\n",
      "   macro avg       0.70      0.84      0.72     95539\n",
      "weighted avg       0.89      0.79      0.81     95539\n",
      "\n"
     ]
    }
   ],
   "source": [
    "print(metrics.classification_report(y_val, y_preds_roc))"
   ]
  },
  {
   "cell_type": "code",
   "execution_count": 531,
   "id": "6627d29c-3f52-4e3d-a6cb-e2c5eef5695d",
   "metadata": {},
   "outputs": [
    {
     "name": "stdout",
     "output_type": "stream",
     "text": [
      "[[61050 18811]\n",
      " [ 1467 14211]]\n"
     ]
    }
   ],
   "source": [
    "print(metrics.confusion_matrix(y_val, y_preds_roc))\n",
    "\n",
    "# Increasing the recall(TPR)( more false +ve rates ) by decreasing the False Positive Rate "
   ]
  },
  {
   "cell_type": "code",
   "execution_count": 267,
   "id": "046c0c80-ed6b-45ce-a12f-d764ca94cfd3",
   "metadata": {},
   "outputs": [
    {
     "data": {
      "text/plain": [
       "15678.0"
      ]
     },
     "execution_count": 267,
     "metadata": {},
     "output_type": "execute_result"
    }
   ],
   "source": [
    "sum(y_val)"
   ]
  },
  {
   "cell_type": "code",
   "execution_count": 268,
   "id": "522b6b1d-f418-4570-9b58-314f408497e2",
   "metadata": {},
   "outputs": [
    {
     "data": {
      "text/plain": [
       "15678"
      ]
     },
     "execution_count": 268,
     "metadata": {},
     "output_type": "execute_result"
    }
   ],
   "source": [
    "1664 + 14014"
   ]
  },
  {
   "cell_type": "code",
   "execution_count": 228,
   "id": "2b65a596-8cdf-48dc-bcb5-fae5d3b25802",
   "metadata": {},
   "outputs": [
    {
     "data": {
      "text/plain": [
       "0.9208572428559414"
      ]
     },
     "execution_count": 228,
     "metadata": {},
     "output_type": "execute_result"
    }
   ],
   "source": [
    "roc_auc"
   ]
  },
  {
   "cell_type": "code",
   "execution_count": 224,
   "id": "1ad511f6-cca1-4410-bf41-87267733acba",
   "metadata": {},
   "outputs": [
    {
     "data": {
      "text/plain": [
       "array([[7.9151654e-01, 2.0848344e-01],\n",
       "       [9.9965805e-01, 3.4192408e-04],\n",
       "       [9.9955356e-01, 4.4643428e-04],\n",
       "       ...,\n",
       "       [9.9982953e-01, 1.7049715e-04],\n",
       "       [9.9995577e-01, 4.4234515e-05],\n",
       "       [9.9903500e-01, 9.6499204e-04]], dtype=float32)"
      ]
     },
     "execution_count": 224,
     "metadata": {},
     "output_type": "execute_result"
    }
   ],
   "source": [
    "probs"
   ]
  },
  {
   "cell_type": "code",
   "execution_count": 219,
   "id": "2c95f650-215b-4ffd-88ad-5b0590a3b16b",
   "metadata": {},
   "outputs": [
    {
     "data": {
      "text/plain": [
       "array([0, 0, 0, ..., 0, 0, 0])"
      ]
     },
     "execution_count": 219,
     "metadata": {},
     "output_type": "execute_result"
    }
   ],
   "source": [
    "preds"
   ]
  },
  {
   "cell_type": "code",
   "execution_count": 221,
   "id": "21bca235-bb94-48e2-a98a-0143c4526a5c",
   "metadata": {},
   "outputs": [
    {
     "data": {
      "text/plain": [
       "0.83255005809146"
      ]
     },
     "execution_count": 221,
     "metadata": {},
     "output_type": "execute_result"
    }
   ],
   "source": [
    "clf.score(X_val, y_val)"
   ]
  },
  {
   "cell_type": "code",
   "execution_count": 216,
   "id": "35e257e7-82c6-4de5-8dcb-56389e0d0955",
   "metadata": {},
   "outputs": [
    {
     "data": {
      "text/html": [
       "<div>\n",
       "<style scoped>\n",
       "    .dataframe tbody tr th:only-of-type {\n",
       "        vertical-align: middle;\n",
       "    }\n",
       "\n",
       "    .dataframe tbody tr th {\n",
       "        vertical-align: top;\n",
       "    }\n",
       "\n",
       "    .dataframe thead th {\n",
       "        text-align: right;\n",
       "    }\n",
       "</style>\n",
       "<table border=\"1\" class=\"dataframe\">\n",
       "  <thead>\n",
       "    <tr style=\"text-align: right;\">\n",
       "      <th></th>\n",
       "      <th>car__policy_sales_channel</th>\n",
       "      <th>cat__driving_license_1</th>\n",
       "      <th>cat__vehicle_age_gt_2_year</th>\n",
       "      <th>num__days_since_insured</th>\n",
       "      <th>cat__vehicle_damage_No</th>\n",
       "      <th>num__age</th>\n",
       "      <th>cat__vehicle_age_lt_1_year</th>\n",
       "      <th>cat__previously_insured_0</th>\n",
       "      <th>cat__vehicle_damage_Yes</th>\n",
       "      <th>cat__previously_insured_1</th>\n",
       "      <th>cat__driving_license_0</th>\n",
       "      <th>cat__vehicle_age_bt_1_2_year</th>\n",
       "      <th>id__cust_id</th>\n",
       "      <th>num__annual_premium</th>\n",
       "      <th>cat__gender_Female</th>\n",
       "      <th>cat__gender_Male</th>\n",
       "      <th>car__region_code</th>\n",
       "    </tr>\n",
       "  </thead>\n",
       "  <tbody>\n",
       "    <tr>\n",
       "      <th>191638</th>\n",
       "      <td>84.0</td>\n",
       "      <td>1.0</td>\n",
       "      <td>0.0</td>\n",
       "      <td>-0.198242</td>\n",
       "      <td>0.0</td>\n",
       "      <td>0.333252</td>\n",
       "      <td>0.0</td>\n",
       "      <td>1.0</td>\n",
       "      <td>1.0</td>\n",
       "      <td>0.0</td>\n",
       "      <td>0.0</td>\n",
       "      <td>1.0</td>\n",
       "      <td>87786.0</td>\n",
       "      <td>0.770020</td>\n",
       "      <td>1.0</td>\n",
       "      <td>0.0</td>\n",
       "      <td>41.0</td>\n",
       "    </tr>\n",
       "    <tr>\n",
       "      <th>203443</th>\n",
       "      <td>28.0</td>\n",
       "      <td>1.0</td>\n",
       "      <td>0.0</td>\n",
       "      <td>0.819824</td>\n",
       "      <td>0.0</td>\n",
       "      <td>0.958496</td>\n",
       "      <td>0.0</td>\n",
       "      <td>0.0</td>\n",
       "      <td>1.0</td>\n",
       "      <td>1.0</td>\n",
       "      <td>0.0</td>\n",
       "      <td>1.0</td>\n",
       "      <td>304880.0</td>\n",
       "      <td>0.055359</td>\n",
       "      <td>0.0</td>\n",
       "      <td>1.0</td>\n",
       "      <td>38.0</td>\n",
       "    </tr>\n",
       "    <tr>\n",
       "      <th>98704</th>\n",
       "      <td>79.0</td>\n",
       "      <td>1.0</td>\n",
       "      <td>0.0</td>\n",
       "      <td>0.963867</td>\n",
       "      <td>0.0</td>\n",
       "      <td>0.541504</td>\n",
       "      <td>0.0</td>\n",
       "      <td>1.0</td>\n",
       "      <td>1.0</td>\n",
       "      <td>0.0</td>\n",
       "      <td>0.0</td>\n",
       "      <td>1.0</td>\n",
       "      <td>328897.0</td>\n",
       "      <td>2.308594</td>\n",
       "      <td>0.0</td>\n",
       "      <td>1.0</td>\n",
       "      <td>21.0</td>\n",
       "    </tr>\n",
       "    <tr>\n",
       "      <th>48177</th>\n",
       "      <td>67.0</td>\n",
       "      <td>1.0</td>\n",
       "      <td>0.0</td>\n",
       "      <td>-0.927734</td>\n",
       "      <td>1.0</td>\n",
       "      <td>-0.625000</td>\n",
       "      <td>1.0</td>\n",
       "      <td>0.0</td>\n",
       "      <td>0.0</td>\n",
       "      <td>1.0</td>\n",
       "      <td>0.0</td>\n",
       "      <td>0.0</td>\n",
       "      <td>250559.0</td>\n",
       "      <td>-0.214722</td>\n",
       "      <td>0.0</td>\n",
       "      <td>1.0</td>\n",
       "      <td>41.0</td>\n",
       "    </tr>\n",
       "    <tr>\n",
       "      <th>114725</th>\n",
       "      <td>28.0</td>\n",
       "      <td>1.0</td>\n",
       "      <td>0.0</td>\n",
       "      <td>-0.423340</td>\n",
       "      <td>1.0</td>\n",
       "      <td>1.000000</td>\n",
       "      <td>0.0</td>\n",
       "      <td>0.0</td>\n",
       "      <td>0.0</td>\n",
       "      <td>1.0</td>\n",
       "      <td>0.0</td>\n",
       "      <td>1.0</td>\n",
       "      <td>247170.0</td>\n",
       "      <td>0.261719</td>\n",
       "      <td>0.0</td>\n",
       "      <td>1.0</td>\n",
       "      <td>21.0</td>\n",
       "    </tr>\n",
       "  </tbody>\n",
       "</table>\n",
       "</div>"
      ],
      "text/plain": [
       "        car__policy_sales_channel  cat__driving_license_1  \\\n",
       "191638                       84.0                     1.0   \n",
       "203443                       28.0                     1.0   \n",
       "98704                        79.0                     1.0   \n",
       "48177                        67.0                     1.0   \n",
       "114725                       28.0                     1.0   \n",
       "\n",
       "        cat__vehicle_age_gt_2_year  num__days_since_insured  \\\n",
       "191638                         0.0                -0.198242   \n",
       "203443                         0.0                 0.819824   \n",
       "98704                          0.0                 0.963867   \n",
       "48177                          0.0                -0.927734   \n",
       "114725                         0.0                -0.423340   \n",
       "\n",
       "        cat__vehicle_damage_No  num__age  cat__vehicle_age_lt_1_year  \\\n",
       "191638                     0.0  0.333252                         0.0   \n",
       "203443                     0.0  0.958496                         0.0   \n",
       "98704                      0.0  0.541504                         0.0   \n",
       "48177                      1.0 -0.625000                         1.0   \n",
       "114725                     1.0  1.000000                         0.0   \n",
       "\n",
       "        cat__previously_insured_0  cat__vehicle_damage_Yes  \\\n",
       "191638                        1.0                      1.0   \n",
       "203443                        0.0                      1.0   \n",
       "98704                         1.0                      1.0   \n",
       "48177                         0.0                      0.0   \n",
       "114725                        0.0                      0.0   \n",
       "\n",
       "        cat__previously_insured_1  cat__driving_license_0  \\\n",
       "191638                        0.0                     0.0   \n",
       "203443                        1.0                     0.0   \n",
       "98704                         0.0                     0.0   \n",
       "48177                         1.0                     0.0   \n",
       "114725                        1.0                     0.0   \n",
       "\n",
       "        cat__vehicle_age_bt_1_2_year  id__cust_id  num__annual_premium  \\\n",
       "191638                           1.0      87786.0             0.770020   \n",
       "203443                           1.0     304880.0             0.055359   \n",
       "98704                            1.0     328897.0             2.308594   \n",
       "48177                            0.0     250559.0            -0.214722   \n",
       "114725                           1.0     247170.0             0.261719   \n",
       "\n",
       "        cat__gender_Female  cat__gender_Male  car__region_code  \n",
       "191638                 1.0               0.0              41.0  \n",
       "203443                 0.0               1.0              38.0  \n",
       "98704                  0.0               1.0              21.0  \n",
       "48177                  0.0               1.0              41.0  \n",
       "114725                 0.0               1.0              21.0  "
      ]
     },
     "execution_count": 216,
     "metadata": {},
     "output_type": "execute_result"
    }
   ],
   "source": [
    "X_train.head()"
   ]
  },
  {
   "cell_type": "code",
   "execution_count": 210,
   "id": "d29c51c5-53a9-4704-9fa1-95df28218499",
   "metadata": {},
   "outputs": [
    {
     "data": {
      "text/plain": [
       "5.10819853803039"
      ]
     },
     "execution_count": 210,
     "metadata": {},
     "output_type": "execute_result"
    }
   ],
   "source": [
    "sum(y_train == 0.0) / sum(y_train == 1.0)"
   ]
  },
  {
   "cell_type": "code",
   "execution_count": 388,
   "id": "2229c772-0110-4980-b662-0a383bfe6a55",
   "metadata": {},
   "outputs": [],
   "source": [
    "# Trying region based models, 'region_code'"
   ]
  },
  {
   "cell_type": "code",
   "execution_count": 532,
   "id": "da3ee023-64ff-4389-a34b-ce476c5a61dd",
   "metadata": {},
   "outputs": [],
   "source": [
    "cardinality_features = ['policy_sales_channel']\n",
    "pipeline1 = ColumnTransformer([\n",
    "    ('id', DummySelector(), ['cust_id']),\n",
    "    ('num', num_pipeline, num_features), \n",
    "    ('cat', cat_pipeline, cat_features),\n",
    "    ('car', cardinality_pipeline, cardinality_features),\n",
    "    ('target', DummySelector(), ['response'])\n",
    "], sparse_threshold=0, verbose_feature_names_out=True)"
   ]
  },
  {
   "cell_type": "code",
   "execution_count": 533,
   "id": "fe5e3582-7d73-487b-99b6-979e98319652",
   "metadata": {},
   "outputs": [],
   "source": [
    "train_data_28 = train_data.loc[train_data['region_code'] == '28.0']\n",
    "train_data_28 = train_data_28.loc[:, train_data_28.columns!='region_code']"
   ]
  },
  {
   "cell_type": "code",
   "execution_count": 534,
   "id": "ed3fb07b-0ef4-4209-9acf-6b7b71c520ae",
   "metadata": {},
   "outputs": [],
   "source": [
    "train_transformed_28 = pipeline1.fit_transform(train_data_28)"
   ]
  },
  {
   "cell_type": "code",
   "execution_count": 535,
   "id": "0416c82b-a1f7-439e-9f34-b972ec113907",
   "metadata": {},
   "outputs": [
    {
     "data": {
      "text/plain": [
       "array(['id__cust_id', 'num__age', 'num__annual_premium',\n",
       "       'num__days_since_insured', 'cat__gender_Female',\n",
       "       'cat__gender_Male', 'cat__driving_license_0',\n",
       "       'cat__driving_license_1', 'cat__previously_insured_0',\n",
       "       'cat__previously_insured_1', 'cat__vehicle_age_bt_1_2_year',\n",
       "       'cat__vehicle_age_gt_2_year', 'cat__vehicle_age_lt_1_year',\n",
       "       'cat__vehicle_damage_No', 'cat__vehicle_damage_Yes',\n",
       "       'car__policy_sales_channel', 'target__response'], dtype=object)"
      ]
     },
     "execution_count": 535,
     "metadata": {},
     "output_type": "execute_result"
    }
   ],
   "source": [
    "pipeline1.get_feature_names_out() "
   ]
  },
  {
   "cell_type": "code",
   "execution_count": 536,
   "id": "f7009a98-48ec-4913-9ab7-6078757722b5",
   "metadata": {},
   "outputs": [],
   "source": [
    "df_28 = pd.DataFrame(train_transformed_28, columns = pipeline1.get_feature_names_out())"
   ]
  },
  {
   "cell_type": "code",
   "execution_count": 537,
   "id": "bab03877-5306-4a93-b5b0-db6e7512ebba",
   "metadata": {},
   "outputs": [
    {
     "data": {
      "text/plain": [
       "['car__policy_sales_channel',\n",
       " 'cat__driving_license_1',\n",
       " 'cat__vehicle_age_gt_2_year',\n",
       " 'num__days_since_insured',\n",
       " 'cat__vehicle_damage_No',\n",
       " 'num__age',\n",
       " 'cat__vehicle_age_lt_1_year',\n",
       " 'cat__previously_insured_0',\n",
       " 'cat__vehicle_damage_Yes',\n",
       " 'cat__previously_insured_1',\n",
       " 'cat__driving_license_0',\n",
       " 'cat__vehicle_age_bt_1_2_year',\n",
       " 'num__annual_premium',\n",
       " 'cat__gender_Female',\n",
       " 'cat__gender_Male']"
      ]
     },
     "execution_count": 537,
     "metadata": {},
     "output_type": "execute_result"
    }
   ],
   "source": [
    "removed_cols = set(['id__cust_id', 'target__response'])\n",
    "all_cols = df_28.columns \n",
    "train_cols = list(set(all_cols) - removed_cols)\n",
    "train_cols"
   ]
  },
  {
   "cell_type": "code",
   "execution_count": 538,
   "id": "f31c98d7-85d2-4fe8-873a-8248ebaffa7f",
   "metadata": {},
   "outputs": [],
   "source": [
    "X_train, X_val, y_train, y_val = train_test_split(df_28[train_cols].astype('float'), df_28['target__response'].astype('float'), random_state=31)"
   ]
  },
  {
   "cell_type": "code",
   "execution_count": 539,
   "id": "e7aea932-c4df-4e91-839b-06638ea22a49",
   "metadata": {},
   "outputs": [
    {
     "data": {
      "text/plain": [
       "2"
      ]
     },
     "execution_count": 539,
     "metadata": {},
     "output_type": "execute_result"
    }
   ],
   "source": [
    "ratio = _calculate_pos_weight_ratio(y_train)\n",
    "ratio"
   ]
  },
  {
   "cell_type": "code",
   "execution_count": 557,
   "id": "3ec6c5e3-0161-4e5c-bc38-8e91ad6263a6",
   "metadata": {
    "tags": []
   },
   "outputs": [
    {
     "name": "stdout",
     "output_type": "stream",
     "text": [
      "[0]\tvalidation_0-error:0.26995\tvalidation_0-logloss:0.59375\tvalidation_1-error:0.26739\tvalidation_1-logloss:0.59356\n",
      "[1]\tvalidation_0-error:0.28698\tvalidation_0-logloss:0.54106\tvalidation_1-error:0.28280\tvalidation_1-logloss:0.54053\n",
      "[2]\tvalidation_0-error:0.26558\tvalidation_0-logloss:0.50888\tvalidation_1-error:0.26295\tvalidation_1-logloss:0.50825\n",
      "[3]\tvalidation_0-error:0.27652\tvalidation_0-logloss:0.48799\tvalidation_1-error:0.27362\tvalidation_1-logloss:0.48755\n",
      "[4]\tvalidation_0-error:0.26947\tvalidation_0-logloss:0.47379\tvalidation_1-error:0.26612\tvalidation_1-logloss:0.47360\n",
      "[5]\tvalidation_0-error:0.26313\tvalidation_0-logloss:0.46373\tvalidation_1-error:0.26097\tvalidation_1-logloss:0.46383\n",
      "[6]\tvalidation_0-error:0.26383\tvalidation_0-logloss:0.45625\tvalidation_1-error:0.26160\tvalidation_1-logloss:0.45675\n",
      "[7]\tvalidation_0-error:0.26669\tvalidation_0-logloss:0.45115\tvalidation_1-error:0.26362\tvalidation_1-logloss:0.45178\n",
      "[8]\tvalidation_0-error:0.26549\tvalidation_0-logloss:0.44732\tvalidation_1-error:0.26302\tvalidation_1-logloss:0.44830\n",
      "[9]\tvalidation_0-error:0.26203\tvalidation_0-logloss:0.44447\tvalidation_1-error:0.26045\tvalidation_1-logloss:0.44587\n",
      "[10]\tvalidation_0-error:0.26188\tvalidation_0-logloss:0.44248\tvalidation_1-error:0.26034\tvalidation_1-logloss:0.44420\n",
      "[11]\tvalidation_0-error:0.26193\tvalidation_0-logloss:0.44054\tvalidation_1-error:0.26104\tvalidation_1-logloss:0.44286\n",
      "[12]\tvalidation_0-error:0.26055\tvalidation_0-logloss:0.43923\tvalidation_1-error:0.25996\tvalidation_1-logloss:0.44181\n",
      "[13]\tvalidation_0-error:0.26012\tvalidation_0-logloss:0.43800\tvalidation_1-error:0.25944\tvalidation_1-logloss:0.44101\n",
      "[14]\tvalidation_0-error:0.26005\tvalidation_0-logloss:0.43730\tvalidation_1-error:0.25929\tvalidation_1-logloss:0.44058\n",
      "[15]\tvalidation_0-error:0.25999\tvalidation_0-logloss:0.43649\tvalidation_1-error:0.25966\tvalidation_1-logloss:0.44013\n",
      "[16]\tvalidation_0-error:0.25978\tvalidation_0-logloss:0.43572\tvalidation_1-error:0.25948\tvalidation_1-logloss:0.43975\n",
      "[17]\tvalidation_0-error:0.25970\tvalidation_0-logloss:0.43520\tvalidation_1-error:0.25937\tvalidation_1-logloss:0.43949\n",
      "[18]\tvalidation_0-error:0.25968\tvalidation_0-logloss:0.43488\tvalidation_1-error:0.25951\tvalidation_1-logloss:0.43946\n",
      "[19]\tvalidation_0-error:0.25927\tvalidation_0-logloss:0.43417\tvalidation_1-error:0.25918\tvalidation_1-logloss:0.43947\n",
      "[20]\tvalidation_0-error:0.25916\tvalidation_0-logloss:0.43378\tvalidation_1-error:0.25933\tvalidation_1-logloss:0.43942\n",
      "[21]\tvalidation_0-error:0.25922\tvalidation_0-logloss:0.43340\tvalidation_1-error:0.25899\tvalidation_1-logloss:0.43940\n",
      "[22]\tvalidation_0-error:0.25916\tvalidation_0-logloss:0.43308\tvalidation_1-error:0.25914\tvalidation_1-logloss:0.43941\n",
      "[23]\tvalidation_0-error:0.25910\tvalidation_0-logloss:0.43251\tvalidation_1-error:0.25929\tvalidation_1-logloss:0.43937\n",
      "[24]\tvalidation_0-error:0.25895\tvalidation_0-logloss:0.43195\tvalidation_1-error:0.25914\tvalidation_1-logloss:0.43937\n",
      "[25]\tvalidation_0-error:0.25850\tvalidation_0-logloss:0.43150\tvalidation_1-error:0.25944\tvalidation_1-logloss:0.43944\n",
      "[26]\tvalidation_0-error:0.25819\tvalidation_0-logloss:0.43086\tvalidation_1-error:0.25907\tvalidation_1-logloss:0.43942\n",
      "[27]\tvalidation_0-error:0.25715\tvalidation_0-logloss:0.43024\tvalidation_1-error:0.25810\tvalidation_1-logloss:0.43913\n",
      "[28]\tvalidation_0-error:0.25676\tvalidation_0-logloss:0.42949\tvalidation_1-error:0.25817\tvalidation_1-logloss:0.43887\n",
      "[29]\tvalidation_0-error:0.25638\tvalidation_0-logloss:0.42879\tvalidation_1-error:0.25843\tvalidation_1-logloss:0.43903\n",
      "[30]\tvalidation_0-error:0.25622\tvalidation_0-logloss:0.42835\tvalidation_1-error:0.25836\tvalidation_1-logloss:0.43906\n",
      "[31]\tvalidation_0-error:0.25591\tvalidation_0-logloss:0.42792\tvalidation_1-error:0.25847\tvalidation_1-logloss:0.43902\n",
      "[32]\tvalidation_0-error:0.25569\tvalidation_0-logloss:0.42749\tvalidation_1-error:0.25858\tvalidation_1-logloss:0.43910\n",
      "[33]\tvalidation_0-error:0.25535\tvalidation_0-logloss:0.42681\tvalidation_1-error:0.25869\tvalidation_1-logloss:0.43917\n"
     ]
    },
    {
     "data": {
      "text/html": [
       "<style>#sk-container-id-30 {color: black;background-color: white;}#sk-container-id-30 pre{padding: 0;}#sk-container-id-30 div.sk-toggleable {background-color: white;}#sk-container-id-30 label.sk-toggleable__label {cursor: pointer;display: block;width: 100%;margin-bottom: 0;padding: 0.3em;box-sizing: border-box;text-align: center;}#sk-container-id-30 label.sk-toggleable__label-arrow:before {content: \"▸\";float: left;margin-right: 0.25em;color: #696969;}#sk-container-id-30 label.sk-toggleable__label-arrow:hover:before {color: black;}#sk-container-id-30 div.sk-estimator:hover label.sk-toggleable__label-arrow:before {color: black;}#sk-container-id-30 div.sk-toggleable__content {max-height: 0;max-width: 0;overflow: hidden;text-align: left;background-color: #f0f8ff;}#sk-container-id-30 div.sk-toggleable__content pre {margin: 0.2em;color: black;border-radius: 0.25em;background-color: #f0f8ff;}#sk-container-id-30 input.sk-toggleable__control:checked~div.sk-toggleable__content {max-height: 200px;max-width: 100%;overflow: auto;}#sk-container-id-30 input.sk-toggleable__control:checked~label.sk-toggleable__label-arrow:before {content: \"▾\";}#sk-container-id-30 div.sk-estimator input.sk-toggleable__control:checked~label.sk-toggleable__label {background-color: #d4ebff;}#sk-container-id-30 div.sk-label input.sk-toggleable__control:checked~label.sk-toggleable__label {background-color: #d4ebff;}#sk-container-id-30 input.sk-hidden--visually {border: 0;clip: rect(1px 1px 1px 1px);clip: rect(1px, 1px, 1px, 1px);height: 1px;margin: -1px;overflow: hidden;padding: 0;position: absolute;width: 1px;}#sk-container-id-30 div.sk-estimator {font-family: monospace;background-color: #f0f8ff;border: 1px dotted black;border-radius: 0.25em;box-sizing: border-box;margin-bottom: 0.5em;}#sk-container-id-30 div.sk-estimator:hover {background-color: #d4ebff;}#sk-container-id-30 div.sk-parallel-item::after {content: \"\";width: 100%;border-bottom: 1px solid gray;flex-grow: 1;}#sk-container-id-30 div.sk-label:hover label.sk-toggleable__label {background-color: #d4ebff;}#sk-container-id-30 div.sk-serial::before {content: \"\";position: absolute;border-left: 1px solid gray;box-sizing: border-box;top: 0;bottom: 0;left: 50%;z-index: 0;}#sk-container-id-30 div.sk-serial {display: flex;flex-direction: column;align-items: center;background-color: white;padding-right: 0.2em;padding-left: 0.2em;position: relative;}#sk-container-id-30 div.sk-item {position: relative;z-index: 1;}#sk-container-id-30 div.sk-parallel {display: flex;align-items: stretch;justify-content: center;background-color: white;position: relative;}#sk-container-id-30 div.sk-item::before, #sk-container-id-30 div.sk-parallel-item::before {content: \"\";position: absolute;border-left: 1px solid gray;box-sizing: border-box;top: 0;bottom: 0;left: 50%;z-index: -1;}#sk-container-id-30 div.sk-parallel-item {display: flex;flex-direction: column;z-index: 1;position: relative;background-color: white;}#sk-container-id-30 div.sk-parallel-item:first-child::after {align-self: flex-end;width: 50%;}#sk-container-id-30 div.sk-parallel-item:last-child::after {align-self: flex-start;width: 50%;}#sk-container-id-30 div.sk-parallel-item:only-child::after {width: 0;}#sk-container-id-30 div.sk-dashed-wrapped {border: 1px dashed gray;margin: 0 0.4em 0.5em 0.4em;box-sizing: border-box;padding-bottom: 0.4em;background-color: white;}#sk-container-id-30 div.sk-label label {font-family: monospace;font-weight: bold;display: inline-block;line-height: 1.2em;}#sk-container-id-30 div.sk-label-container {text-align: center;}#sk-container-id-30 div.sk-container {/* jupyter's `normalize.less` sets `[hidden] { display: none; }` but bootstrap.min.css set `[hidden] { display: none !important; }` so we also need the `!important` here to be able to override the default hidden behavior on the sphinx rendered scikit-learn.org. See: https://github.com/scikit-learn/scikit-learn/issues/21755 */display: inline-block !important;position: relative;}#sk-container-id-30 div.sk-text-repr-fallback {display: none;}</style><div id=\"sk-container-id-30\" class=\"sk-top-container\"><div class=\"sk-text-repr-fallback\"><pre>XGBClassifier(base_score=0.5, booster=&#x27;gbtree&#x27;, callbacks=None,\n",
       "              colsample_bylevel=1, colsample_bynode=1, colsample_bytree=1,\n",
       "              early_stopping_rounds=5, enable_categorical=False,\n",
       "              eval_metric=[&#x27;error&#x27;, &#x27;logloss&#x27;], gamma=0, gpu_id=-1,\n",
       "              grow_policy=&#x27;depthwise&#x27;, importance_type=None,\n",
       "              interaction_constraints=&#x27;&#x27;, learning_rate=0.300000012,\n",
       "              max_bin=256, max_cat_to_onehot=4, max_delta_step=0, max_depth=6,\n",
       "              max_leaves=0, min_child_weight=1, missing=nan,\n",
       "              monotone_constraints=&#x27;()&#x27;, n_estimators=1000, n_jobs=0,\n",
       "              num_parallel_tree=1, predictor=&#x27;auto&#x27;, random_state=0,\n",
       "              reg_alpha=0, reg_lambda=1, ...)</pre><b>In a Jupyter environment, please rerun this cell to show the HTML representation or trust the notebook. <br />On GitHub, the HTML representation is unable to render, please try loading this page with nbviewer.org.</b></div><div class=\"sk-container\" hidden><div class=\"sk-item\"><div class=\"sk-estimator sk-toggleable\"><input class=\"sk-toggleable__control sk-hidden--visually\" id=\"sk-estimator-id-182\" type=\"checkbox\" checked><label for=\"sk-estimator-id-182\" class=\"sk-toggleable__label sk-toggleable__label-arrow\">XGBClassifier</label><div class=\"sk-toggleable__content\"><pre>XGBClassifier(base_score=0.5, booster=&#x27;gbtree&#x27;, callbacks=None,\n",
       "              colsample_bylevel=1, colsample_bynode=1, colsample_bytree=1,\n",
       "              early_stopping_rounds=5, enable_categorical=False,\n",
       "              eval_metric=[&#x27;error&#x27;, &#x27;logloss&#x27;], gamma=0, gpu_id=-1,\n",
       "              grow_policy=&#x27;depthwise&#x27;, importance_type=None,\n",
       "              interaction_constraints=&#x27;&#x27;, learning_rate=0.300000012,\n",
       "              max_bin=256, max_cat_to_onehot=4, max_delta_step=0, max_depth=6,\n",
       "              max_leaves=0, min_child_weight=1, missing=nan,\n",
       "              monotone_constraints=&#x27;()&#x27;, n_estimators=1000, n_jobs=0,\n",
       "              num_parallel_tree=1, predictor=&#x27;auto&#x27;, random_state=0,\n",
       "              reg_alpha=0, reg_lambda=1, ...)</pre></div></div></div></div></div>"
      ],
      "text/plain": [
       "XGBClassifier(base_score=0.5, booster='gbtree', callbacks=None,\n",
       "              colsample_bylevel=1, colsample_bynode=1, colsample_bytree=1,\n",
       "              early_stopping_rounds=5, enable_categorical=False,\n",
       "              eval_metric=['error', 'logloss'], gamma=0, gpu_id=-1,\n",
       "              grow_policy='depthwise', importance_type=None,\n",
       "              interaction_constraints='', learning_rate=0.300000012,\n",
       "              max_bin=256, max_cat_to_onehot=4, max_delta_step=0, max_depth=6,\n",
       "              max_leaves=0, min_child_weight=1, missing=nan,\n",
       "              monotone_constraints='()', n_estimators=1000, n_jobs=0,\n",
       "              num_parallel_tree=1, predictor='auto', random_state=0,\n",
       "              reg_alpha=0, reg_lambda=1, ...)"
      ]
     },
     "execution_count": 557,
     "metadata": {},
     "output_type": "execute_result"
    }
   ],
   "source": [
    "clf = xgb.XGBClassifier(scale_pos_weight=ratio, objective='binary:logistic', early_stopping_rounds=5, n_estimators=1000, eval_metric=[\"error\", \"logloss\"])\n",
    "clf.fit(X_train, y_train, eval_set=[(X_train, y_train), (X_val, y_val)])"
   ]
  },
  {
   "cell_type": "code",
   "execution_count": 558,
   "id": "7788a4a5-412b-4adf-9a1a-573729ec2375",
   "metadata": {},
   "outputs": [
    {
     "data": {
      "text/plain": [
       "<matplotlib.legend.Legend at 0x1ed53d23ca0>"
      ]
     },
     "execution_count": 558,
     "metadata": {},
     "output_type": "execute_result"
    },
    {
     "data": {
      "image/png": "[encoded data removed]",
      "text/plain": [
       "<Figure size 720x504 with 1 Axes>"
      ]
     },
     "metadata": {
      "needs_background": "light"
     },
     "output_type": "display_data"
    },
    {
     "data": {
      "image/png": "[encoded data removed]",
      "text/plain": [
       "<Figure size 720x504 with 1 Axes>"
      ]
     },
     "metadata": {
      "needs_background": "light"
     },
     "output_type": "display_data"
    }
   ],
   "source": [
    "results = clf.evals_result()\n",
    "\n",
    "plt.figure(figsize=(10,7))\n",
    "plt.plot(results[\"validation_0\"][\"logloss\"], label=\"Training loss\")\n",
    "plt.plot(results[\"validation_1\"][\"logloss\"], label=\"Validation loss\")\n",
    "plt.axvline(21, color=\"gray\", label=\"Optimal tree number\")\n",
    "plt.xlabel(\"Number of trees\")\n",
    "plt.ylabel(\"Loss\")\n",
    "plt.legend()\n",
    "\n",
    "plt.figure(figsize=(10,7))\n",
    "plt.plot(results[\"validation_0\"][\"error\"], label=\"Training Error\")\n",
    "plt.plot(results[\"validation_1\"][\"error\"], label=\"Validation Error\")\n",
    "plt.axvline(21, color=\"gray\", label=\"Optimal tree number\")\n",
    "plt.xlabel(\"Number of trees\")\n",
    "plt.ylabel(\"Loss\")\n",
    "plt.legend()"
   ]
  },
  {
   "cell_type": "code",
   "execution_count": 559,
   "id": "6207333c-e261-494e-b2de-398f89bfd4a2",
   "metadata": {},
   "outputs": [],
   "source": [
    "probs = clf.predict_proba(X_val)"
   ]
  },
  {
   "cell_type": "code",
   "execution_count": 560,
   "id": "f4328186-9448-4db3-850e-76b7625f02f9",
   "metadata": {},
   "outputs": [
    {
     "name": "stdout",
     "output_type": "stream",
     "text": [
      "Best Threshold=0.496771, G-Mean=0.774\n"
     ]
    },
    {
     "data": {
      "image/png": "[encoded data removed]",
      "text/plain": [
       "<Figure size 432x288 with 1 Axes>"
      ]
     },
     "metadata": {
      "needs_background": "light"
     },
     "output_type": "display_data"
    }
   ],
   "source": [
    "preds = probs[:,1]\n",
    "fpr, tpr, threshold = metrics.roc_curve(y_val, preds)\n",
    "roc_auc = metrics.auc(fpr, tpr)\n",
    "\n",
    "gmeans = sqrt(tpr * (1-fpr))\n",
    "# locate the index of the largest g-mean\n",
    "ix = argmax(gmeans)\n",
    "print('Best Threshold=%f, G-Mean=%.3f' % (threshold[ix], gmeans[ix]))\n",
    "# plot the roc curve for the model\n",
    "pyplot.plot([0,1], [0,1], linestyle='--', label='No Skill')\n",
    "pyplot.plot(fpr, tpr, label='Logistic')\n",
    "pyplot.scatter(fpr[ix], tpr[ix], marker='o', color='black', label='Best')\n",
    "# axis labels\n",
    "pyplot.xlabel('False Positive Rate')\n",
    "pyplot.ylabel('True Positive Rate')\n",
    "pyplot.legend()\n",
    "# show the plot\n",
    "pyplot.show()\n"
   ]
  },
  {
   "cell_type": "code",
   "execution_count": 561,
   "id": "ef1c70e7-3cd1-468a-9b73-9866cc356ac8",
   "metadata": {},
   "outputs": [
    {
     "name": "stdout",
     "output_type": "stream",
     "text": [
      "Best Threshold=0.496771, F-Score=0.636\n"
     ]
    },
    {
     "data": {
      "image/png": "[encoded data removed]",
      "text/plain": [
       "<Figure size 432x288 with 1 Axes>"
      ]
     },
     "metadata": {
      "needs_background": "light"
     },
     "output_type": "display_data"
    }
   ],
   "source": [
    "precision, recall, thresholds = metrics.precision_recall_curve(y_val, preds)\n",
    "# convert to f score\n",
    "fscore = (2 * precision * recall) / (precision + recall)\n",
    "# locate the index of the largest f score\n",
    "ix = argmax(fscore)\n",
    "print('Best Threshold=%f, F-Score=%.3f' % (thresholds[ix], fscore[ix]))\n",
    "# plot the roc curve for the model\n",
    "no_skill = len(y_val[y_val==1]) / len(y_val)\n",
    "pyplot.plot([0,1], [no_skill,no_skill], linestyle='--', label='No Skill')\n",
    "pyplot.plot(recall, precision, label='Logistic')\n",
    "pyplot.scatter(recall[ix], precision[ix], marker='o', color='black', label='Best')\n",
    "# axis labels\n",
    "pyplot.xlabel('Recall')\n",
    "pyplot.ylabel('Precision')\n",
    "pyplot.legend()\n",
    "# show the plot\n",
    "pyplot.show()"
   ]
  },
  {
   "cell_type": "code",
   "execution_count": 562,
   "id": "5a761382-2224-452f-b057-8c74c44db9e5",
   "metadata": {},
   "outputs": [],
   "source": [
    "y_preds_roc = to_labels(preds, 0.496)"
   ]
  },
  {
   "cell_type": "code",
   "execution_count": 563,
   "id": "edc3f414-d1a5-4e02-b1d3-6b66688472fd",
   "metadata": {},
   "outputs": [
    {
     "name": "stdout",
     "output_type": "stream",
     "text": [
      "              precision    recall  f1-score   support\n",
      "\n",
      "         0.0       0.93      0.70      0.80     19724\n",
      "         1.0       0.51      0.85      0.64      7076\n",
      "\n",
      "    accuracy                           0.74     26800\n",
      "   macro avg       0.72      0.78      0.72     26800\n",
      "weighted avg       0.82      0.74      0.76     26800\n",
      "\n",
      "[[13836  5888]\n",
      " [ 1040  6036]]\n"
     ]
    }
   ],
   "source": [
    "print(metrics.classification_report(y_val, y_preds_roc))\n",
    "\n",
    "print(metrics.confusion_matrix(y_val, y_preds_roc))"
   ]
  },
  {
   "cell_type": "code",
   "execution_count": 555,
   "id": "78f9747d-4e93-43db-a284-185e208be6d3",
   "metadata": {},
   "outputs": [],
   "source": [
    "y_preds_pr = to_labels(preds, 0.87)"
   ]
  },
  {
   "cell_type": "code",
   "execution_count": 556,
   "id": "d81e51e4-6f2c-48a0-a4e1-6299856d996c",
   "metadata": {},
   "outputs": [
    {
     "name": "stdout",
     "output_type": "stream",
     "text": [
      "              precision    recall  f1-score   support\n",
      "\n",
      "         0.0       0.74      1.00      0.85     19724\n",
      "         1.0       0.50      0.00      0.00      7076\n",
      "\n",
      "    accuracy                           0.74     26800\n",
      "   macro avg       0.62      0.50      0.42     26800\n",
      "weighted avg       0.67      0.74      0.62     26800\n",
      "\n",
      "[[19721     3]\n",
      " [ 7073     3]]\n"
     ]
    }
   ],
   "source": [
    "print(metrics.classification_report(y_val, y_preds_pr))\n",
    "\n",
    "print(metrics.confusion_matrix(y_val, y_preds_pr))"
   ]
  },
  {
   "cell_type": "code",
   "execution_count": 598,
   "id": "c733d712-89e7-4e95-a7ca-e75ef49069bc",
   "metadata": {},
   "outputs": [],
   "source": [
    "train_data_8 = train_data.loc[train_data['region_code'] == '8.0']\n",
    "train_data_8 = train_data_8.loc[:, train_data_8.columns!='region_code']"
   ]
  },
  {
   "cell_type": "code",
   "execution_count": 599,
   "id": "c26bc479-91e0-4436-85a9-608a104d5a2f",
   "metadata": {},
   "outputs": [
    {
     "data": {
      "text/plain": [
       "['car__policy_sales_channel',\n",
       " 'cat__driving_license_1',\n",
       " 'cat__vehicle_age_gt_2_year',\n",
       " 'num__days_since_insured',\n",
       " 'cat__vehicle_damage_No',\n",
       " 'num__age',\n",
       " 'cat__vehicle_age_lt_1_year',\n",
       " 'cat__previously_insured_0',\n",
       " 'cat__vehicle_damage_Yes',\n",
       " 'cat__previously_insured_1',\n",
       " 'cat__driving_license_0',\n",
       " 'cat__vehicle_age_bt_1_2_year',\n",
       " 'num__annual_premium',\n",
       " 'cat__gender_Female',\n",
       " 'cat__gender_Male']"
      ]
     },
     "execution_count": 599,
     "metadata": {},
     "output_type": "execute_result"
    }
   ],
   "source": [
    "train_transformed_8 = pipeline1.fit_transform(train_data_8)\n",
    "df_8 = pd.DataFrame(train_transformed_8, columns = pipeline1.get_feature_names_out())\n",
    "\n",
    "removed_cols = set(['id__cust_id', 'target__response'])\n",
    "all_cols = df_8.columns \n",
    "train_cols = list(set(all_cols) - removed_cols)\n",
    "train_cols"
   ]
  },
  {
   "cell_type": "code",
   "execution_count": 600,
   "id": "0ac2ea0c-6bde-43c9-bdd4-4765d68aaea0",
   "metadata": {},
   "outputs": [
    {
     "data": {
      "text/plain": [
       "6"
      ]
     },
     "execution_count": 600,
     "metadata": {},
     "output_type": "execute_result"
    }
   ],
   "source": [
    "X_train, X_val, y_train, y_val = train_test_split(df_8[train_cols].astype('float'), df_8['target__response'].astype('float'), random_state=31)\n",
    "\n",
    "ratio = _calculate_pos_weight_ratio(y_train)\n",
    "ratio"
   ]
  },
  {
   "cell_type": "code",
   "execution_count": 605,
   "id": "ce5ead4d-44e4-41a3-a321-06b5a80d87a0",
   "metadata": {},
   "outputs": [
    {
     "data": {
      "text/html": [
       "<div>\n",
       "<style scoped>\n",
       "    .dataframe tbody tr th:only-of-type {\n",
       "        vertical-align: middle;\n",
       "    }\n",
       "\n",
       "    .dataframe tbody tr th {\n",
       "        vertical-align: top;\n",
       "    }\n",
       "\n",
       "    .dataframe thead th {\n",
       "        text-align: right;\n",
       "    }\n",
       "</style>\n",
       "<table border=\"1\" class=\"dataframe\">\n",
       "  <thead>\n",
       "    <tr style=\"text-align: right;\">\n",
       "      <th></th>\n",
       "      <th>id__cust_id</th>\n",
       "      <th>num__age</th>\n",
       "      <th>num__annual_premium</th>\n",
       "      <th>num__days_since_insured</th>\n",
       "      <th>cat__gender_Female</th>\n",
       "      <th>cat__gender_Male</th>\n",
       "      <th>cat__driving_license_0</th>\n",
       "      <th>cat__driving_license_1</th>\n",
       "      <th>cat__previously_insured_0</th>\n",
       "      <th>cat__previously_insured_1</th>\n",
       "      <th>cat__vehicle_age_bt_1_2_year</th>\n",
       "      <th>cat__vehicle_age_gt_2_year</th>\n",
       "      <th>cat__vehicle_age_lt_1_year</th>\n",
       "      <th>cat__vehicle_damage_No</th>\n",
       "      <th>cat__vehicle_damage_Yes</th>\n",
       "      <th>car__policy_sales_channel</th>\n",
       "      <th>target__response</th>\n",
       "    </tr>\n",
       "  </thead>\n",
       "  <tbody>\n",
       "    <tr>\n",
       "      <th>0</th>\n",
       "      <td>71711</td>\n",
       "      <td>0.640137</td>\n",
       "      <td>-2.404297</td>\n",
       "      <td>-0.54541</td>\n",
       "      <td>0.0</td>\n",
       "      <td>1.0</td>\n",
       "      <td>0.0</td>\n",
       "      <td>1.0</td>\n",
       "      <td>1.0</td>\n",
       "      <td>0.0</td>\n",
       "      <td>1.0</td>\n",
       "      <td>0.0</td>\n",
       "      <td>0.0</td>\n",
       "      <td>0.0</td>\n",
       "      <td>1.0</td>\n",
       "      <td>39.0</td>\n",
       "      <td>0</td>\n",
       "    </tr>\n",
       "    <tr>\n",
       "      <th>1</th>\n",
       "      <td>31460</td>\n",
       "      <td>-0.399902</td>\n",
       "      <td>1.823242</td>\n",
       "      <td>0.54541</td>\n",
       "      <td>0.0</td>\n",
       "      <td>1.0</td>\n",
       "      <td>0.0</td>\n",
       "      <td>1.0</td>\n",
       "      <td>0.0</td>\n",
       "      <td>1.0</td>\n",
       "      <td>0.0</td>\n",
       "      <td>0.0</td>\n",
       "      <td>1.0</td>\n",
       "      <td>1.0</td>\n",
       "      <td>0.0</td>\n",
       "      <td>22.0</td>\n",
       "      <td>0</td>\n",
       "    </tr>\n",
       "    <tr>\n",
       "      <th>2</th>\n",
       "      <td>389010</td>\n",
       "      <td>-0.360107</td>\n",
       "      <td>0.719238</td>\n",
       "      <td>-0.009094</td>\n",
       "      <td>1.0</td>\n",
       "      <td>0.0</td>\n",
       "      <td>0.0</td>\n",
       "      <td>1.0</td>\n",
       "      <td>0.0</td>\n",
       "      <td>1.0</td>\n",
       "      <td>0.0</td>\n",
       "      <td>0.0</td>\n",
       "      <td>1.0</td>\n",
       "      <td>1.0</td>\n",
       "      <td>0.0</td>\n",
       "      <td>22.0</td>\n",
       "      <td>0</td>\n",
       "    </tr>\n",
       "    <tr>\n",
       "      <th>3</th>\n",
       "      <td>303609</td>\n",
       "      <td>-0.52002</td>\n",
       "      <td>1.930664</td>\n",
       "      <td>0.009094</td>\n",
       "      <td>0.0</td>\n",
       "      <td>1.0</td>\n",
       "      <td>0.0</td>\n",
       "      <td>1.0</td>\n",
       "      <td>1.0</td>\n",
       "      <td>0.0</td>\n",
       "      <td>0.0</td>\n",
       "      <td>0.0</td>\n",
       "      <td>1.0</td>\n",
       "      <td>1.0</td>\n",
       "      <td>0.0</td>\n",
       "      <td>22.0</td>\n",
       "      <td>0</td>\n",
       "    </tr>\n",
       "    <tr>\n",
       "      <th>4</th>\n",
       "      <td>264880</td>\n",
       "      <td>-0.52002</td>\n",
       "      <td>-0.05719</td>\n",
       "      <td>0.081848</td>\n",
       "      <td>1.0</td>\n",
       "      <td>0.0</td>\n",
       "      <td>0.0</td>\n",
       "      <td>1.0</td>\n",
       "      <td>0.0</td>\n",
       "      <td>1.0</td>\n",
       "      <td>0.0</td>\n",
       "      <td>0.0</td>\n",
       "      <td>1.0</td>\n",
       "      <td>1.0</td>\n",
       "      <td>0.0</td>\n",
       "      <td>22.0</td>\n",
       "      <td>0</td>\n",
       "    </tr>\n",
       "  </tbody>\n",
       "</table>\n",
       "</div>"
      ],
      "text/plain": [
       "  id__cust_id  num__age num__annual_premium num__days_since_insured  \\\n",
       "0       71711  0.640137           -2.404297                -0.54541   \n",
       "1       31460 -0.399902            1.823242                 0.54541   \n",
       "2      389010 -0.360107            0.719238               -0.009094   \n",
       "3      303609  -0.52002            1.930664                0.009094   \n",
       "4      264880  -0.52002            -0.05719                0.081848   \n",
       "\n",
       "  cat__gender_Female cat__gender_Male cat__driving_license_0  \\\n",
       "0                0.0              1.0                    0.0   \n",
       "1                0.0              1.0                    0.0   \n",
       "2                1.0              0.0                    0.0   \n",
       "3                0.0              1.0                    0.0   \n",
       "4                1.0              0.0                    0.0   \n",
       "\n",
       "  cat__driving_license_1 cat__previously_insured_0 cat__previously_insured_1  \\\n",
       "0                    1.0                       1.0                       0.0   \n",
       "1                    1.0                       0.0                       1.0   \n",
       "2                    1.0                       0.0                       1.0   \n",
       "3                    1.0                       1.0                       0.0   \n",
       "4                    1.0                       0.0                       1.0   \n",
       "\n",
       "  cat__vehicle_age_bt_1_2_year cat__vehicle_age_gt_2_year  \\\n",
       "0                          1.0                        0.0   \n",
       "1                          0.0                        0.0   \n",
       "2                          0.0                        0.0   \n",
       "3                          0.0                        0.0   \n",
       "4                          0.0                        0.0   \n",
       "\n",
       "  cat__vehicle_age_lt_1_year cat__vehicle_damage_No cat__vehicle_damage_Yes  \\\n",
       "0                        0.0                    0.0                     1.0   \n",
       "1                        1.0                    1.0                     0.0   \n",
       "2                        1.0                    1.0                     0.0   \n",
       "3                        1.0                    1.0                     0.0   \n",
       "4                        1.0                    1.0                     0.0   \n",
       "\n",
       "  car__policy_sales_channel target__response  \n",
       "0                      39.0                0  \n",
       "1                      22.0                0  \n",
       "2                      22.0                0  \n",
       "3                      22.0                0  \n",
       "4                      22.0                0  "
      ]
     },
     "execution_count": 605,
     "metadata": {},
     "output_type": "execute_result"
    }
   ],
   "source": [
    "df_8.head()"
   ]
  },
  {
   "cell_type": "code",
   "execution_count": 606,
   "id": "ac058f62-097f-4a1b-8e47-15f2133c7b24",
   "metadata": {},
   "outputs": [
    {
     "name": "stdout",
     "output_type": "stream",
     "text": [
      "[0]\tvalidation_0-error:0.20302\tvalidation_0-logloss:0.54834\tvalidation_1-error:0.20551\tvalidation_1-logloss:0.54957\n",
      "[1]\tvalidation_0-error:0.20157\tvalidation_0-logloss:0.47393\tvalidation_1-error:0.20410\tvalidation_1-logloss:0.47695\n",
      "[2]\tvalidation_0-error:0.19882\tvalidation_0-logloss:0.43160\tvalidation_1-error:0.20115\tvalidation_1-logloss:0.43565\n",
      "[3]\tvalidation_0-error:0.19737\tvalidation_0-logloss:0.40535\tvalidation_1-error:0.19986\tvalidation_1-logloss:0.41007\n",
      "[4]\tvalidation_0-error:0.19760\tvalidation_0-logloss:0.38744\tvalidation_1-error:0.20033\tvalidation_1-logloss:0.39393\n",
      "[5]\tvalidation_0-error:0.19474\tvalidation_0-logloss:0.37625\tvalidation_1-error:0.19856\tvalidation_1-logloss:0.38370\n",
      "[6]\tvalidation_0-error:0.19489\tvalidation_0-logloss:0.36792\tvalidation_1-error:0.19951\tvalidation_1-logloss:0.37653\n",
      "[7]\tvalidation_0-error:0.19434\tvalidation_0-logloss:0.36098\tvalidation_1-error:0.19998\tvalidation_1-logloss:0.37027\n",
      "[8]\tvalidation_0-error:0.19709\tvalidation_0-logloss:0.35623\tvalidation_1-error:0.20410\tvalidation_1-logloss:0.36636\n",
      "[9]\tvalidation_0-error:0.19615\tvalidation_0-logloss:0.35130\tvalidation_1-error:0.20410\tvalidation_1-logloss:0.36285\n",
      "[10]\tvalidation_0-error:0.19544\tvalidation_0-logloss:0.34623\tvalidation_1-error:0.20363\tvalidation_1-logloss:0.35868\n",
      "[11]\tvalidation_0-error:0.19273\tvalidation_0-logloss:0.34380\tvalidation_1-error:0.19903\tvalidation_1-logloss:0.35744\n",
      "[12]\tvalidation_0-error:0.19199\tvalidation_0-logloss:0.34161\tvalidation_1-error:0.19927\tvalidation_1-logloss:0.35650\n",
      "[13]\tvalidation_0-error:0.19148\tvalidation_0-logloss:0.33892\tvalidation_1-error:0.19962\tvalidation_1-logloss:0.35528\n",
      "[14]\tvalidation_0-error:0.19124\tvalidation_0-logloss:0.33681\tvalidation_1-error:0.19892\tvalidation_1-logloss:0.35445\n",
      "[15]\tvalidation_0-error:0.18931\tvalidation_0-logloss:0.33438\tvalidation_1-error:0.19809\tvalidation_1-logloss:0.35304\n",
      "[16]\tvalidation_0-error:0.18829\tvalidation_0-logloss:0.33236\tvalidation_1-error:0.19715\tvalidation_1-logloss:0.35163\n",
      "[17]\tvalidation_0-error:0.18751\tvalidation_0-logloss:0.33087\tvalidation_1-error:0.19691\tvalidation_1-logloss:0.35104\n",
      "[18]\tvalidation_0-error:0.18656\tvalidation_0-logloss:0.32944\tvalidation_1-error:0.19609\tvalidation_1-logloss:0.35013\n",
      "[19]\tvalidation_0-error:0.18601\tvalidation_0-logloss:0.32862\tvalidation_1-error:0.19597\tvalidation_1-logloss:0.34990\n",
      "[20]\tvalidation_0-error:0.18519\tvalidation_0-logloss:0.32708\tvalidation_1-error:0.19526\tvalidation_1-logloss:0.34933\n",
      "[21]\tvalidation_0-error:0.18507\tvalidation_0-logloss:0.32607\tvalidation_1-error:0.19456\tvalidation_1-logloss:0.34936\n",
      "[22]\tvalidation_0-error:0.18456\tvalidation_0-logloss:0.32509\tvalidation_1-error:0.19479\tvalidation_1-logloss:0.34918\n",
      "[23]\tvalidation_0-error:0.18405\tvalidation_0-logloss:0.32438\tvalidation_1-error:0.19479\tvalidation_1-logloss:0.34919\n",
      "[24]\tvalidation_0-error:0.18232\tvalidation_0-logloss:0.32266\tvalidation_1-error:0.19279\tvalidation_1-logloss:0.34870\n",
      "[25]\tvalidation_0-error:0.18201\tvalidation_0-logloss:0.32126\tvalidation_1-error:0.19279\tvalidation_1-logloss:0.34865\n",
      "[26]\tvalidation_0-error:0.18177\tvalidation_0-logloss:0.32069\tvalidation_1-error:0.19279\tvalidation_1-logloss:0.34866\n",
      "[27]\tvalidation_0-error:0.18114\tvalidation_0-logloss:0.31915\tvalidation_1-error:0.19208\tvalidation_1-logloss:0.34807\n",
      "[28]\tvalidation_0-error:0.18032\tvalidation_0-logloss:0.31771\tvalidation_1-error:0.19173\tvalidation_1-logloss:0.34779\n",
      "[29]\tvalidation_0-error:0.17981\tvalidation_0-logloss:0.31681\tvalidation_1-error:0.19126\tvalidation_1-logloss:0.34764\n",
      "[30]\tvalidation_0-error:0.17910\tvalidation_0-logloss:0.31593\tvalidation_1-error:0.19149\tvalidation_1-logloss:0.34773\n",
      "[31]\tvalidation_0-error:0.17721\tvalidation_0-logloss:0.31339\tvalidation_1-error:0.19114\tvalidation_1-logloss:0.34656\n",
      "[32]\tvalidation_0-error:0.17706\tvalidation_0-logloss:0.31315\tvalidation_1-error:0.19090\tvalidation_1-logloss:0.34675\n",
      "[33]\tvalidation_0-error:0.17627\tvalidation_0-logloss:0.31161\tvalidation_1-error:0.19078\tvalidation_1-logloss:0.34601\n",
      "[34]\tvalidation_0-error:0.17600\tvalidation_0-logloss:0.31122\tvalidation_1-error:0.19102\tvalidation_1-logloss:0.34596\n",
      "[35]\tvalidation_0-error:0.17584\tvalidation_0-logloss:0.31109\tvalidation_1-error:0.19137\tvalidation_1-logloss:0.34630\n",
      "[36]\tvalidation_0-error:0.17474\tvalidation_0-logloss:0.30900\tvalidation_1-error:0.19043\tvalidation_1-logloss:0.34574\n",
      "[37]\tvalidation_0-error:0.17258\tvalidation_0-logloss:0.30608\tvalidation_1-error:0.18878\tvalidation_1-logloss:0.34459\n",
      "[38]\tvalidation_0-error:0.16999\tvalidation_0-logloss:0.30409\tvalidation_1-error:0.18831\tvalidation_1-logloss:0.34370\n",
      "[39]\tvalidation_0-error:0.16932\tvalidation_0-logloss:0.30232\tvalidation_1-error:0.18749\tvalidation_1-logloss:0.34330\n",
      "[40]\tvalidation_0-error:0.16822\tvalidation_0-logloss:0.29997\tvalidation_1-error:0.18642\tvalidation_1-logloss:0.34297\n",
      "[41]\tvalidation_0-error:0.16645\tvalidation_0-logloss:0.29809\tvalidation_1-error:0.18548\tvalidation_1-logloss:0.34186\n",
      "[42]\tvalidation_0-error:0.16598\tvalidation_0-logloss:0.29742\tvalidation_1-error:0.18548\tvalidation_1-logloss:0.34151\n",
      "[43]\tvalidation_0-error:0.16527\tvalidation_0-logloss:0.29564\tvalidation_1-error:0.18536\tvalidation_1-logloss:0.34179\n",
      "[44]\tvalidation_0-error:0.16511\tvalidation_0-logloss:0.29544\tvalidation_1-error:0.18548\tvalidation_1-logloss:0.34192\n",
      "[45]\tvalidation_0-error:0.16331\tvalidation_0-logloss:0.29264\tvalidation_1-error:0.18454\tvalidation_1-logloss:0.34144\n",
      "[46]\tvalidation_0-error:0.16233\tvalidation_0-logloss:0.29031\tvalidation_1-error:0.18407\tvalidation_1-logloss:0.34102\n",
      "[47]\tvalidation_0-error:0.16107\tvalidation_0-logloss:0.28865\tvalidation_1-error:0.18289\tvalidation_1-logloss:0.34082\n",
      "[48]\tvalidation_0-error:0.16056\tvalidation_0-logloss:0.28794\tvalidation_1-error:0.18277\tvalidation_1-logloss:0.34079\n",
      "[49]\tvalidation_0-error:0.15875\tvalidation_0-logloss:0.28502\tvalidation_1-error:0.18195\tvalidation_1-logloss:0.33980\n",
      "[50]\tvalidation_0-error:0.15852\tvalidation_0-logloss:0.28459\tvalidation_1-error:0.18183\tvalidation_1-logloss:0.33987\n",
      "[51]\tvalidation_0-error:0.15773\tvalidation_0-logloss:0.28239\tvalidation_1-error:0.18195\tvalidation_1-logloss:0.33896\n",
      "[52]\tvalidation_0-error:0.15742\tvalidation_0-logloss:0.28193\tvalidation_1-error:0.18159\tvalidation_1-logloss:0.33900\n",
      "[53]\tvalidation_0-error:0.15694\tvalidation_0-logloss:0.28138\tvalidation_1-error:0.18148\tvalidation_1-logloss:0.33895\n",
      "[54]\tvalidation_0-error:0.15651\tvalidation_0-logloss:0.28064\tvalidation_1-error:0.18124\tvalidation_1-logloss:0.33870\n",
      "[55]\tvalidation_0-error:0.15549\tvalidation_0-logloss:0.27927\tvalidation_1-error:0.17994\tvalidation_1-logloss:0.33851\n",
      "[56]\tvalidation_0-error:0.15467\tvalidation_0-logloss:0.27797\tvalidation_1-error:0.17971\tvalidation_1-logloss:0.33782\n",
      "[57]\tvalidation_0-error:0.15353\tvalidation_0-logloss:0.27689\tvalidation_1-error:0.17806\tvalidation_1-logloss:0.33733\n",
      "[58]\tvalidation_0-error:0.15313\tvalidation_0-logloss:0.27628\tvalidation_1-error:0.17818\tvalidation_1-logloss:0.33729\n",
      "[59]\tvalidation_0-error:0.15207\tvalidation_0-logloss:0.27453\tvalidation_1-error:0.17818\tvalidation_1-logloss:0.33675\n",
      "[60]\tvalidation_0-error:0.15133\tvalidation_0-logloss:0.27331\tvalidation_1-error:0.17759\tvalidation_1-logloss:0.33660\n",
      "[61]\tvalidation_0-error:0.15121\tvalidation_0-logloss:0.27295\tvalidation_1-error:0.17735\tvalidation_1-logloss:0.33677\n",
      "[62]\tvalidation_0-error:0.15066\tvalidation_0-logloss:0.27160\tvalidation_1-error:0.17747\tvalidation_1-logloss:0.33649\n",
      "[63]\tvalidation_0-error:0.14952\tvalidation_0-logloss:0.26992\tvalidation_1-error:0.17759\tvalidation_1-logloss:0.33599\n",
      "[64]\tvalidation_0-error:0.14893\tvalidation_0-logloss:0.26922\tvalidation_1-error:0.17770\tvalidation_1-logloss:0.33568\n",
      "[65]\tvalidation_0-error:0.14862\tvalidation_0-logloss:0.26915\tvalidation_1-error:0.17759\tvalidation_1-logloss:0.33580\n",
      "[66]\tvalidation_0-error:0.14724\tvalidation_0-logloss:0.26706\tvalidation_1-error:0.17641\tvalidation_1-logloss:0.33516\n",
      "[67]\tvalidation_0-error:0.14720\tvalidation_0-logloss:0.26695\tvalidation_1-error:0.17653\tvalidation_1-logloss:0.33516\n",
      "[68]\tvalidation_0-error:0.14630\tvalidation_0-logloss:0.26556\tvalidation_1-error:0.17723\tvalidation_1-logloss:0.33548\n",
      "[69]\tvalidation_0-error:0.14587\tvalidation_0-logloss:0.26465\tvalidation_1-error:0.17735\tvalidation_1-logloss:0.33533\n",
      "[70]\tvalidation_0-error:0.14508\tvalidation_0-logloss:0.26353\tvalidation_1-error:0.17747\tvalidation_1-logloss:0.33562\n",
      "[71]\tvalidation_0-error:0.14477\tvalidation_0-logloss:0.26282\tvalidation_1-error:0.17747\tvalidation_1-logloss:0.33530\n",
      "[72]\tvalidation_0-error:0.14465\tvalidation_0-logloss:0.26239\tvalidation_1-error:0.17700\tvalidation_1-logloss:0.33507\n",
      "[73]\tvalidation_0-error:0.14386\tvalidation_0-logloss:0.26139\tvalidation_1-error:0.17676\tvalidation_1-logloss:0.33475\n",
      "[74]\tvalidation_0-error:0.14190\tvalidation_0-logloss:0.25926\tvalidation_1-error:0.17664\tvalidation_1-logloss:0.33464\n",
      "[75]\tvalidation_0-error:0.14143\tvalidation_0-logloss:0.25839\tvalidation_1-error:0.17617\tvalidation_1-logloss:0.33460\n",
      "[76]\tvalidation_0-error:0.14107\tvalidation_0-logloss:0.25724\tvalidation_1-error:0.17594\tvalidation_1-logloss:0.33476\n",
      "[77]\tvalidation_0-error:0.14068\tvalidation_0-logloss:0.25626\tvalidation_1-error:0.17605\tvalidation_1-logloss:0.33491\n",
      "[78]\tvalidation_0-error:0.14037\tvalidation_0-logloss:0.25581\tvalidation_1-error:0.17617\tvalidation_1-logloss:0.33471\n",
      "[79]\tvalidation_0-error:0.14005\tvalidation_0-logloss:0.25511\tvalidation_1-error:0.17605\tvalidation_1-logloss:0.33462\n",
      "[80]\tvalidation_0-error:0.13978\tvalidation_0-logloss:0.25460\tvalidation_1-error:0.17605\tvalidation_1-logloss:0.33464\n"
     ]
    },
    {
     "data": {
      "text/html": [
       "<style>#sk-container-id-35 {color: black;background-color: white;}#sk-container-id-35 pre{padding: 0;}#sk-container-id-35 div.sk-toggleable {background-color: white;}#sk-container-id-35 label.sk-toggleable__label {cursor: pointer;display: block;width: 100%;margin-bottom: 0;padding: 0.3em;box-sizing: border-box;text-align: center;}#sk-container-id-35 label.sk-toggleable__label-arrow:before {content: \"▸\";float: left;margin-right: 0.25em;color: #696969;}#sk-container-id-35 label.sk-toggleable__label-arrow:hover:before {color: black;}#sk-container-id-35 div.sk-estimator:hover label.sk-toggleable__label-arrow:before {color: black;}#sk-container-id-35 div.sk-toggleable__content {max-height: 0;max-width: 0;overflow: hidden;text-align: left;background-color: #f0f8ff;}#sk-container-id-35 div.sk-toggleable__content pre {margin: 0.2em;color: black;border-radius: 0.25em;background-color: #f0f8ff;}#sk-container-id-35 input.sk-toggleable__control:checked~div.sk-toggleable__content {max-height: 200px;max-width: 100%;overflow: auto;}#sk-container-id-35 input.sk-toggleable__control:checked~label.sk-toggleable__label-arrow:before {content: \"▾\";}#sk-container-id-35 div.sk-estimator input.sk-toggleable__control:checked~label.sk-toggleable__label {background-color: #d4ebff;}#sk-container-id-35 div.sk-label input.sk-toggleable__control:checked~label.sk-toggleable__label {background-color: #d4ebff;}#sk-container-id-35 input.sk-hidden--visually {border: 0;clip: rect(1px 1px 1px 1px);clip: rect(1px, 1px, 1px, 1px);height: 1px;margin: -1px;overflow: hidden;padding: 0;position: absolute;width: 1px;}#sk-container-id-35 div.sk-estimator {font-family: monospace;background-color: #f0f8ff;border: 1px dotted black;border-radius: 0.25em;box-sizing: border-box;margin-bottom: 0.5em;}#sk-container-id-35 div.sk-estimator:hover {background-color: #d4ebff;}#sk-container-id-35 div.sk-parallel-item::after {content: \"\";width: 100%;border-bottom: 1px solid gray;flex-grow: 1;}#sk-container-id-35 div.sk-label:hover label.sk-toggleable__label {background-color: #d4ebff;}#sk-container-id-35 div.sk-serial::before {content: \"\";position: absolute;border-left: 1px solid gray;box-sizing: border-box;top: 0;bottom: 0;left: 50%;z-index: 0;}#sk-container-id-35 div.sk-serial {display: flex;flex-direction: column;align-items: center;background-color: white;padding-right: 0.2em;padding-left: 0.2em;position: relative;}#sk-container-id-35 div.sk-item {position: relative;z-index: 1;}#sk-container-id-35 div.sk-parallel {display: flex;align-items: stretch;justify-content: center;background-color: white;position: relative;}#sk-container-id-35 div.sk-item::before, #sk-container-id-35 div.sk-parallel-item::before {content: \"\";position: absolute;border-left: 1px solid gray;box-sizing: border-box;top: 0;bottom: 0;left: 50%;z-index: -1;}#sk-container-id-35 div.sk-parallel-item {display: flex;flex-direction: column;z-index: 1;position: relative;background-color: white;}#sk-container-id-35 div.sk-parallel-item:first-child::after {align-self: flex-end;width: 50%;}#sk-container-id-35 div.sk-parallel-item:last-child::after {align-self: flex-start;width: 50%;}#sk-container-id-35 div.sk-parallel-item:only-child::after {width: 0;}#sk-container-id-35 div.sk-dashed-wrapped {border: 1px dashed gray;margin: 0 0.4em 0.5em 0.4em;box-sizing: border-box;padding-bottom: 0.4em;background-color: white;}#sk-container-id-35 div.sk-label label {font-family: monospace;font-weight: bold;display: inline-block;line-height: 1.2em;}#sk-container-id-35 div.sk-label-container {text-align: center;}#sk-container-id-35 div.sk-container {/* jupyter's `normalize.less` sets `[hidden] { display: none; }` but bootstrap.min.css set `[hidden] { display: none !important; }` so we also need the `!important` here to be able to override the default hidden behavior on the sphinx rendered scikit-learn.org. See: https://github.com/scikit-learn/scikit-learn/issues/21755 */display: inline-block !important;position: relative;}#sk-container-id-35 div.sk-text-repr-fallback {display: none;}</style><div id=\"sk-container-id-35\" class=\"sk-top-container\"><div class=\"sk-text-repr-fallback\"><pre>XGBClassifier(base_score=0.5, booster=&#x27;gbtree&#x27;, callbacks=None,\n",
       "              colsample_bylevel=1, colsample_bynode=1, colsample_bytree=1,\n",
       "              early_stopping_rounds=5, enable_categorical=False,\n",
       "              eval_metric=[&#x27;error&#x27;, &#x27;logloss&#x27;], gamma=0, gpu_id=-1,\n",
       "              grow_policy=&#x27;depthwise&#x27;, importance_type=None,\n",
       "              interaction_constraints=&#x27;&#x27;, learning_rate=0.300000012,\n",
       "              max_bin=256, max_cat_to_onehot=4, max_delta_step=0, max_depth=6,\n",
       "              max_leaves=0, min_child_weight=1, missing=nan,\n",
       "              monotone_constraints=&#x27;()&#x27;, n_estimators=1000, n_jobs=0,\n",
       "              num_parallel_tree=1, predictor=&#x27;auto&#x27;, random_state=0,\n",
       "              reg_alpha=0, reg_lambda=1, ...)</pre><b>In a Jupyter environment, please rerun this cell to show the HTML representation or trust the notebook. <br />On GitHub, the HTML representation is unable to render, please try loading this page with nbviewer.org.</b></div><div class=\"sk-container\" hidden><div class=\"sk-item\"><div class=\"sk-estimator sk-toggleable\"><input class=\"sk-toggleable__control sk-hidden--visually\" id=\"sk-estimator-id-187\" type=\"checkbox\" checked><label for=\"sk-estimator-id-187\" class=\"sk-toggleable__label sk-toggleable__label-arrow\">XGBClassifier</label><div class=\"sk-toggleable__content\"><pre>XGBClassifier(base_score=0.5, booster=&#x27;gbtree&#x27;, callbacks=None,\n",
       "              colsample_bylevel=1, colsample_bynode=1, colsample_bytree=1,\n",
       "              early_stopping_rounds=5, enable_categorical=False,\n",
       "              eval_metric=[&#x27;error&#x27;, &#x27;logloss&#x27;], gamma=0, gpu_id=-1,\n",
       "              grow_policy=&#x27;depthwise&#x27;, importance_type=None,\n",
       "              interaction_constraints=&#x27;&#x27;, learning_rate=0.300000012,\n",
       "              max_bin=256, max_cat_to_onehot=4, max_delta_step=0, max_depth=6,\n",
       "              max_leaves=0, min_child_weight=1, missing=nan,\n",
       "              monotone_constraints=&#x27;()&#x27;, n_estimators=1000, n_jobs=0,\n",
       "              num_parallel_tree=1, predictor=&#x27;auto&#x27;, random_state=0,\n",
       "              reg_alpha=0, reg_lambda=1, ...)</pre></div></div></div></div></div>"
      ],
      "text/plain": [
       "XGBClassifier(base_score=0.5, booster='gbtree', callbacks=None,\n",
       "              colsample_bylevel=1, colsample_bynode=1, colsample_bytree=1,\n",
       "              early_stopping_rounds=5, enable_categorical=False,\n",
       "              eval_metric=['error', 'logloss'], gamma=0, gpu_id=-1,\n",
       "              grow_policy='depthwise', importance_type=None,\n",
       "              interaction_constraints='', learning_rate=0.300000012,\n",
       "              max_bin=256, max_cat_to_onehot=4, max_delta_step=0, max_depth=6,\n",
       "              max_leaves=0, min_child_weight=1, missing=nan,\n",
       "              monotone_constraints='()', n_estimators=1000, n_jobs=0,\n",
       "              num_parallel_tree=1, predictor='auto', random_state=0,\n",
       "              reg_alpha=0, reg_lambda=1, ...)"
      ]
     },
     "execution_count": 606,
     "metadata": {},
     "output_type": "execute_result"
    }
   ],
   "source": [
    "clf = xgb.XGBClassifier(scale_pos_weight=ratio, objective='binary:logistic', early_stopping_rounds=5, n_estimators=1000, eval_metric=[\"error\", \"logloss\"])\n",
    "clf.fit(X_train, y_train, eval_set=[(X_train, y_train), (X_val, y_val)])"
   ]
  },
  {
   "cell_type": "code",
   "execution_count": 608,
   "id": "f7266f16-cde3-4db7-8c4e-00db35c88aee",
   "metadata": {},
   "outputs": [
    {
     "data": {
      "text/plain": [
       "<matplotlib.legend.Legend at 0x1ed547f6eb0>"
      ]
     },
     "execution_count": 608,
     "metadata": {},
     "output_type": "execute_result"
    },
    {
     "data": {
      "image/png": "[encoded data removed]",
      "text/plain": [
       "<Figure size 720x504 with 1 Axes>"
      ]
     },
     "metadata": {
      "needs_background": "light"
     },
     "output_type": "display_data"
    },
    {
     "data": {
      "image/png": "[encoded data removed]",
      "text/plain": [
       "<Figure size 720x504 with 1 Axes>"
      ]
     },
     "metadata": {
      "needs_background": "light"
     },
     "output_type": "display_data"
    }
   ],
   "source": [
    "results = clf.evals_result()\n",
    "\n",
    "plt.figure(figsize=(10,7))\n",
    "plt.plot(results[\"validation_0\"][\"logloss\"], label=\"Training loss\")\n",
    "plt.plot(results[\"validation_1\"][\"logloss\"], label=\"Validation loss\")\n",
    "plt.axvline(21, color=\"gray\", label=\"Optimal tree number\")\n",
    "plt.xlabel(\"Number of trees\")\n",
    "plt.ylabel(\"Loss\")\n",
    "plt.legend()\n",
    "\n",
    "plt.figure(figsize=(10,7))\n",
    "plt.plot(results[\"validation_0\"][\"error\"], label=\"Training Error\")\n",
    "plt.plot(results[\"validation_1\"][\"error\"], label=\"Validation Error\")\n",
    "plt.axvline(21, color=\"gray\", label=\"Optimal tree number\")\n",
    "plt.xlabel(\"Number of trees\")\n",
    "plt.ylabel(\"Loss\")\n",
    "plt.legend()"
   ]
  },
  {
   "cell_type": "code",
   "execution_count": 618,
   "id": "1c26cd48-c6bf-41de-a9e0-960752092fa9",
   "metadata": {},
   "outputs": [
    {
     "name": "stderr",
     "output_type": "stream",
     "text": [
      "C:\\Users\\gsund\\Anaconda3\\envs\\churn\\lib\\site-packages\\xgboost\\core.py:90: UserWarning: ntree_limit is deprecated, use `iteration_range` or model slicing instead.\n",
      "  warnings.warn(\n"
     ]
    },
    {
     "name": "stdout",
     "output_type": "stream",
     "text": [
      "Best Threshold=0.443348, G-Mean=0.848\n"
     ]
    },
    {
     "data": {
      "image/png": "[encoded data removed]",
      "text/plain": [
       "<Figure size 432x288 with 1 Axes>"
      ]
     },
     "metadata": {
      "needs_background": "light"
     },
     "output_type": "display_data"
    },
    {
     "name": "stdout",
     "output_type": "stream",
     "text": [
      "Best Threshold=0.715360, F-Score=0.584\n"
     ]
    },
    {
     "data": {
      "image/png": "[encoded data removed]",
      "text/plain": [
       "<Figure size 432x288 with 1 Axes>"
      ]
     },
     "metadata": {
      "needs_background": "light"
     },
     "output_type": "display_data"
    }
   ],
   "source": [
    "probs = clf.predict_proba(X_val, ntree_limit=25)\n",
    "# probs = clf.predict_proba(X_val)\n",
    "\n",
    "preds = probs[:,1]\n",
    "fpr, tpr, threshold = metrics.roc_curve(y_val, preds)\n",
    "roc_auc = metrics.auc(fpr, tpr)\n",
    "\n",
    "gmeans = sqrt(tpr * (1-fpr))\n",
    "# locate the index of the largest g-mean\n",
    "ix = argmax(gmeans)\n",
    "print('Best Threshold=%f, G-Mean=%.3f' % (threshold[ix], gmeans[ix]))\n",
    "# plot the roc curve for the model\n",
    "pyplot.plot([0,1], [0,1], linestyle='--', label='No Skill')\n",
    "pyplot.plot(fpr, tpr, label='Logistic')\n",
    "pyplot.scatter(fpr[ix], tpr[ix], marker='o', color='black', label='Best')\n",
    "# axis labels\n",
    "pyplot.xlabel('False Positive Rate')\n",
    "pyplot.ylabel('True Positive Rate')\n",
    "pyplot.legend()\n",
    "# show the plot\n",
    "pyplot.show()\n",
    "\n",
    "\n",
    "precision, recall, thresholds = metrics.precision_recall_curve(y_val, preds)\n",
    "# convert to f score\n",
    "fscore = (2 * precision * recall) / (precision + recall)\n",
    "# locate the index of the largest f score\n",
    "ix = argmax(fscore)\n",
    "print('Best Threshold=%f, F-Score=%.3f' % (thresholds[ix], fscore[ix]))\n",
    "# plot the roc curve for the model\n",
    "no_skill = len(y_val[y_val==1]) / len(y_val)\n",
    "pyplot.plot([0,1], [no_skill,no_skill], linestyle='--', label='No Skill')\n",
    "pyplot.plot(recall, precision, label='Logistic')\n",
    "pyplot.scatter(recall[ix], precision[ix], marker='o', color='black', label='Best')\n",
    "# axis labels\n",
    "pyplot.xlabel('Recall')\n",
    "pyplot.ylabel('Precision')\n",
    "pyplot.legend()\n",
    "# show the plot\n",
    "pyplot.show()"
   ]
  },
  {
   "cell_type": "code",
   "execution_count": 619,
   "id": "44daf01a-4b02-4f83-a7b0-b3ec06e3e55b",
   "metadata": {},
   "outputs": [],
   "source": [
    "y_preds_pr = to_labels(preds, 0.96)"
   ]
  },
  {
   "cell_type": "code",
   "execution_count": 615,
   "id": "c2851f78-73ff-4bf0-b361-5f6dc27d0093",
   "metadata": {},
   "outputs": [
    {
     "data": {
      "text/plain": [
       "0.3333333333333333"
      ]
     },
     "execution_count": 615,
     "metadata": {},
     "output_type": "execute_result"
    }
   ],
   "source": [
    "metrics.precision_score(y_val, y_preds_pr)"
   ]
  },
  {
   "cell_type": "code",
   "execution_count": 620,
   "id": "5bd9c7fd-edc5-4bdb-bca8-559c0f31ce9a",
   "metadata": {},
   "outputs": [],
   "source": [
    "from sklearn.model_selection import GridSearchCV"
   ]
  },
  {
   "cell_type": "code",
   "execution_count": 621,
   "id": "2cc3d704-a2fa-455d-b515-09fd5f18ec19",
   "metadata": {},
   "outputs": [],
   "source": [
    "parameters = {\n",
    "    'min_child_weight': [1, 5, 10],\n",
    "    'gamma': [0.5, 1, 1.5, 2, 5],\n",
    "    'subsample': [0.6, 0.8, 1.0],\n",
    "    'colsample_bytree': [0.6, 0.8, 1.0],\n",
    "    'max_depth': [3, 4, 5]\n",
    "}"
   ]
  },
  {
   "cell_type": "code",
   "execution_count": 622,
   "id": "6c6681c4-334f-46ea-9c6e-18a32e37417a",
   "metadata": {},
   "outputs": [],
   "source": [
    "clf = xgb.XGBClassifier(scale_pos_weight=ratio, objective='binary:logistic', early_stopping_rounds=5, n_estimators=1000, eval_metric=[\"error\", \"logloss\"])"
   ]
  },
  {
   "cell_type": "code",
   "execution_count": null,
   "id": "e78963d9-ac6b-4d30-9751-22220d76aeb1",
   "metadata": {},
   "outputs": [],
   "source": [
    "# clf = GridSearchCV(clf, param_distributions=params, scoring='f1_score')\n",
    "# clf.fit(X_train, y_train, eval_set=[(X_train, y_train), (X_val, y_val)])"
   ]
  },
  {
   "cell_type": "code",
   "execution_count": 628,
   "id": "d9fcc94f-5409-4ec2-8a03-f6cdc7d71cca",
   "metadata": {},
   "outputs": [],
   "source": [
    "grid_search = GridSearchCV(\n",
    "    estimator=clf,\n",
    "    param_grid=parameters,\n",
    "    scoring = 'roc_auc',\n",
    "    n_jobs = 10,\n",
    "    cv = 3,\n",
    "    verbose=3\n",
    ")"
   ]
  },
  {
   "cell_type": "code",
   "execution_count": 629,
   "id": "5671fed5-8fcf-4e72-84bb-cdc6b66b5f02",
   "metadata": {},
   "outputs": [
    {
     "name": "stdout",
     "output_type": "stream",
     "text": [
      "Fitting 3 folds for each of 405 candidates, totalling 1215 fits\n",
      "[0]\tvalidation_0-error:0.20322\tvalidation_0-logloss:0.55014\tvalidation_1-error:0.20481\tvalidation_1-logloss:0.55095\n",
      "[1]\tvalidation_0-error:0.20130\tvalidation_0-logloss:0.47758\tvalidation_1-error:0.20257\tvalidation_1-logloss:0.47937\n",
      "[2]\tvalidation_0-error:0.20031\tvalidation_0-logloss:0.43594\tvalidation_1-error:0.20245\tvalidation_1-logloss:0.43850\n",
      "[3]\tvalidation_0-error:0.19941\tvalidation_0-logloss:0.41031\tvalidation_1-error:0.20127\tvalidation_1-logloss:0.41321\n",
      "[4]\tvalidation_0-error:0.20063\tvalidation_0-logloss:0.39404\tvalidation_1-error:0.20304\tvalidation_1-logloss:0.39731\n",
      "[5]\tvalidation_0-error:0.20031\tvalidation_0-logloss:0.38246\tvalidation_1-error:0.20328\tvalidation_1-logloss:0.38651\n",
      "[6]\tvalidation_0-error:0.19973\tvalidation_0-logloss:0.37488\tvalidation_1-error:0.20304\tvalidation_1-logloss:0.37985\n",
      "[7]\tvalidation_0-error:0.19953\tvalidation_0-logloss:0.36817\tvalidation_1-error:0.20257\tvalidation_1-logloss:0.37364\n",
      "[8]\tvalidation_0-error:0.19969\tvalidation_0-logloss:0.36260\tvalidation_1-error:0.20245\tvalidation_1-logloss:0.36879\n",
      "[9]\tvalidation_0-error:0.20181\tvalidation_0-logloss:0.35847\tvalidation_1-error:0.20622\tvalidation_1-logloss:0.36565\n",
      "[10]\tvalidation_0-error:0.19882\tvalidation_0-logloss:0.35575\tvalidation_1-error:0.20375\tvalidation_1-logloss:0.36369\n",
      "[11]\tvalidation_0-error:0.19749\tvalidation_0-logloss:0.35314\tvalidation_1-error:0.20363\tvalidation_1-logloss:0.36193\n",
      "[12]\tvalidation_0-error:0.19682\tvalidation_0-logloss:0.35118\tvalidation_1-error:0.20233\tvalidation_1-logloss:0.36077\n",
      "[13]\tvalidation_0-error:0.19623\tvalidation_0-logloss:0.34936\tvalidation_1-error:0.20186\tvalidation_1-logloss:0.35986\n",
      "[14]\tvalidation_0-error:0.19595\tvalidation_0-logloss:0.34795\tvalidation_1-error:0.20186\tvalidation_1-logloss:0.35882\n",
      "[15]\tvalidation_0-error:0.19320\tvalidation_0-logloss:0.34423\tvalidation_1-error:0.19927\tvalidation_1-logloss:0.35594\n",
      "[16]\tvalidation_0-error:0.19324\tvalidation_0-logloss:0.34335\tvalidation_1-error:0.19962\tvalidation_1-logloss:0.35585\n",
      "[17]\tvalidation_0-error:0.19328\tvalidation_0-logloss:0.34197\tvalidation_1-error:0.19939\tvalidation_1-logloss:0.35583\n",
      "[18]\tvalidation_0-error:0.19344\tvalidation_0-logloss:0.34073\tvalidation_1-error:0.19974\tvalidation_1-logloss:0.35494\n",
      "[19]\tvalidation_0-error:0.19183\tvalidation_0-logloss:0.33950\tvalidation_1-error:0.19998\tvalidation_1-logloss:0.35413\n",
      "[20]\tvalidation_0-error:0.19104\tvalidation_0-logloss:0.33821\tvalidation_1-error:0.19903\tvalidation_1-logloss:0.35368\n",
      "[21]\tvalidation_0-error:0.19069\tvalidation_0-logloss:0.33762\tvalidation_1-error:0.19903\tvalidation_1-logloss:0.35351\n",
      "[22]\tvalidation_0-error:0.19057\tvalidation_0-logloss:0.33703\tvalidation_1-error:0.19892\tvalidation_1-logloss:0.35329\n",
      "[23]\tvalidation_0-error:0.19049\tvalidation_0-logloss:0.33621\tvalidation_1-error:0.19833\tvalidation_1-logloss:0.35304\n",
      "[24]\tvalidation_0-error:0.18865\tvalidation_0-logloss:0.33470\tvalidation_1-error:0.19668\tvalidation_1-logloss:0.35221\n",
      "[25]\tvalidation_0-error:0.18810\tvalidation_0-logloss:0.33412\tvalidation_1-error:0.19632\tvalidation_1-logloss:0.35207\n",
      "[26]\tvalidation_0-error:0.18755\tvalidation_0-logloss:0.33319\tvalidation_1-error:0.19609\tvalidation_1-logloss:0.35173\n",
      "[27]\tvalidation_0-error:0.18672\tvalidation_0-logloss:0.33198\tvalidation_1-error:0.19609\tvalidation_1-logloss:0.35137\n",
      "[28]\tvalidation_0-error:0.18645\tvalidation_0-logloss:0.33163\tvalidation_1-error:0.19585\tvalidation_1-logloss:0.35142\n",
      "[29]\tvalidation_0-error:0.18609\tvalidation_0-logloss:0.33089\tvalidation_1-error:0.19597\tvalidation_1-logloss:0.35113\n",
      "[30]\tvalidation_0-error:0.18554\tvalidation_0-logloss:0.32944\tvalidation_1-error:0.19550\tvalidation_1-logloss:0.35099\n",
      "[31]\tvalidation_0-error:0.18539\tvalidation_0-logloss:0.32925\tvalidation_1-error:0.19550\tvalidation_1-logloss:0.35090\n",
      "[32]\tvalidation_0-error:0.18491\tvalidation_0-logloss:0.32828\tvalidation_1-error:0.19562\tvalidation_1-logloss:0.35063\n",
      "[33]\tvalidation_0-error:0.18468\tvalidation_0-logloss:0.32793\tvalidation_1-error:0.19562\tvalidation_1-logloss:0.35046\n",
      "[34]\tvalidation_0-error:0.18448\tvalidation_0-logloss:0.32761\tvalidation_1-error:0.19562\tvalidation_1-logloss:0.35056\n",
      "[35]\tvalidation_0-error:0.18452\tvalidation_0-logloss:0.32684\tvalidation_1-error:0.19550\tvalidation_1-logloss:0.35032\n",
      "[36]\tvalidation_0-error:0.18417\tvalidation_0-logloss:0.32560\tvalidation_1-error:0.19550\tvalidation_1-logloss:0.35003\n",
      "[37]\tvalidation_0-error:0.18350\tvalidation_0-logloss:0.32400\tvalidation_1-error:0.19467\tvalidation_1-logloss:0.34954\n",
      "[38]\tvalidation_0-error:0.18216\tvalidation_0-logloss:0.32271\tvalidation_1-error:0.19397\tvalidation_1-logloss:0.34964\n",
      "[39]\tvalidation_0-error:0.18118\tvalidation_0-logloss:0.32186\tvalidation_1-error:0.19302\tvalidation_1-logloss:0.34944\n",
      "[40]\tvalidation_0-error:0.18079\tvalidation_0-logloss:0.32083\tvalidation_1-error:0.19279\tvalidation_1-logloss:0.34883\n",
      "[41]\tvalidation_0-error:0.18040\tvalidation_0-logloss:0.32045\tvalidation_1-error:0.19279\tvalidation_1-logloss:0.34872\n",
      "[42]\tvalidation_0-error:0.18016\tvalidation_0-logloss:0.31936\tvalidation_1-error:0.19302\tvalidation_1-logloss:0.34817\n",
      "[43]\tvalidation_0-error:0.17996\tvalidation_0-logloss:0.31876\tvalidation_1-error:0.19291\tvalidation_1-logloss:0.34815\n",
      "[44]\tvalidation_0-error:0.17867\tvalidation_0-logloss:0.31717\tvalidation_1-error:0.19279\tvalidation_1-logloss:0.34808\n",
      "[45]\tvalidation_0-error:0.17831\tvalidation_0-logloss:0.31596\tvalidation_1-error:0.19267\tvalidation_1-logloss:0.34784\n",
      "[46]\tvalidation_0-error:0.17784\tvalidation_0-logloss:0.31532\tvalidation_1-error:0.19220\tvalidation_1-logloss:0.34754\n",
      "[47]\tvalidation_0-error:0.17784\tvalidation_0-logloss:0.31465\tvalidation_1-error:0.19149\tvalidation_1-logloss:0.34766\n",
      "[48]\tvalidation_0-error:0.17765\tvalidation_0-logloss:0.31319\tvalidation_1-error:0.19243\tvalidation_1-logloss:0.34763\n",
      "[49]\tvalidation_0-error:0.17702\tvalidation_0-logloss:0.31233\tvalidation_1-error:0.19232\tvalidation_1-logloss:0.34750\n",
      "[50]\tvalidation_0-error:0.17509\tvalidation_0-logloss:0.31080\tvalidation_1-error:0.19126\tvalidation_1-logloss:0.34700\n",
      "[51]\tvalidation_0-error:0.17482\tvalidation_0-logloss:0.31041\tvalidation_1-error:0.19149\tvalidation_1-logloss:0.34711\n",
      "[52]\tvalidation_0-error:0.17478\tvalidation_0-logloss:0.31032\tvalidation_1-error:0.19126\tvalidation_1-logloss:0.34719\n",
      "[53]\tvalidation_0-error:0.17435\tvalidation_0-logloss:0.30971\tvalidation_1-error:0.19102\tvalidation_1-logloss:0.34710\n",
      "[54]\tvalidation_0-error:0.17336\tvalidation_0-logloss:0.30818\tvalidation_1-error:0.19043\tvalidation_1-logloss:0.34684\n",
      "[55]\tvalidation_0-error:0.17254\tvalidation_0-logloss:0.30751\tvalidation_1-error:0.19008\tvalidation_1-logloss:0.34678\n",
      "[56]\tvalidation_0-error:0.17238\tvalidation_0-logloss:0.30725\tvalidation_1-error:0.19020\tvalidation_1-logloss:0.34672\n",
      "[57]\tvalidation_0-error:0.17105\tvalidation_0-logloss:0.30536\tvalidation_1-error:0.18949\tvalidation_1-logloss:0.34661\n",
      "[58]\tvalidation_0-error:0.17093\tvalidation_0-logloss:0.30472\tvalidation_1-error:0.18949\tvalidation_1-logloss:0.34656\n",
      "[59]\tvalidation_0-error:0.16900\tvalidation_0-logloss:0.30375\tvalidation_1-error:0.18784\tvalidation_1-logloss:0.34632\n",
      "[60]\tvalidation_0-error:0.16849\tvalidation_0-logloss:0.30233\tvalidation_1-error:0.18749\tvalidation_1-logloss:0.34588\n",
      "[61]\tvalidation_0-error:0.16841\tvalidation_0-logloss:0.30211\tvalidation_1-error:0.18713\tvalidation_1-logloss:0.34583\n",
      "[62]\tvalidation_0-error:0.16818\tvalidation_0-logloss:0.30145\tvalidation_1-error:0.18690\tvalidation_1-logloss:0.34550\n",
      "[63]\tvalidation_0-error:0.16759\tvalidation_0-logloss:0.30081\tvalidation_1-error:0.18607\tvalidation_1-logloss:0.34526\n",
      "[64]\tvalidation_0-error:0.16720\tvalidation_0-logloss:0.29972\tvalidation_1-error:0.18584\tvalidation_1-logloss:0.34502\n",
      "[65]\tvalidation_0-error:0.16621\tvalidation_0-logloss:0.29845\tvalidation_1-error:0.18595\tvalidation_1-logloss:0.34454\n",
      "[66]\tvalidation_0-error:0.16621\tvalidation_0-logloss:0.29818\tvalidation_1-error:0.18607\tvalidation_1-logloss:0.34439\n",
      "[67]\tvalidation_0-error:0.16610\tvalidation_0-logloss:0.29797\tvalidation_1-error:0.18607\tvalidation_1-logloss:0.34427\n",
      "[68]\tvalidation_0-error:0.16586\tvalidation_0-logloss:0.29776\tvalidation_1-error:0.18607\tvalidation_1-logloss:0.34425\n",
      "[69]\tvalidation_0-error:0.16582\tvalidation_0-logloss:0.29750\tvalidation_1-error:0.18631\tvalidation_1-logloss:0.34443\n",
      "[70]\tvalidation_0-error:0.16504\tvalidation_0-logloss:0.29635\tvalidation_1-error:0.18666\tvalidation_1-logloss:0.34475\n",
      "[71]\tvalidation_0-error:0.16390\tvalidation_0-logloss:0.29536\tvalidation_1-error:0.18513\tvalidation_1-logloss:0.34445\n",
      "[72]\tvalidation_0-error:0.16366\tvalidation_0-logloss:0.29452\tvalidation_1-error:0.18360\tvalidation_1-logloss:0.34458\n",
      "[73]\tvalidation_0-error:0.16244\tvalidation_0-logloss:0.29348\tvalidation_1-error:0.18371\tvalidation_1-logloss:0.34432\n"
     ]
    },
    {
     "data": {
      "text/html": [
       "<style>#sk-container-id-38 {color: black;background-color: white;}#sk-container-id-38 pre{padding: 0;}#sk-container-id-38 div.sk-toggleable {background-color: white;}#sk-container-id-38 label.sk-toggleable__label {cursor: pointer;display: block;width: 100%;margin-bottom: 0;padding: 0.3em;box-sizing: border-box;text-align: center;}#sk-container-id-38 label.sk-toggleable__label-arrow:before {content: \"▸\";float: left;margin-right: 0.25em;color: #696969;}#sk-container-id-38 label.sk-toggleable__label-arrow:hover:before {color: black;}#sk-container-id-38 div.sk-estimator:hover label.sk-toggleable__label-arrow:before {color: black;}#sk-container-id-38 div.sk-toggleable__content {max-height: 0;max-width: 0;overflow: hidden;text-align: left;background-color: #f0f8ff;}#sk-container-id-38 div.sk-toggleable__content pre {margin: 0.2em;color: black;border-radius: 0.25em;background-color: #f0f8ff;}#sk-container-id-38 input.sk-toggleable__control:checked~div.sk-toggleable__content {max-height: 200px;max-width: 100%;overflow: auto;}#sk-container-id-38 input.sk-toggleable__control:checked~label.sk-toggleable__label-arrow:before {content: \"▾\";}#sk-container-id-38 div.sk-estimator input.sk-toggleable__control:checked~label.sk-toggleable__label {background-color: #d4ebff;}#sk-container-id-38 div.sk-label input.sk-toggleable__control:checked~label.sk-toggleable__label {background-color: #d4ebff;}#sk-container-id-38 input.sk-hidden--visually {border: 0;clip: rect(1px 1px 1px 1px);clip: rect(1px, 1px, 1px, 1px);height: 1px;margin: -1px;overflow: hidden;padding: 0;position: absolute;width: 1px;}#sk-container-id-38 div.sk-estimator {font-family: monospace;background-color: #f0f8ff;border: 1px dotted black;border-radius: 0.25em;box-sizing: border-box;margin-bottom: 0.5em;}#sk-container-id-38 div.sk-estimator:hover {background-color: #d4ebff;}#sk-container-id-38 div.sk-parallel-item::after {content: \"\";width: 100%;border-bottom: 1px solid gray;flex-grow: 1;}#sk-container-id-38 div.sk-label:hover label.sk-toggleable__label {background-color: #d4ebff;}#sk-container-id-38 div.sk-serial::before {content: \"\";position: absolute;border-left: 1px solid gray;box-sizing: border-box;top: 0;bottom: 0;left: 50%;z-index: 0;}#sk-container-id-38 div.sk-serial {display: flex;flex-direction: column;align-items: center;background-color: white;padding-right: 0.2em;padding-left: 0.2em;position: relative;}#sk-container-id-38 div.sk-item {position: relative;z-index: 1;}#sk-container-id-38 div.sk-parallel {display: flex;align-items: stretch;justify-content: center;background-color: white;position: relative;}#sk-container-id-38 div.sk-item::before, #sk-container-id-38 div.sk-parallel-item::before {content: \"\";position: absolute;border-left: 1px solid gray;box-sizing: border-box;top: 0;bottom: 0;left: 50%;z-index: -1;}#sk-container-id-38 div.sk-parallel-item {display: flex;flex-direction: column;z-index: 1;position: relative;background-color: white;}#sk-container-id-38 div.sk-parallel-item:first-child::after {align-self: flex-end;width: 50%;}#sk-container-id-38 div.sk-parallel-item:last-child::after {align-self: flex-start;width: 50%;}#sk-container-id-38 div.sk-parallel-item:only-child::after {width: 0;}#sk-container-id-38 div.sk-dashed-wrapped {border: 1px dashed gray;margin: 0 0.4em 0.5em 0.4em;box-sizing: border-box;padding-bottom: 0.4em;background-color: white;}#sk-container-id-38 div.sk-label label {font-family: monospace;font-weight: bold;display: inline-block;line-height: 1.2em;}#sk-container-id-38 div.sk-label-container {text-align: center;}#sk-container-id-38 div.sk-container {/* jupyter's `normalize.less` sets `[hidden] { display: none; }` but bootstrap.min.css set `[hidden] { display: none !important; }` so we also need the `!important` here to be able to override the default hidden behavior on the sphinx rendered scikit-learn.org. See: https://github.com/scikit-learn/scikit-learn/issues/21755 */display: inline-block !important;position: relative;}#sk-container-id-38 div.sk-text-repr-fallback {display: none;}</style><div id=\"sk-container-id-38\" class=\"sk-top-container\"><div class=\"sk-text-repr-fallback\"><pre>GridSearchCV(cv=3,\n",
       "             estimator=XGBClassifier(base_score=None, booster=None,\n",
       "                                     callbacks=None, colsample_bylevel=None,\n",
       "                                     colsample_bynode=None,\n",
       "                                     colsample_bytree=None,\n",
       "                                     early_stopping_rounds=5,\n",
       "                                     enable_categorical=False,\n",
       "                                     eval_metric=[&#x27;error&#x27;, &#x27;logloss&#x27;],\n",
       "                                     gamma=None, gpu_id=None, grow_policy=None,\n",
       "                                     importance_type=None,\n",
       "                                     interaction_constraints=None,\n",
       "                                     learning_rate=None, max_bin...\n",
       "                                     max_leaves=None, min_child_weight=None,\n",
       "                                     missing=nan, monotone_constraints=None,\n",
       "                                     n_estimators=1000, n_jobs=None,\n",
       "                                     num_parallel_tree=None, predictor=None,\n",
       "                                     random_state=None, reg_alpha=None,\n",
       "                                     reg_lambda=None, ...),\n",
       "             n_jobs=10,\n",
       "             param_grid={&#x27;colsample_bytree&#x27;: [0.6, 0.8, 1.0],\n",
       "                         &#x27;gamma&#x27;: [0.5, 1, 1.5, 2, 5], &#x27;max_depth&#x27;: [3, 4, 5],\n",
       "                         &#x27;min_child_weight&#x27;: [1, 5, 10],\n",
       "                         &#x27;subsample&#x27;: [0.6, 0.8, 1.0]},\n",
       "             scoring=&#x27;f1_micro&#x27;, verbose=3)</pre><b>In a Jupyter environment, please rerun this cell to show the HTML representation or trust the notebook. <br />On GitHub, the HTML representation is unable to render, please try loading this page with nbviewer.org.</b></div><div class=\"sk-container\" hidden><div class=\"sk-item sk-dashed-wrapped\"><div class=\"sk-label-container\"><div class=\"sk-label sk-toggleable\"><input class=\"sk-toggleable__control sk-hidden--visually\" id=\"sk-estimator-id-192\" type=\"checkbox\" ><label for=\"sk-estimator-id-192\" class=\"sk-toggleable__label sk-toggleable__label-arrow\">GridSearchCV</label><div class=\"sk-toggleable__content\"><pre>GridSearchCV(cv=3,\n",
       "             estimator=XGBClassifier(base_score=None, booster=None,\n",
       "                                     callbacks=None, colsample_bylevel=None,\n",
       "                                     colsample_bynode=None,\n",
       "                                     colsample_bytree=None,\n",
       "                                     early_stopping_rounds=5,\n",
       "                                     enable_categorical=False,\n",
       "                                     eval_metric=[&#x27;error&#x27;, &#x27;logloss&#x27;],\n",
       "                                     gamma=None, gpu_id=None, grow_policy=None,\n",
       "                                     importance_type=None,\n",
       "                                     interaction_constraints=None,\n",
       "                                     learning_rate=None, max_bin...\n",
       "                                     max_leaves=None, min_child_weight=None,\n",
       "                                     missing=nan, monotone_constraints=None,\n",
       "                                     n_estimators=1000, n_jobs=None,\n",
       "                                     num_parallel_tree=None, predictor=None,\n",
       "                                     random_state=None, reg_alpha=None,\n",
       "                                     reg_lambda=None, ...),\n",
       "             n_jobs=10,\n",
       "             param_grid={&#x27;colsample_bytree&#x27;: [0.6, 0.8, 1.0],\n",
       "                         &#x27;gamma&#x27;: [0.5, 1, 1.5, 2, 5], &#x27;max_depth&#x27;: [3, 4, 5],\n",
       "                         &#x27;min_child_weight&#x27;: [1, 5, 10],\n",
       "                         &#x27;subsample&#x27;: [0.6, 0.8, 1.0]},\n",
       "             scoring=&#x27;f1_micro&#x27;, verbose=3)</pre></div></div></div><div class=\"sk-parallel\"><div class=\"sk-parallel-item\"><div class=\"sk-item\"><div class=\"sk-label-container\"><div class=\"sk-label sk-toggleable\"><input class=\"sk-toggleable__control sk-hidden--visually\" id=\"sk-estimator-id-193\" type=\"checkbox\" ><label for=\"sk-estimator-id-193\" class=\"sk-toggleable__label sk-toggleable__label-arrow\">estimator: XGBClassifier</label><div class=\"sk-toggleable__content\"><pre>XGBClassifier(base_score=None, booster=None, callbacks=None,\n",
       "              colsample_bylevel=None, colsample_bynode=None,\n",
       "              colsample_bytree=None, early_stopping_rounds=5,\n",
       "              enable_categorical=False, eval_metric=[&#x27;error&#x27;, &#x27;logloss&#x27;],\n",
       "              gamma=None, gpu_id=None, grow_policy=None, importance_type=None,\n",
       "              interaction_constraints=None, learning_rate=None, max_bin=None,\n",
       "              max_cat_to_onehot=None, max_delta_step=None, max_depth=None,\n",
       "              max_leaves=None, min_child_weight=None, missing=nan,\n",
       "              monotone_constraints=None, n_estimators=1000, n_jobs=None,\n",
       "              num_parallel_tree=None, predictor=None, random_state=None,\n",
       "              reg_alpha=None, reg_lambda=None, ...)</pre></div></div></div><div class=\"sk-serial\"><div class=\"sk-item\"><div class=\"sk-estimator sk-toggleable\"><input class=\"sk-toggleable__control sk-hidden--visually\" id=\"sk-estimator-id-194\" type=\"checkbox\" ><label for=\"sk-estimator-id-194\" class=\"sk-toggleable__label sk-toggleable__label-arrow\">XGBClassifier</label><div class=\"sk-toggleable__content\"><pre>XGBClassifier(base_score=None, booster=None, callbacks=None,\n",
       "              colsample_bylevel=None, colsample_bynode=None,\n",
       "              colsample_bytree=None, early_stopping_rounds=5,\n",
       "              enable_categorical=False, eval_metric=[&#x27;error&#x27;, &#x27;logloss&#x27;],\n",
       "              gamma=None, gpu_id=None, grow_policy=None, importance_type=None,\n",
       "              interaction_constraints=None, learning_rate=None, max_bin=None,\n",
       "              max_cat_to_onehot=None, max_delta_step=None, max_depth=None,\n",
       "              max_leaves=None, min_child_weight=None, missing=nan,\n",
       "              monotone_constraints=None, n_estimators=1000, n_jobs=None,\n",
       "              num_parallel_tree=None, predictor=None, random_state=None,\n",
       "              reg_alpha=None, reg_lambda=None, ...)</pre></div></div></div></div></div></div></div></div></div></div>"
      ],
      "text/plain": [
       "GridSearchCV(cv=3,\n",
       "             estimator=XGBClassifier(base_score=None, booster=None,\n",
       "                                     callbacks=None, colsample_bylevel=None,\n",
       "                                     colsample_bynode=None,\n",
       "                                     colsample_bytree=None,\n",
       "                                     early_stopping_rounds=5,\n",
       "                                     enable_categorical=False,\n",
       "                                     eval_metric=['error', 'logloss'],\n",
       "                                     gamma=None, gpu_id=None, grow_policy=None,\n",
       "                                     importance_type=None,\n",
       "                                     interaction_constraints=None,\n",
       "                                     learning_rate=None, max_bin...\n",
       "                                     max_leaves=None, min_child_weight=None,\n",
       "                                     missing=nan, monotone_constraints=None,\n",
       "                                     n_estimators=1000, n_jobs=None,\n",
       "                                     num_parallel_tree=None, predictor=None,\n",
       "                                     random_state=None, reg_alpha=None,\n",
       "                                     reg_lambda=None, ...),\n",
       "             n_jobs=10,\n",
       "             param_grid={'colsample_bytree': [0.6, 0.8, 1.0],\n",
       "                         'gamma': [0.5, 1, 1.5, 2, 5], 'max_depth': [3, 4, 5],\n",
       "                         'min_child_weight': [1, 5, 10],\n",
       "                         'subsample': [0.6, 0.8, 1.0]},\n",
       "             scoring='f1_micro', verbose=3)"
      ]
     },
     "execution_count": 642,
     "metadata": {},
     "output_type": "execute_result"
    }
   ],
   "source": [
    "grid_search.fit(X_train, y_train, eval_set=[(X_train, y_train), (X_val, y_val)])\n",
    "# grid_search.fit(X_train, y_train)"
   ]
  },
  {
   "cell_type": "code",
   "execution_count": 632,
   "id": "9fc376c7-0b5e-4235-8515-8bb1975d4310",
   "metadata": {},
   "outputs": [],
   "source": [
    "model = grid_search.best_estimator_"
   ]
  },
  {
   "cell_type": "code",
   "execution_count": 648,
   "id": "d45b45d2-2ab1-4ce0-b867-d753133bf4d5",
   "metadata": {},
   "outputs": [
    {
     "data": {
      "text/html": [
       "<style>#sk-container-id-39 {color: black;background-color: white;}#sk-container-id-39 pre{padding: 0;}#sk-container-id-39 div.sk-toggleable {background-color: white;}#sk-container-id-39 label.sk-toggleable__label {cursor: pointer;display: block;width: 100%;margin-bottom: 0;padding: 0.3em;box-sizing: border-box;text-align: center;}#sk-container-id-39 label.sk-toggleable__label-arrow:before {content: \"▸\";float: left;margin-right: 0.25em;color: #696969;}#sk-container-id-39 label.sk-toggleable__label-arrow:hover:before {color: black;}#sk-container-id-39 div.sk-estimator:hover label.sk-toggleable__label-arrow:before {color: black;}#sk-container-id-39 div.sk-toggleable__content {max-height: 0;max-width: 0;overflow: hidden;text-align: left;background-color: #f0f8ff;}#sk-container-id-39 div.sk-toggleable__content pre {margin: 0.2em;color: black;border-radius: 0.25em;background-color: #f0f8ff;}#sk-container-id-39 input.sk-toggleable__control:checked~div.sk-toggleable__content {max-height: 200px;max-width: 100%;overflow: auto;}#sk-container-id-39 input.sk-toggleable__control:checked~label.sk-toggleable__label-arrow:before {content: \"▾\";}#sk-container-id-39 div.sk-estimator input.sk-toggleable__control:checked~label.sk-toggleable__label {background-color: #d4ebff;}#sk-container-id-39 div.sk-label input.sk-toggleable__control:checked~label.sk-toggleable__label {background-color: #d4ebff;}#sk-container-id-39 input.sk-hidden--visually {border: 0;clip: rect(1px 1px 1px 1px);clip: rect(1px, 1px, 1px, 1px);height: 1px;margin: -1px;overflow: hidden;padding: 0;position: absolute;width: 1px;}#sk-container-id-39 div.sk-estimator {font-family: monospace;background-color: #f0f8ff;border: 1px dotted black;border-radius: 0.25em;box-sizing: border-box;margin-bottom: 0.5em;}#sk-container-id-39 div.sk-estimator:hover {background-color: #d4ebff;}#sk-container-id-39 div.sk-parallel-item::after {content: \"\";width: 100%;border-bottom: 1px solid gray;flex-grow: 1;}#sk-container-id-39 div.sk-label:hover label.sk-toggleable__label {background-color: #d4ebff;}#sk-container-id-39 div.sk-serial::before {content: \"\";position: absolute;border-left: 1px solid gray;box-sizing: border-box;top: 0;bottom: 0;left: 50%;z-index: 0;}#sk-container-id-39 div.sk-serial {display: flex;flex-direction: column;align-items: center;background-color: white;padding-right: 0.2em;padding-left: 0.2em;position: relative;}#sk-container-id-39 div.sk-item {position: relative;z-index: 1;}#sk-container-id-39 div.sk-parallel {display: flex;align-items: stretch;justify-content: center;background-color: white;position: relative;}#sk-container-id-39 div.sk-item::before, #sk-container-id-39 div.sk-parallel-item::before {content: \"\";position: absolute;border-left: 1px solid gray;box-sizing: border-box;top: 0;bottom: 0;left: 50%;z-index: -1;}#sk-container-id-39 div.sk-parallel-item {display: flex;flex-direction: column;z-index: 1;position: relative;background-color: white;}#sk-container-id-39 div.sk-parallel-item:first-child::after {align-self: flex-end;width: 50%;}#sk-container-id-39 div.sk-parallel-item:last-child::after {align-self: flex-start;width: 50%;}#sk-container-id-39 div.sk-parallel-item:only-child::after {width: 0;}#sk-container-id-39 div.sk-dashed-wrapped {border: 1px dashed gray;margin: 0 0.4em 0.5em 0.4em;box-sizing: border-box;padding-bottom: 0.4em;background-color: white;}#sk-container-id-39 div.sk-label label {font-family: monospace;font-weight: bold;display: inline-block;line-height: 1.2em;}#sk-container-id-39 div.sk-label-container {text-align: center;}#sk-container-id-39 div.sk-container {/* jupyter's `normalize.less` sets `[hidden] { display: none; }` but bootstrap.min.css set `[hidden] { display: none !important; }` so we also need the `!important` here to be able to override the default hidden behavior on the sphinx rendered scikit-learn.org. See: https://github.com/scikit-learn/scikit-learn/issues/21755 */display: inline-block !important;position: relative;}#sk-container-id-39 div.sk-text-repr-fallback {display: none;}</style><div id=\"sk-container-id-39\" class=\"sk-top-container\"><div class=\"sk-text-repr-fallback\"><pre>XGBClassifier(base_score=0.5, booster=&#x27;gbtree&#x27;, callbacks=None,\n",
       "              colsample_bylevel=1, colsample_bynode=1, colsample_bytree=1.0,\n",
       "              early_stopping_rounds=5, enable_categorical=False,\n",
       "              eval_metric=[&#x27;error&#x27;, &#x27;logloss&#x27;], gamma=1, gpu_id=-1,\n",
       "              grow_policy=&#x27;depthwise&#x27;, importance_type=None,\n",
       "              interaction_constraints=&#x27;&#x27;, learning_rate=0.300000012,\n",
       "              max_bin=256, max_cat_to_onehot=4, max_delta_step=0, max_depth=5,\n",
       "              max_leaves=0, min_child_weight=1, missing=nan,\n",
       "              monotone_constraints=&#x27;()&#x27;, n_estimators=1000, n_jobs=0,\n",
       "              num_parallel_tree=1, predictor=&#x27;auto&#x27;, random_state=0,\n",
       "              reg_alpha=0, reg_lambda=1, ...)</pre><b>In a Jupyter environment, please rerun this cell to show the HTML representation or trust the notebook. <br />On GitHub, the HTML representation is unable to render, please try loading this page with nbviewer.org.</b></div><div class=\"sk-container\" hidden><div class=\"sk-item\"><div class=\"sk-estimator sk-toggleable\"><input class=\"sk-toggleable__control sk-hidden--visually\" id=\"sk-estimator-id-195\" type=\"checkbox\" checked><label for=\"sk-estimator-id-195\" class=\"sk-toggleable__label sk-toggleable__label-arrow\">XGBClassifier</label><div class=\"sk-toggleable__content\"><pre>XGBClassifier(base_score=0.5, booster=&#x27;gbtree&#x27;, callbacks=None,\n",
       "              colsample_bylevel=1, colsample_bynode=1, colsample_bytree=1.0,\n",
       "              early_stopping_rounds=5, enable_categorical=False,\n",
       "              eval_metric=[&#x27;error&#x27;, &#x27;logloss&#x27;], gamma=1, gpu_id=-1,\n",
       "              grow_policy=&#x27;depthwise&#x27;, importance_type=None,\n",
       "              interaction_constraints=&#x27;&#x27;, learning_rate=0.300000012,\n",
       "              max_bin=256, max_cat_to_onehot=4, max_delta_step=0, max_depth=5,\n",
       "              max_leaves=0, min_child_weight=1, missing=nan,\n",
       "              monotone_constraints=&#x27;()&#x27;, n_estimators=1000, n_jobs=0,\n",
       "              num_parallel_tree=1, predictor=&#x27;auto&#x27;, random_state=0,\n",
       "              reg_alpha=0, reg_lambda=1, ...)</pre></div></div></div></div></div>"
      ],
      "text/plain": [
       "XGBClassifier(base_score=0.5, booster='gbtree', callbacks=None,\n",
       "              colsample_bylevel=1, colsample_bynode=1, colsample_bytree=1.0,\n",
       "              early_stopping_rounds=5, enable_categorical=False,\n",
       "              eval_metric=['error', 'logloss'], gamma=1, gpu_id=-1,\n",
       "              grow_policy='depthwise', importance_type=None,\n",
       "              interaction_constraints='', learning_rate=0.300000012,\n",
       "              max_bin=256, max_cat_to_onehot=4, max_delta_step=0, max_depth=5,\n",
       "              max_leaves=0, min_child_weight=1, missing=nan,\n",
       "              monotone_constraints='()', n_estimators=1000, n_jobs=0,\n",
       "              num_parallel_tree=1, predictor='auto', random_state=0,\n",
       "              reg_alpha=0, reg_lambda=1, ...)"
      ]
     },
     "execution_count": 648,
     "metadata": {},
     "output_type": "execute_result"
    }
   ],
   "source": [
    "model"
   ]
  },
  {
   "cell_type": "code",
   "execution_count": 634,
   "id": "a1a66470-b704-445b-9c62-4e7f15c1a467",
   "metadata": {},
   "outputs": [],
   "source": [
    "prob = model.predict_proba(X_val)"
   ]
  },
  {
   "cell_type": "code",
   "execution_count": 635,
   "id": "9686f722-7d27-4764-b57a-bb99179bba07",
   "metadata": {},
   "outputs": [],
   "source": [
    "preds = prob[:, 1]"
   ]
  },
  {
   "cell_type": "code",
   "execution_count": 636,
   "id": "f2ab6870-c0af-43b5-995f-ce39e8b957b7",
   "metadata": {},
   "outputs": [
    {
     "data": {
      "text/plain": [
       "<matplotlib.legend.Legend at 0x1ed5abb2e20>"
      ]
     },
     "execution_count": 646,
     "metadata": {},
     "output_type": "execute_result"
    },
    {
     "data": {
      "image/png": "[encoded data removed]",
      "text/plain": [
       "<Figure size 720x504 with 1 Axes>"
      ]
     },
     "metadata": {
      "needs_background": "light"
     },
     "output_type": "display_data"
    },
    {
     "data": {
      "image/png": "[encoded data removed]",
      "text/plain": [
       "<Figure size 720x504 with 1 Axes>"
      ]
     },
     "metadata": {
      "needs_background": "light"
     },
     "output_type": "display_data"
    }
   ],
   "source": [
    "results = model.evals_result()\n",
    "\n",
    "plt.figure(figsize=(10,7))\n",
    "plt.plot(results[\"validation_0\"][\"logloss\"], label=\"Training loss\")\n",
    "plt.plot(results[\"validation_1\"][\"logloss\"], label=\"Validation loss\")\n",
    "plt.axvline(21, color=\"gray\", label=\"Optimal tree number\")\n",
    "plt.xlabel(\"Number of trees\")\n",
    "plt.ylabel(\"Loss\")\n",
    "plt.legend()\n",
    "\n",
    "plt.figure(figsize=(10,7))\n",
    "plt.plot(results[\"validation_0\"][\"error\"], label=\"Training Error\")\n",
    "plt.plot(results[\"validation_1\"][\"error\"], label=\"Validation Error\")\n",
    "plt.axvline(21, color=\"gray\", label=\"Optimal tree number\")\n",
    "plt.xlabel(\"Number of trees\")\n",
    "plt.ylabel(\"Loss\")\n",
    "plt.legend()"
   ]
  },
  {
   "cell_type": "code",
   "execution_count": 637,
   "id": "d1a8b0ed-b16e-47b5-87c5-a21d25a7ddb7",
   "metadata": {},
   "outputs": [
    {
     "name": "stdout",
     "output_type": "stream",
     "text": [
      "Best Threshold=0.369292, G-Mean=0.848\n"
     ]
    },
    {
     "data": {
      "image/png": "[encoded data removed]",
      "text/plain": [
       "<Figure size 432x288 with 1 Axes>"
      ]
     },
     "metadata": {
      "needs_background": "light"
     },
     "output_type": "display_data"
    },
    {
     "name": "stdout",
     "output_type": "stream",
     "text": [
      "Best Threshold=0.656464, F-Score=0.577\n"
     ]
    },
    {
     "data": {
      "image/png": "[encoded data removed]",
      "text/plain": [
       "<Figure size 432x288 with 1 Axes>"
      ]
     },
     "metadata": {
      "needs_background": "light"
     },
     "output_type": "display_data"
    }
   ],
   "source": [
    "probs = model.predict_proba(X_val, ntree_limit=25)\n",
    "# probs = clf.predict_proba(X_val)\n",
    "\n",
    "preds = probs[:,1]\n",
    "fpr, tpr, threshold = metrics.roc_curve(y_val, preds)\n",
    "roc_auc = metrics.auc(fpr, tpr)\n",
    "\n",
    "gmeans = sqrt(tpr * (1-fpr))\n",
    "# locate the index of the largest g-mean\n",
    "ix = argmax(gmeans)\n",
    "print('Best Threshold=%f, G-Mean=%.3f' % (threshold[ix], gmeans[ix]))\n",
    "# plot the roc curve for the model\n",
    "pyplot.plot([0,1], [0,1], linestyle='--', label='No Skill')\n",
    "pyplot.plot(fpr, tpr, label='Logistic')\n",
    "pyplot.scatter(fpr[ix], tpr[ix], marker='o', color='black', label='Best')\n",
    "# axis labels\n",
    "pyplot.xlabel('False Positive Rate')\n",
    "pyplot.ylabel('True Positive Rate')\n",
    "pyplot.legend()\n",
    "# show the plot\n",
    "pyplot.show()\n",
    "\n",
    "\n",
    "precision, recall, thresholds = metrics.precision_recall_curve(y_val, preds)\n",
    "# convert to f score\n",
    "fscore = (2 * precision * recall) / (precision + recall)\n",
    "# locate the index of the largest f score\n",
    "ix = argmax(fscore)\n",
    "print('Best Threshold=%f, F-Score=%.3f' % (thresholds[ix], fscore[ix]))\n",
    "# plot the roc curve for the model\n",
    "no_skill = len(y_val[y_val==1]) / len(y_val)\n",
    "pyplot.plot([0,1], [no_skill,no_skill], linestyle='--', label='No Skill')\n",
    "pyplot.plot(recall, precision, label='Logistic')\n",
    "pyplot.scatter(recall[ix], precision[ix], marker='o', color='black', label='Best')\n",
    "# axis labels\n",
    "pyplot.xlabel('Recall')\n",
    "pyplot.ylabel('Precision')\n",
    "pyplot.legend()\n",
    "# show the plot\n",
    "pyplot.show()"
   ]
  },
  {
   "cell_type": "code",
   "execution_count": 649,
   "id": "474b48b7-dd6a-4038-a56d-1f077a4bc682",
   "metadata": {},
   "outputs": [],
   "source": [
    "train_data_46 = train_data.loc[train_data['region_code'] == '46.0']\n",
    "train_data_46 = train_data_46.loc[:, train_data_46.columns!='region_code']"
   ]
  },
  {
   "cell_type": "code",
   "execution_count": 650,
   "id": "45455d37-a7ab-47fc-860c-7858e0ea3467",
   "metadata": {},
   "outputs": [
    {
     "data": {
      "text/plain": [
       "['car__policy_sales_channel',\n",
       " 'cat__driving_license_1',\n",
       " 'cat__vehicle_age_gt_2_year',\n",
       " 'num__days_since_insured',\n",
       " 'cat__vehicle_damage_No',\n",
       " 'num__age',\n",
       " 'cat__vehicle_age_lt_1_year',\n",
       " 'cat__previously_insured_0',\n",
       " 'cat__vehicle_damage_Yes',\n",
       " 'cat__previously_insured_1',\n",
       " 'cat__driving_license_0',\n",
       " 'cat__vehicle_age_bt_1_2_year',\n",
       " 'num__annual_premium',\n",
       " 'cat__gender_Female',\n",
       " 'cat__gender_Male']"
      ]
     },
     "execution_count": 650,
     "metadata": {},
     "output_type": "execute_result"
    }
   ],
   "source": [
    "train_transformed_46 = pipeline1.fit_transform(train_data_46)\n",
    "df_46 = pd.DataFrame(train_transformed_46, columns = pipeline1.get_feature_names_out())\n",
    "\n",
    "removed_cols = set(['id__cust_id', 'target__response'])\n",
    "all_cols = df_46.columns \n",
    "train_cols = list(set(all_cols) - removed_cols)\n",
    "train_cols"
   ]
  },
  {
   "cell_type": "code",
   "execution_count": 652,
   "id": "c5737345-2892-4b5a-ac41-21dd3f475ee1",
   "metadata": {},
   "outputs": [
    {
     "data": {
      "text/plain": [
       "6"
      ]
     },
     "execution_count": 652,
     "metadata": {},
     "output_type": "execute_result"
    }
   ],
   "source": [
    "X_train, X_val, y_train, y_val = train_test_split(df_46[train_cols].astype('float'), df_46['target__response'].astype('float'), random_state=31)\n",
    "\n",
    "ratio = _calculate_pos_weight_ratio(y_train)\n",
    "ratio"
   ]
  },
  {
   "cell_type": "code",
   "execution_count": 653,
   "id": "b2ac0257-681f-4872-a363-1ab3e0f5a978",
   "metadata": {},
   "outputs": [],
   "source": [
    "clf = xgb.XGBClassifier(scale_pos_weight=ratio, objective='binary:logistic', early_stopping_rounds=5, n_estimators=1000, eval_metric=[\"error\", \"logloss\"])"
   ]
  },
  {
   "cell_type": "code",
   "execution_count": 654,
   "id": "9f1030ea-86c2-4a34-99eb-435f03d4ecc7",
   "metadata": {},
   "outputs": [],
   "source": [
    "grid_search = GridSearchCV(\n",
    "    estimator=clf,\n",
    "    param_grid=parameters,\n",
    "    scoring = 'roc_auc',\n",
    "    n_jobs = 10,\n",
    "    cv = 3,\n",
    "    verbose=3\n",
    ")"
   ]
  },
  {
   "cell_type": "code",
   "execution_count": 655,
   "id": "38060392-6ee1-41f7-933e-452a8ffcc878",
   "metadata": {},
   "outputs": [
    {
     "name": "stdout",
     "output_type": "stream",
     "text": [
      "Fitting 3 folds for each of 405 candidates, totalling 1215 fits\n",
      "[0]\tvalidation_0-error:0.20954\tvalidation_0-logloss:0.55194\tvalidation_1-error:0.21342\tvalidation_1-logloss:0.55370\n",
      "[1]\tvalidation_0-error:0.18413\tvalidation_0-logloss:0.48029\tvalidation_1-error:0.18808\tvalidation_1-logloss:0.48286\n",
      "[2]\tvalidation_0-error:0.21324\tvalidation_0-logloss:0.43972\tvalidation_1-error:0.21758\tvalidation_1-logloss:0.44282\n",
      "[3]\tvalidation_0-error:0.19766\tvalidation_0-logloss:0.41352\tvalidation_1-error:0.20016\tvalidation_1-logloss:0.41705\n",
      "[4]\tvalidation_0-error:0.19872\tvalidation_0-logloss:0.39724\tvalidation_1-error:0.20115\tvalidation_1-logloss:0.40096\n",
      "[5]\tvalidation_0-error:0.21020\tvalidation_0-logloss:0.38710\tvalidation_1-error:0.21184\tvalidation_1-logloss:0.39065\n",
      "[6]\tvalidation_0-error:0.20017\tvalidation_0-logloss:0.37888\tvalidation_1-error:0.20293\tvalidation_1-logloss:0.38241\n",
      "[7]\tvalidation_0-error:0.20096\tvalidation_0-logloss:0.37374\tvalidation_1-error:0.20412\tvalidation_1-logloss:0.37789\n",
      "[8]\tvalidation_0-error:0.19443\tvalidation_0-logloss:0.36863\tvalidation_1-error:0.19778\tvalidation_1-logloss:0.37335\n",
      "[9]\tvalidation_0-error:0.19087\tvalidation_0-logloss:0.36583\tvalidation_1-error:0.19461\tvalidation_1-logloss:0.37041\n",
      "[10]\tvalidation_0-error:0.19304\tvalidation_0-logloss:0.36311\tvalidation_1-error:0.19620\tvalidation_1-logloss:0.36771\n",
      "[11]\tvalidation_0-error:0.19304\tvalidation_0-logloss:0.36073\tvalidation_1-error:0.19679\tvalidation_1-logloss:0.36610\n",
      "[12]\tvalidation_0-error:0.19337\tvalidation_0-logloss:0.35927\tvalidation_1-error:0.19659\tvalidation_1-logloss:0.36501\n",
      "[13]\tvalidation_0-error:0.19291\tvalidation_0-logloss:0.35756\tvalidation_1-error:0.19600\tvalidation_1-logloss:0.36352\n",
      "[14]\tvalidation_0-error:0.19238\tvalidation_0-logloss:0.35545\tvalidation_1-error:0.19600\tvalidation_1-logloss:0.36197\n",
      "[15]\tvalidation_0-error:0.19126\tvalidation_0-logloss:0.35439\tvalidation_1-error:0.19422\tvalidation_1-logloss:0.36128\n",
      "[16]\tvalidation_0-error:0.19047\tvalidation_0-logloss:0.35347\tvalidation_1-error:0.19363\tvalidation_1-logloss:0.36089\n",
      "[17]\tvalidation_0-error:0.19034\tvalidation_0-logloss:0.35304\tvalidation_1-error:0.19382\tvalidation_1-logloss:0.36039\n",
      "[18]\tvalidation_0-error:0.18968\tvalidation_0-logloss:0.35255\tvalidation_1-error:0.19363\tvalidation_1-logloss:0.35993\n",
      "[19]\tvalidation_0-error:0.18968\tvalidation_0-logloss:0.35153\tvalidation_1-error:0.19422\tvalidation_1-logloss:0.35942\n",
      "[20]\tvalidation_0-error:0.18842\tvalidation_0-logloss:0.34925\tvalidation_1-error:0.19343\tvalidation_1-logloss:0.35742\n",
      "[21]\tvalidation_0-error:0.18816\tvalidation_0-logloss:0.34894\tvalidation_1-error:0.19363\tvalidation_1-logloss:0.35734\n",
      "[22]\tvalidation_0-error:0.18710\tvalidation_0-logloss:0.34685\tvalidation_1-error:0.19283\tvalidation_1-logloss:0.35655\n",
      "[23]\tvalidation_0-error:0.18677\tvalidation_0-logloss:0.34561\tvalidation_1-error:0.19125\tvalidation_1-logloss:0.35645\n",
      "[24]\tvalidation_0-error:0.18460\tvalidation_0-logloss:0.34355\tvalidation_1-error:0.19066\tvalidation_1-logloss:0.35581\n",
      "[25]\tvalidation_0-error:0.18446\tvalidation_0-logloss:0.34251\tvalidation_1-error:0.19026\tvalidation_1-logloss:0.35556\n",
      "[26]\tvalidation_0-error:0.18288\tvalidation_0-logloss:0.34059\tvalidation_1-error:0.18986\tvalidation_1-logloss:0.35422\n",
      "[27]\tvalidation_0-error:0.18248\tvalidation_0-logloss:0.33947\tvalidation_1-error:0.18927\tvalidation_1-logloss:0.35410\n",
      "[28]\tvalidation_0-error:0.18248\tvalidation_0-logloss:0.33947\tvalidation_1-error:0.18947\tvalidation_1-logloss:0.35407\n",
      "[29]\tvalidation_0-error:0.18097\tvalidation_0-logloss:0.33690\tvalidation_1-error:0.18729\tvalidation_1-logloss:0.35313\n",
      "[30]\tvalidation_0-error:0.18123\tvalidation_0-logloss:0.33669\tvalidation_1-error:0.18749\tvalidation_1-logloss:0.35318\n",
      "[31]\tvalidation_0-error:0.18097\tvalidation_0-logloss:0.33582\tvalidation_1-error:0.18689\tvalidation_1-logloss:0.35355\n",
      "[32]\tvalidation_0-error:0.18077\tvalidation_0-logloss:0.33529\tvalidation_1-error:0.18709\tvalidation_1-logloss:0.35323\n",
      "[33]\tvalidation_0-error:0.17813\tvalidation_0-logloss:0.33429\tvalidation_1-error:0.18788\tvalidation_1-logloss:0.35306\n",
      "[34]\tvalidation_0-error:0.17780\tvalidation_0-logloss:0.33310\tvalidation_1-error:0.18808\tvalidation_1-logloss:0.35234\n",
      "[35]\tvalidation_0-error:0.17740\tvalidation_0-logloss:0.33209\tvalidation_1-error:0.18828\tvalidation_1-logloss:0.35208\n",
      "[36]\tvalidation_0-error:0.17734\tvalidation_0-logloss:0.33106\tvalidation_1-error:0.18907\tvalidation_1-logloss:0.35156\n",
      "[37]\tvalidation_0-error:0.17701\tvalidation_0-logloss:0.33088\tvalidation_1-error:0.18887\tvalidation_1-logloss:0.35171\n",
      "[38]\tvalidation_0-error:0.17575\tvalidation_0-logloss:0.32969\tvalidation_1-error:0.18907\tvalidation_1-logloss:0.35105\n",
      "[39]\tvalidation_0-error:0.17522\tvalidation_0-logloss:0.32910\tvalidation_1-error:0.18887\tvalidation_1-logloss:0.35089\n",
      "[40]\tvalidation_0-error:0.17371\tvalidation_0-logloss:0.32809\tvalidation_1-error:0.18788\tvalidation_1-logloss:0.35078\n",
      "[41]\tvalidation_0-error:0.17371\tvalidation_0-logloss:0.32810\tvalidation_1-error:0.18788\tvalidation_1-logloss:0.35079\n",
      "[42]\tvalidation_0-error:0.17371\tvalidation_0-logloss:0.32811\tvalidation_1-error:0.18788\tvalidation_1-logloss:0.35080\n",
      "[43]\tvalidation_0-error:0.17371\tvalidation_0-logloss:0.32811\tvalidation_1-error:0.18788\tvalidation_1-logloss:0.35080\n",
      "[44]\tvalidation_0-error:0.17371\tvalidation_0-logloss:0.32812\tvalidation_1-error:0.18788\tvalidation_1-logloss:0.35081\n",
      "[45]\tvalidation_0-error:0.17371\tvalidation_0-logloss:0.32812\tvalidation_1-error:0.18788\tvalidation_1-logloss:0.35081\n"
     ]
    },
    {
     "data": {
      "text/html": [
       "<style>#sk-container-id-40 {color: black;background-color: white;}#sk-container-id-40 pre{padding: 0;}#sk-container-id-40 div.sk-toggleable {background-color: white;}#sk-container-id-40 label.sk-toggleable__label {cursor: pointer;display: block;width: 100%;margin-bottom: 0;padding: 0.3em;box-sizing: border-box;text-align: center;}#sk-container-id-40 label.sk-toggleable__label-arrow:before {content: \"▸\";float: left;margin-right: 0.25em;color: #696969;}#sk-container-id-40 label.sk-toggleable__label-arrow:hover:before {color: black;}#sk-container-id-40 div.sk-estimator:hover label.sk-toggleable__label-arrow:before {color: black;}#sk-container-id-40 div.sk-toggleable__content {max-height: 0;max-width: 0;overflow: hidden;text-align: left;background-color: #f0f8ff;}#sk-container-id-40 div.sk-toggleable__content pre {margin: 0.2em;color: black;border-radius: 0.25em;background-color: #f0f8ff;}#sk-container-id-40 input.sk-toggleable__control:checked~div.sk-toggleable__content {max-height: 200px;max-width: 100%;overflow: auto;}#sk-container-id-40 input.sk-toggleable__control:checked~label.sk-toggleable__label-arrow:before {content: \"▾\";}#sk-container-id-40 div.sk-estimator input.sk-toggleable__control:checked~label.sk-toggleable__label {background-color: #d4ebff;}#sk-container-id-40 div.sk-label input.sk-toggleable__control:checked~label.sk-toggleable__label {background-color: #d4ebff;}#sk-container-id-40 input.sk-hidden--visually {border: 0;clip: rect(1px 1px 1px 1px);clip: rect(1px, 1px, 1px, 1px);height: 1px;margin: -1px;overflow: hidden;padding: 0;position: absolute;width: 1px;}#sk-container-id-40 div.sk-estimator {font-family: monospace;background-color: #f0f8ff;border: 1px dotted black;border-radius: 0.25em;box-sizing: border-box;margin-bottom: 0.5em;}#sk-container-id-40 div.sk-estimator:hover {background-color: #d4ebff;}#sk-container-id-40 div.sk-parallel-item::after {content: \"\";width: 100%;border-bottom: 1px solid gray;flex-grow: 1;}#sk-container-id-40 div.sk-label:hover label.sk-toggleable__label {background-color: #d4ebff;}#sk-container-id-40 div.sk-serial::before {content: \"\";position: absolute;border-left: 1px solid gray;box-sizing: border-box;top: 0;bottom: 0;left: 50%;z-index: 0;}#sk-container-id-40 div.sk-serial {display: flex;flex-direction: column;align-items: center;background-color: white;padding-right: 0.2em;padding-left: 0.2em;position: relative;}#sk-container-id-40 div.sk-item {position: relative;z-index: 1;}#sk-container-id-40 div.sk-parallel {display: flex;align-items: stretch;justify-content: center;background-color: white;position: relative;}#sk-container-id-40 div.sk-item::before, #sk-container-id-40 div.sk-parallel-item::before {content: \"\";position: absolute;border-left: 1px solid gray;box-sizing: border-box;top: 0;bottom: 0;left: 50%;z-index: -1;}#sk-container-id-40 div.sk-parallel-item {display: flex;flex-direction: column;z-index: 1;position: relative;background-color: white;}#sk-container-id-40 div.sk-parallel-item:first-child::after {align-self: flex-end;width: 50%;}#sk-container-id-40 div.sk-parallel-item:last-child::after {align-self: flex-start;width: 50%;}#sk-container-id-40 div.sk-parallel-item:only-child::after {width: 0;}#sk-container-id-40 div.sk-dashed-wrapped {border: 1px dashed gray;margin: 0 0.4em 0.5em 0.4em;box-sizing: border-box;padding-bottom: 0.4em;background-color: white;}#sk-container-id-40 div.sk-label label {font-family: monospace;font-weight: bold;display: inline-block;line-height: 1.2em;}#sk-container-id-40 div.sk-label-container {text-align: center;}#sk-container-id-40 div.sk-container {/* jupyter's `normalize.less` sets `[hidden] { display: none; }` but bootstrap.min.css set `[hidden] { display: none !important; }` so we also need the `!important` here to be able to override the default hidden behavior on the sphinx rendered scikit-learn.org. See: https://github.com/scikit-learn/scikit-learn/issues/21755 */display: inline-block !important;position: relative;}#sk-container-id-40 div.sk-text-repr-fallback {display: none;}</style><div id=\"sk-container-id-40\" class=\"sk-top-container\"><div class=\"sk-text-repr-fallback\"><pre>GridSearchCV(cv=3,\n",
       "             estimator=XGBClassifier(base_score=None, booster=None,\n",
       "                                     callbacks=None, colsample_bylevel=None,\n",
       "                                     colsample_bynode=None,\n",
       "                                     colsample_bytree=None,\n",
       "                                     early_stopping_rounds=5,\n",
       "                                     enable_categorical=False,\n",
       "                                     eval_metric=[&#x27;error&#x27;, &#x27;logloss&#x27;],\n",
       "                                     gamma=None, gpu_id=None, grow_policy=None,\n",
       "                                     importance_type=None,\n",
       "                                     interaction_constraints=None,\n",
       "                                     learning_rate=None, max_bin...\n",
       "                                     max_leaves=None, min_child_weight=None,\n",
       "                                     missing=nan, monotone_constraints=None,\n",
       "                                     n_estimators=1000, n_jobs=None,\n",
       "                                     num_parallel_tree=None, predictor=None,\n",
       "                                     random_state=None, reg_alpha=None,\n",
       "                                     reg_lambda=None, ...),\n",
       "             n_jobs=10,\n",
       "             param_grid={&#x27;colsample_bytree&#x27;: [0.6, 0.8, 1.0],\n",
       "                         &#x27;gamma&#x27;: [0.5, 1, 1.5, 2, 5], &#x27;max_depth&#x27;: [3, 4, 5],\n",
       "                         &#x27;min_child_weight&#x27;: [1, 5, 10],\n",
       "                         &#x27;subsample&#x27;: [0.6, 0.8, 1.0]},\n",
       "             scoring=&#x27;roc_auc&#x27;, verbose=3)</pre><b>In a Jupyter environment, please rerun this cell to show the HTML representation or trust the notebook. <br />On GitHub, the HTML representation is unable to render, please try loading this page with nbviewer.org.</b></div><div class=\"sk-container\" hidden><div class=\"sk-item sk-dashed-wrapped\"><div class=\"sk-label-container\"><div class=\"sk-label sk-toggleable\"><input class=\"sk-toggleable__control sk-hidden--visually\" id=\"sk-estimator-id-196\" type=\"checkbox\" ><label for=\"sk-estimator-id-196\" class=\"sk-toggleable__label sk-toggleable__label-arrow\">GridSearchCV</label><div class=\"sk-toggleable__content\"><pre>GridSearchCV(cv=3,\n",
       "             estimator=XGBClassifier(base_score=None, booster=None,\n",
       "                                     callbacks=None, colsample_bylevel=None,\n",
       "                                     colsample_bynode=None,\n",
       "                                     colsample_bytree=None,\n",
       "                                     early_stopping_rounds=5,\n",
       "                                     enable_categorical=False,\n",
       "                                     eval_metric=[&#x27;error&#x27;, &#x27;logloss&#x27;],\n",
       "                                     gamma=None, gpu_id=None, grow_policy=None,\n",
       "                                     importance_type=None,\n",
       "                                     interaction_constraints=None,\n",
       "                                     learning_rate=None, max_bin...\n",
       "                                     max_leaves=None, min_child_weight=None,\n",
       "                                     missing=nan, monotone_constraints=None,\n",
       "                                     n_estimators=1000, n_jobs=None,\n",
       "                                     num_parallel_tree=None, predictor=None,\n",
       "                                     random_state=None, reg_alpha=None,\n",
       "                                     reg_lambda=None, ...),\n",
       "             n_jobs=10,\n",
       "             param_grid={&#x27;colsample_bytree&#x27;: [0.6, 0.8, 1.0],\n",
       "                         &#x27;gamma&#x27;: [0.5, 1, 1.5, 2, 5], &#x27;max_depth&#x27;: [3, 4, 5],\n",
       "                         &#x27;min_child_weight&#x27;: [1, 5, 10],\n",
       "                         &#x27;subsample&#x27;: [0.6, 0.8, 1.0]},\n",
       "             scoring=&#x27;roc_auc&#x27;, verbose=3)</pre></div></div></div><div class=\"sk-parallel\"><div class=\"sk-parallel-item\"><div class=\"sk-item\"><div class=\"sk-label-container\"><div class=\"sk-label sk-toggleable\"><input class=\"sk-toggleable__control sk-hidden--visually\" id=\"sk-estimator-id-197\" type=\"checkbox\" ><label for=\"sk-estimator-id-197\" class=\"sk-toggleable__label sk-toggleable__label-arrow\">estimator: XGBClassifier</label><div class=\"sk-toggleable__content\"><pre>XGBClassifier(base_score=None, booster=None, callbacks=None,\n",
       "              colsample_bylevel=None, colsample_bynode=None,\n",
       "              colsample_bytree=None, early_stopping_rounds=5,\n",
       "              enable_categorical=False, eval_metric=[&#x27;error&#x27;, &#x27;logloss&#x27;],\n",
       "              gamma=None, gpu_id=None, grow_policy=None, importance_type=None,\n",
       "              interaction_constraints=None, learning_rate=None, max_bin=None,\n",
       "              max_cat_to_onehot=None, max_delta_step=None, max_depth=None,\n",
       "              max_leaves=None, min_child_weight=None, missing=nan,\n",
       "              monotone_constraints=None, n_estimators=1000, n_jobs=None,\n",
       "              num_parallel_tree=None, predictor=None, random_state=None,\n",
       "              reg_alpha=None, reg_lambda=None, ...)</pre></div></div></div><div class=\"sk-serial\"><div class=\"sk-item\"><div class=\"sk-estimator sk-toggleable\"><input class=\"sk-toggleable__control sk-hidden--visually\" id=\"sk-estimator-id-198\" type=\"checkbox\" ><label for=\"sk-estimator-id-198\" class=\"sk-toggleable__label sk-toggleable__label-arrow\">XGBClassifier</label><div class=\"sk-toggleable__content\"><pre>XGBClassifier(base_score=None, booster=None, callbacks=None,\n",
       "              colsample_bylevel=None, colsample_bynode=None,\n",
       "              colsample_bytree=None, early_stopping_rounds=5,\n",
       "              enable_categorical=False, eval_metric=[&#x27;error&#x27;, &#x27;logloss&#x27;],\n",
       "              gamma=None, gpu_id=None, grow_policy=None, importance_type=None,\n",
       "              interaction_constraints=None, learning_rate=None, max_bin=None,\n",
       "              max_cat_to_onehot=None, max_delta_step=None, max_depth=None,\n",
       "              max_leaves=None, min_child_weight=None, missing=nan,\n",
       "              monotone_constraints=None, n_estimators=1000, n_jobs=None,\n",
       "              num_parallel_tree=None, predictor=None, random_state=None,\n",
       "              reg_alpha=None, reg_lambda=None, ...)</pre></div></div></div></div></div></div></div></div></div></div>"
      ],
      "text/plain": [
       "GridSearchCV(cv=3,\n",
       "             estimator=XGBClassifier(base_score=None, booster=None,\n",
       "                                     callbacks=None, colsample_bylevel=None,\n",
       "                                     colsample_bynode=None,\n",
       "                                     colsample_bytree=None,\n",
       "                                     early_stopping_rounds=5,\n",
       "                                     enable_categorical=False,\n",
       "                                     eval_metric=['error', 'logloss'],\n",
       "                                     gamma=None, gpu_id=None, grow_policy=None,\n",
       "                                     importance_type=None,\n",
       "                                     interaction_constraints=None,\n",
       "                                     learning_rate=None, max_bin...\n",
       "                                     max_leaves=None, min_child_weight=None,\n",
       "                                     missing=nan, monotone_constraints=None,\n",
       "                                     n_estimators=1000, n_jobs=None,\n",
       "                                     num_parallel_tree=None, predictor=None,\n",
       "                                     random_state=None, reg_alpha=None,\n",
       "                                     reg_lambda=None, ...),\n",
       "             n_jobs=10,\n",
       "             param_grid={'colsample_bytree': [0.6, 0.8, 1.0],\n",
       "                         'gamma': [0.5, 1, 1.5, 2, 5], 'max_depth': [3, 4, 5],\n",
       "                         'min_child_weight': [1, 5, 10],\n",
       "                         'subsample': [0.6, 0.8, 1.0]},\n",
       "             scoring='roc_auc', verbose=3)"
      ]
     },
     "execution_count": 655,
     "metadata": {},
     "output_type": "execute_result"
    }
   ],
   "source": [
    "grid_search.fit(X_train, y_train, eval_set=[(X_train, y_train), (X_val, y_val)])"
   ]
  },
  {
   "cell_type": "code",
   "execution_count": 656,
   "id": "0d337344-82e2-4f97-88a3-c22cf9313689",
   "metadata": {},
   "outputs": [],
   "source": [
    "model = grid_search.best_estimator_"
   ]
  },
  {
   "cell_type": "code",
   "execution_count": 657,
   "id": "3b8ddf6b-a1df-4e5f-8ad0-6b7df3f83b4a",
   "metadata": {},
   "outputs": [
    {
     "data": {
      "text/plain": [
       "<matplotlib.legend.Legend at 0x1ed5b0a3970>"
      ]
     },
     "execution_count": 657,
     "metadata": {},
     "output_type": "execute_result"
    },
    {
     "data": {
      "image/png": "[encoded data removed]",
      "text/plain": [
       "<Figure size 720x504 with 1 Axes>"
      ]
     },
     "metadata": {
      "needs_background": "light"
     },
     "output_type": "display_data"
    },
    {
     "data": {
      "image/png": "[encoded data removed]",
      "text/plain": [
       "<Figure size 720x504 with 1 Axes>"
      ]
     },
     "metadata": {
      "needs_background": "light"
     },
     "output_type": "display_data"
    }
   ],
   "source": [
    "results = model.evals_result()\n",
    "\n",
    "plt.figure(figsize=(10,7))\n",
    "plt.plot(results[\"validation_0\"][\"logloss\"], label=\"Training loss\")\n",
    "plt.plot(results[\"validation_1\"][\"logloss\"], label=\"Validation loss\")\n",
    "plt.axvline(21, color=\"gray\", label=\"Optimal tree number\")\n",
    "plt.xlabel(\"Number of trees\")\n",
    "plt.ylabel(\"Loss\")\n",
    "plt.legend()\n",
    "\n",
    "plt.figure(figsize=(10,7))\n",
    "plt.plot(results[\"validation_0\"][\"error\"], label=\"Training Error\")\n",
    "plt.plot(results[\"validation_1\"][\"error\"], label=\"Validation Error\")\n",
    "plt.axvline(21, color=\"gray\", label=\"Optimal tree number\")\n",
    "plt.xlabel(\"Number of trees\")\n",
    "plt.ylabel(\"Loss\")\n",
    "plt.legend()"
   ]
  },
  {
   "cell_type": "code",
   "execution_count": 658,
   "id": "006f8326-41be-495f-95e6-82f98f791d0d",
   "metadata": {},
   "outputs": [
    {
     "name": "stderr",
     "output_type": "stream",
     "text": [
      "C:\\Users\\gsund\\Anaconda3\\envs\\churn\\lib\\site-packages\\xgboost\\core.py:90: UserWarning: ntree_limit is deprecated, use `iteration_range` or model slicing instead.\n",
      "  warnings.warn(\n"
     ]
    },
    {
     "name": "stdout",
     "output_type": "stream",
     "text": [
      "Best Threshold=0.535233, G-Mean=0.854\n"
     ]
    },
    {
     "data": {
      "image/png": "[encoded data removed]",
      "text/plain": [
       "<Figure size 432x288 with 1 Axes>"
      ]
     },
     "metadata": {
      "needs_background": "light"
     },
     "output_type": "display_data"
    },
    {
     "name": "stdout",
     "output_type": "stream",
     "text": [
      "Best Threshold=0.736224, F-Score=0.608\n"
     ]
    },
    {
     "data": {
      "image/png": "[encoded data removed]",
      "text/plain": [
       "<Figure size 432x288 with 1 Axes>"
      ]
     },
     "metadata": {
      "needs_background": "light"
     },
     "output_type": "display_data"
    }
   ],
   "source": [
    "probs = model.predict_proba(X_val, ntree_limit=25)\n",
    "# probs = clf.predict_proba(X_val)\n",
    "\n",
    "preds = probs[:,1]\n",
    "fpr, tpr, threshold = metrics.roc_curve(y_val, preds)\n",
    "roc_auc = metrics.auc(fpr, tpr)\n",
    "\n",
    "gmeans = sqrt(tpr * (1-fpr))\n",
    "# locate the index of the largest g-mean\n",
    "ix = argmax(gmeans)\n",
    "print('Best Threshold=%f, G-Mean=%.3f' % (threshold[ix], gmeans[ix]))\n",
    "# plot the roc curve for the model\n",
    "pyplot.plot([0,1], [0,1], linestyle='--', label='No Skill')\n",
    "pyplot.plot(fpr, tpr, label='Logistic')\n",
    "pyplot.scatter(fpr[ix], tpr[ix], marker='o', color='black', label='Best')\n",
    "# axis labels\n",
    "pyplot.xlabel('False Positive Rate')\n",
    "pyplot.ylabel('True Positive Rate')\n",
    "pyplot.legend()\n",
    "# show the plot\n",
    "pyplot.show()\n",
    "\n",
    "\n",
    "precision, recall, thresholds = metrics.precision_recall_curve(y_val, preds)\n",
    "# convert to f score\n",
    "fscore = (2 * precision * recall) / (precision + recall)\n",
    "# locate the index of the largest f score\n",
    "ix = argmax(fscore)\n",
    "print('Best Threshold=%f, F-Score=%.3f' % (thresholds[ix], fscore[ix]))\n",
    "# plot the roc curve for the model\n",
    "no_skill = len(y_val[y_val==1]) / len(y_val)\n",
    "pyplot.plot([0,1], [no_skill,no_skill], linestyle='--', label='No Skill')\n",
    "pyplot.plot(recall, precision, label='Logistic')\n",
    "pyplot.scatter(recall[ix], precision[ix], marker='o', color='black', label='Best')\n",
    "# axis labels\n",
    "pyplot.xlabel('Recall')\n",
    "pyplot.ylabel('Precision')\n",
    "pyplot.legend()\n",
    "# show the plot\n",
    "pyplot.show()"
   ]
  },
  {
   "cell_type": "code",
   "execution_count": 661,
   "id": "4ddf52da-62dc-4125-bebd-62d2999ba3bd",
   "metadata": {},
   "outputs": [
    {
     "data": {
      "image/png": "[encoded data removed]",
      "text/plain": [
       "<Figure size 432x288 with 1 Axes>"
      ]
     },
     "metadata": {
      "needs_background": "light"
     },
     "output_type": "display_data"
    }
   ],
   "source": [
    "from xgboost import XGBClassifier, plot_importance\n",
    "\n",
    "ax = plot_importance(model)"
   ]
  },
  {
   "cell_type": "code",
   "execution_count": null,
   "id": "c533f3b2-4de3-4c58-9812-f0db102a6e50",
   "metadata": {},
   "outputs": [],
   "source": []
  },
  {
   "cell_type": "code",
   "execution_count": null,
   "id": "4ec8bff6-cd08-423b-bd1f-fee757709c0d",
   "metadata": {},
   "outputs": [],
   "source": []
  },
  {
   "cell_type": "code",
   "execution_count": null,
   "id": "9f9698ef-9c1a-4eeb-8385-aa2a8e6b3994",
   "metadata": {},
   "outputs": [],
   "source": []
  },
  {
   "cell_type": "code",
   "execution_count": null,
   "id": "fcc2e88c-d0c3-431a-95a6-63c031b0c58e",
   "metadata": {},
   "outputs": [],
   "source": []
  },
  {
   "cell_type": "code",
   "execution_count": null,
   "id": "a3c64e0a-33ee-4322-ba2e-3cd4d28f8702",
   "metadata": {},
   "outputs": [],
   "source": []
  },
  {
   "cell_type": "code",
   "execution_count": null,
   "id": "43263c81-318a-4080-9449-1248c11c100f",
   "metadata": {},
   "outputs": [],
   "source": []
  },
  {
   "cell_type": "code",
   "execution_count": null,
   "id": "2f01357e-ce44-49f8-ab61-f35e0b0eb3dd",
   "metadata": {},
   "outputs": [],
   "source": []
  },
  {
   "cell_type": "code",
   "execution_count": null,
   "id": "24e736d5-8b76-45a1-a395-284ef38d2d6f",
   "metadata": {},
   "outputs": [],
   "source": []
  },
  {
   "cell_type": "code",
   "execution_count": null,
   "id": "e2756235-65c2-4d7b-9106-b037991b9abd",
   "metadata": {},
   "outputs": [],
   "source": []
  }
 ],
 "metadata": {
  "kernelspec": {
   "display_name": "Python 3 (ipykernel)",
   "language": "python",
   "name": "python3"
  },
  "language_info": {
   "codemirror_mode": {
    "name": "ipython",
    "version": 3
   },
   "file_extension": ".py",
   "mimetype": "text/x-python",
   "name": "python",
   "nbconvert_exporter": "python",
   "pygments_lexer": "ipython3",
   "version": "3.8.13"
  }
 },
 "nbformat": 4,
 "nbformat_minor": 5
}
